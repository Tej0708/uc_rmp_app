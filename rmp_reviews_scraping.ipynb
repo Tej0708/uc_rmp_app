{
 "cells": [
  {
   "cell_type": "code",
   "execution_count": 1,
   "metadata": {},
   "outputs": [],
   "source": [
    "import requests\n",
    "import json\n",
    "from bs4 import BeautifulSoup\n",
    "import pandas as pd\n",
    "import numpy as np"
   ]
  },
  {
   "cell_type": "code",
   "execution_count": 2,
   "metadata": {},
   "outputs": [],
   "source": [
    "url_sd = \"https://www.ratemyprofessors.com/search/professors/1079?q=*\"\n",
    "url_davis = \"https://www.ratemyprofessors.com/search/professors/1073?q=*\"\n",
    "url_berkeley = \"https://www.ratemyprofessors.com/search/professors/1072?q=*\"\n",
    "url_ucla = \"https://www.ratemyprofessors.com/search/professors/1075?q=*\"\n",
    "url_irvine = \"https://www.ratemyprofessors.com/search/professors/1074?q=*\"\n",
    "url_sb = \"https://www.ratemyprofessors.com/search/professors/1077?q=*\"\n",
    "url_riverside = \"https://www.ratemyprofessors.com/search/professors/1076?q=*\"\n",
    "url_merced = \"https://www.ratemyprofessors.com/search/professors/4767?q=*\"\n",
    "url_santa_cruz = \"https://www.ratemyprofessors.com/search/professors/1078?q=*\"\n",
    "\n",
    "school_ids = [\"1079\", \"1073\", \"1072\", \"1075\", \"1074\", \"1077\", \"1076\", \"4767\", \"1078\"]\n",
    "base_url = \"https://www.ratemyprofessors.com/search/professors/\"\n",
    "complete_urls = [f\"{base_url}{school_id}?q=*\" for school_id in school_ids]"
   ]
  },
  {
   "cell_type": "code",
   "execution_count": 7,
   "metadata": {},
   "outputs": [
    {
     "name": "stdout",
     "output_type": "stream",
     "text": [
      "[INFO] Scraping data for UC San Diego from https://www.ratemyprofessors.com/search/professors/1079?q=*&did=2889\n"
     ]
    },
    {
     "name": "stderr",
     "output_type": "stream",
     "text": [
      "UC San Diego: Clicking 'Show More': 1clicks [00:06,  6.24s/clicks]"
     ]
    },
    {
     "name": "stdout",
     "output_type": "stream",
     "text": [
      "[DEBUG] No more 'Show More' button or stale reference encountered.\n"
     ]
    },
    {
     "name": "stderr",
     "output_type": "stream",
     "text": [
      "\n"
     ]
    },
    {
     "name": "stdout",
     "output_type": "stream",
     "text": [
      "  Professor Average Rating Num Ratings    Department        School  \\\n",
      "0  a968b33d            2.5          13  Data Science  UC San Diego   \n",
      "1  11b6fcc2            3.7          13  Data Science  UC San Diego   \n",
      "2  9c6f5334            5.0           2  Data Science  UC San Diego   \n",
      "3  3ed2b676            3.3         106  Data Science  UC San Diego   \n",
      "4  aed83b0e            4.6           8  Data Science  UC San Diego   \n",
      "\n",
      "                                             Reviews Tags  \n",
      "0  [Prof. Salimi is the worst I've had. Lectures ...   []  \n",
      "1  [The easiest CS class you will ever take. 5 ho...   []  \n",
      "2  [Professor Hao really cares about teaching, an...   []  \n",
      "3  [Great professor, even though attendance not m...   []  \n",
      "4  [I can't say he's an unfair or hard professor,...   []  \n",
      "[INFO] Scraped 16 records for UC San Diego\n",
      "[INFO] Scraping data for UC Davis from https://www.ratemyprofessors.com/search/professors/1073?q=*&did=140\n"
     ]
    },
    {
     "name": "stderr",
     "output_type": "stream",
     "text": [
      "UC Davis: Clicking 'Show More': 12clicks [00:12,  1.03s/clicks]"
     ]
    },
    {
     "name": "stdout",
     "output_type": "stream",
     "text": [
      "[DEBUG] No more 'Show More' button or stale reference encountered.\n"
     ]
    },
    {
     "name": "stderr",
     "output_type": "stream",
     "text": [
      "\n"
     ]
    },
    {
     "name": "stdout",
     "output_type": "stream",
     "text": [
      "  Professor Average Rating Num Ratings  Department    School  \\\n",
      "0  cd3aa54f            2.4         250  Statistics  UC Davis   \n",
      "1  686e5a8a            3.8         211  Statistics  UC Davis   \n",
      "2  d93ba308            4.7          55  Statistics  UC Davis   \n",
      "3  de08aacd            3.0          33  Statistics  UC Davis   \n",
      "4  a7a92166            4.5          92  Statistics  UC Davis   \n",
      "\n",
      "                                             Reviews Tags  \n",
      "0  [I have him right now, and he's the worst prof...   []  \n",
      "1  [Dr. Whitener is the BEST; she provides every ...   []  \n",
      "2  [Okay, this has got to be the worst case of \"I...   []  \n",
      "3  [They are truly the goat. They have made their...   []  \n",
      "4  [Prof Anderes is hands down the best professor...   []  \n",
      "[INFO] Scraped 100 records for UC Davis\n",
      "[INFO] Scraping data for UC Berkeley from https://www.ratemyprofessors.com/search/professors/1072?q=*&did=140\n"
     ]
    },
    {
     "name": "stderr",
     "output_type": "stream",
     "text": [
      "UC Berkeley: Clicking 'Show More': 8clicks [00:09,  1.17s/clicks]"
     ]
    },
    {
     "name": "stdout",
     "output_type": "stream",
     "text": [
      "[DEBUG] No more 'Show More' button or stale reference encountered.\n"
     ]
    },
    {
     "name": "stderr",
     "output_type": "stream",
     "text": [
      "\n"
     ]
    },
    {
     "name": "stdout",
     "output_type": "stream",
     "text": [
      "  Professor Average Rating Num Ratings  Department       School  \\\n",
      "0  513ab4b7            2.9          56  Statistics  UC Berkeley   \n",
      "1  883a5a69            2.7         115  Statistics  UC Berkeley   \n",
      "2  42182bde            5.0           2  Statistics  UC Berkeley   \n",
      "3  f69d87a7            1.9          20  Statistics  UC Berkeley   \n",
      "4  9b671a51            1.0           2  Statistics  UC Berkeley   \n",
      "\n",
      "                                             Reviews Tags  \n",
      "0  [Professor Trujillo is one of the most caring ...   []  \n",
      "1  [he gives sooooo much homework, the class and ...   []  \n",
      "2  [Jingyuan was very helpful in office hours and...   []  \n",
      "3  [Horrible class, they don't teach you in class...   []  \n",
      "4  [This class is a circus. There is no support o...   []  \n",
      "[INFO] Scraped 69 records for UC Berkeley\n",
      "[INFO] Scraping data for UCLA from https://www.ratemyprofessors.com/search/professors/1075?q=*&did=140\n"
     ]
    },
    {
     "name": "stderr",
     "output_type": "stream",
     "text": [
      "UCLA: Clicking 'Show More': 0clicks [00:05, ?clicks/s]"
     ]
    },
    {
     "name": "stdout",
     "output_type": "stream",
     "text": [
      "[DEBUG] No more 'Show More' button or stale reference encountered.\n"
     ]
    },
    {
     "name": "stderr",
     "output_type": "stream",
     "text": [
      "\n"
     ]
    },
    {
     "name": "stdout",
     "output_type": "stream",
     "text": [
      "  Professor Average Rating Num Ratings  Department School  \\\n",
      "0  04785956            3.3           3  Statistics   UCLA   \n",
      "1  ca86d588            4.7          38  Statistics   UCLA   \n",
      "2  5391ad95            1.0           1  Statistics   UCLA   \n",
      "3  b483a81d            5.0           1  Statistics   UCLA   \n",
      "4  9cd4b195            5.0           1  Statistics   UCLA   \n",
      "\n",
      "                                             Reviews Tags  \n",
      "0  [Was really kind throughout the course. You co...   []  \n",
      "1  [Great professor, Took his intro to stats clas...   []  \n",
      "2  [Cha seems to follow a script and lacks flexib...   []  \n",
      "3  [Professor Loya is the best instructor I have ...   []  \n",
      "4  [So I basically failed the first time I took a...   []  \n",
      "[INFO] Scraped 7 records for UCLA\n",
      "[INFO] Scraping data for UC Irvine from https://www.ratemyprofessors.com/search/professors/1074?q=*&did=140\n"
     ]
    },
    {
     "name": "stderr",
     "output_type": "stream",
     "text": [
      "UC Irvine: Clicking 'Show More': 3clicks [00:07,  2.40s/clicks]"
     ]
    },
    {
     "name": "stdout",
     "output_type": "stream",
     "text": [
      "[DEBUG] No more 'Show More' button or stale reference encountered.\n"
     ]
    },
    {
     "name": "stderr",
     "output_type": "stream",
     "text": [
      "\n"
     ]
    },
    {
     "name": "stdout",
     "output_type": "stream",
     "text": [
      "  Professor Average Rating Num Ratings  Department     School  \\\n",
      "0  6f6cfeba            3.5          30  Statistics  UC Irvine   \n",
      "1  f582e840            2.9         247  Statistics  UC Irvine   \n",
      "2  5d651a9d            4.0          75  Statistics  UC Irvine   \n",
      "3  1b4869ec            2.4          10  Statistics  UC Irvine   \n",
      "4  038ef70e            4.6         148  Statistics  UC Irvine   \n",
      "\n",
      "                                             Reviews Tags  \n",
      "0  [Engaging lectures, and reasonably difficult t...   []  \n",
      "1  [There are lots of different parts to your gra...   []  \n",
      "2  [This comment is for STATS210B, I can't find t...   []  \n",
      "3  [not an engaging, clear, or educational lectur...   []  \n",
      "4  [Videos are so confusing. He is saying a bunch...   []  \n",
      "[INFO] Scraped 27 records for UC Irvine\n",
      "[INFO] Scraping data for UC Santa Barbara from https://www.ratemyprofessors.com/search/professors/1077?q=*&did=140\n"
     ]
    },
    {
     "name": "stderr",
     "output_type": "stream",
     "text": [
      "UC Santa Barbara: Clicking 'Show More': 13clicks [00:12,  1.03clicks/s]"
     ]
    },
    {
     "name": "stdout",
     "output_type": "stream",
     "text": [
      "[DEBUG] No more 'Show More' button or stale reference encountered.\n"
     ]
    },
    {
     "name": "stderr",
     "output_type": "stream",
     "text": [
      "\n"
     ]
    },
    {
     "name": "stdout",
     "output_type": "stream",
     "text": [
      "Skipping a card in UC Santa Barbara due to error: Message: invalid session id: session deleted as the browser has closed the connection\n",
      "from disconnected: Unable to receive message from renderer\n",
      "  (Session info: chrome=134.0.6998.89)\n",
      "Stacktrace:\n",
      "0   chromedriver                        0x0000000100d89804 cxxbridge1$str$ptr + 2785964\n",
      "1   chromedriver                        0x0000000100d81ddc cxxbridge1$str$ptr + 2754692\n",
      "2   chromedriver                        0x00000001008d5ea8 cxxbridge1$string$len + 92928\n",
      "3   chromedriver                        0x00000001008c03d4 cxxbridge1$string$len + 4140\n",
      "4   chromedriver                        0x00000001008c014c cxxbridge1$string$len + 3492\n",
      "5   chromedriver                        0x00000001008bde64 chromedriver + 188004\n",
      "6   chromedriver                        0x00000001008beabc chromedriver + 191164\n",
      "7   chromedriver                        0x00000001008cc690 cxxbridge1$string$len + 53992\n",
      "8   chromedriver                        0x00000001008e23ac cxxbridge1$string$len + 143364\n",
      "9   chromedriver                        0x00000001008bf0f0 chromedriver + 192752\n",
      "10  chromedriver                        0x00000001008e1d4c cxxbridge1$string$len + 141732\n",
      "11  chromedriver                        0x000000010095e5c0 cxxbridge1$string$len + 651800\n",
      "12  chromedriver                        0x000000010091135c cxxbridge1$string$len + 335796\n",
      "13  chromedriver                        0x0000000100d4ecd4 cxxbridge1$str$ptr + 2545532\n",
      "14  chromedriver                        0x0000000100d51fa0 cxxbridge1$str$ptr + 2558536\n",
      "15  chromedriver                        0x0000000100d2ed04 cxxbridge1$str$ptr + 2414508\n",
      "16  chromedriver                        0x0000000100d52800 cxxbridge1$str$ptr + 2560680\n",
      "17  chromedriver                        0x0000000100d1fba0 cxxbridge1$str$ptr + 2352712\n",
      "18  chromedriver                        0x0000000100d7245c cxxbridge1$str$ptr + 2690820\n",
      "19  chromedriver                        0x0000000100d725e4 cxxbridge1$str$ptr + 2691212\n",
      "20  chromedriver                        0x0000000100d81a50 cxxbridge1$str$ptr + 2753784\n",
      "21  libsystem_pthread.dylib             0x0000000183b75f94 _pthread_start + 136\n",
      "22  libsystem_pthread.dylib             0x0000000183b70d34 thread_start + 8\n",
      "\n"
     ]
    },
    {
     "ename": "InvalidSessionIdException",
     "evalue": "Message: invalid session id\nStacktrace:\n0   chromedriver                        0x0000000100d89804 cxxbridge1$str$ptr + 2785964\n1   chromedriver                        0x0000000100d81ddc cxxbridge1$str$ptr + 2754692\n2   chromedriver                        0x00000001008d5d1c cxxbridge1$string$len + 92532\n3   chromedriver                        0x00000001009106d4 cxxbridge1$string$len + 332588\n4   chromedriver                        0x0000000100938f50 cxxbridge1$string$len + 498600\n5   chromedriver                        0x0000000100938250 cxxbridge1$string$len + 495272\n6   chromedriver                        0x00000001008a5cd8 chromedriver + 89304\n7   chromedriver                        0x0000000100d4ecd4 cxxbridge1$str$ptr + 2545532\n8   chromedriver                        0x0000000100d51fa0 cxxbridge1$str$ptr + 2558536\n9   chromedriver                        0x0000000100d2ed04 cxxbridge1$str$ptr + 2414508\n10  chromedriver                        0x0000000100d52800 cxxbridge1$str$ptr + 2560680\n11  chromedriver                        0x0000000100d1fba0 cxxbridge1$str$ptr + 2352712\n12  chromedriver                        0x00000001008a46d4 chromedriver + 83668\n13  dyld                                0x00000001837eb154 start + 2476\n",
     "output_type": "error",
     "traceback": [
      "\u001b[0;31m---------------------------------------------------------------------------\u001b[0m",
      "\u001b[0;31mInvalidSessionIdException\u001b[0m                 Traceback (most recent call last)",
      "\u001b[1;32m/Users/tejgaonkar/Downloads/rmp_reviews_scraping.ipynb Cell 5\u001b[0m line \u001b[0;36m5\n\u001b[1;32m     <a href='vscode-notebook-cell:/Users/tejgaonkar/Downloads/rmp_reviews_scraping.ipynb#W5sZmlsZQ%3D%3D?line=49'>50</a>\u001b[0m \u001b[39mtry\u001b[39;00m:\n\u001b[0;32m---> <a href='vscode-notebook-cell:/Users/tejgaonkar/Downloads/rmp_reviews_scraping.ipynb#W5sZmlsZQ%3D%3D?line=50'>51</a>\u001b[0m     cards \u001b[39m=\u001b[39m driver\u001b[39m.\u001b[39mfind_elements(By\u001b[39m.\u001b[39mCSS_SELECTOR, \u001b[39m\"\u001b[39m\u001b[39ma.TeacherCard__StyledTeacherCard-syjs0d-0\u001b[39m\u001b[39m\"\u001b[39m)\n\u001b[1;32m     <a href='vscode-notebook-cell:/Users/tejgaonkar/Downloads/rmp_reviews_scraping.ipynb#W5sZmlsZQ%3D%3D?line=51'>52</a>\u001b[0m     \u001b[39mif\u001b[39;00m index \u001b[39m>\u001b[39m\u001b[39m=\u001b[39m \u001b[39mlen\u001b[39m(cards):\n",
      "File \u001b[0;32m~/anaconda3/lib/python3.11/site-packages/selenium/webdriver/remote/webdriver.py:936\u001b[0m, in \u001b[0;36mWebDriver.find_elements\u001b[0;34m(self, by, value)\u001b[0m\n\u001b[1;32m    934\u001b[0m \u001b[39m# Return empty list if driver returns null\u001b[39;00m\n\u001b[1;32m    935\u001b[0m \u001b[39m# See https://github.com/SeleniumHQ/selenium/issues/4555\u001b[39;00m\n\u001b[0;32m--> 936\u001b[0m \u001b[39mreturn\u001b[39;00m \u001b[39mself\u001b[39m\u001b[39m.\u001b[39mexecute(Command\u001b[39m.\u001b[39mFIND_ELEMENTS, {\u001b[39m\"\u001b[39m\u001b[39musing\u001b[39m\u001b[39m\"\u001b[39m: by, \u001b[39m\"\u001b[39m\u001b[39mvalue\u001b[39m\u001b[39m\"\u001b[39m: value})[\u001b[39m\"\u001b[39m\u001b[39mvalue\u001b[39m\u001b[39m\"\u001b[39m] \u001b[39mor\u001b[39;00m []\n",
      "File \u001b[0;32m~/anaconda3/lib/python3.11/site-packages/selenium/webdriver/remote/webdriver.py:429\u001b[0m, in \u001b[0;36mWebDriver.execute\u001b[0;34m(self, driver_command, params)\u001b[0m\n\u001b[1;32m    428\u001b[0m \u001b[39mif\u001b[39;00m response:\n\u001b[0;32m--> 429\u001b[0m     \u001b[39mself\u001b[39m\u001b[39m.\u001b[39merror_handler\u001b[39m.\u001b[39mcheck_response(response)\n\u001b[1;32m    430\u001b[0m     response[\u001b[39m\"\u001b[39m\u001b[39mvalue\u001b[39m\u001b[39m\"\u001b[39m] \u001b[39m=\u001b[39m \u001b[39mself\u001b[39m\u001b[39m.\u001b[39m_unwrap_value(response\u001b[39m.\u001b[39mget(\u001b[39m\"\u001b[39m\u001b[39mvalue\u001b[39m\u001b[39m\"\u001b[39m, \u001b[39mNone\u001b[39;00m))\n",
      "File \u001b[0;32m~/anaconda3/lib/python3.11/site-packages/selenium/webdriver/remote/errorhandler.py:232\u001b[0m, in \u001b[0;36mErrorHandler.check_response\u001b[0;34m(self, response)\u001b[0m\n\u001b[1;32m    231\u001b[0m     \u001b[39mraise\u001b[39;00m exception_class(message, screen, stacktrace, alert_text)  \u001b[39m# type: ignore[call-arg]  # mypy is not smart enough here\u001b[39;00m\n\u001b[0;32m--> 232\u001b[0m \u001b[39mraise\u001b[39;00m exception_class(message, screen, stacktrace)\n",
      "\u001b[0;31mInvalidSessionIdException\u001b[0m: Message: invalid session id: session deleted as the browser has closed the connection\nfrom disconnected: Unable to receive message from renderer\n  (Session info: chrome=134.0.6998.89)\nStacktrace:\n0   chromedriver                        0x0000000100d89804 cxxbridge1$str$ptr + 2785964\n1   chromedriver                        0x0000000100d81ddc cxxbridge1$str$ptr + 2754692\n2   chromedriver                        0x00000001008d5ea8 cxxbridge1$string$len + 92928\n3   chromedriver                        0x00000001008c03d4 cxxbridge1$string$len + 4140\n4   chromedriver                        0x00000001008c014c cxxbridge1$string$len + 3492\n5   chromedriver                        0x00000001008bde64 chromedriver + 188004\n6   chromedriver                        0x00000001008beabc chromedriver + 191164\n7   chromedriver                        0x00000001008cc690 cxxbridge1$string$len + 53992\n8   chromedriver                        0x00000001008e23ac cxxbridge1$string$len + 143364\n9   chromedriver                        0x00000001008bf0f0 chromedriver + 192752\n10  chromedriver                        0x00000001008e1d4c cxxbridge1$string$len + 141732\n11  chromedriver                        0x000000010095e5c0 cxxbridge1$string$len + 651800\n12  chromedriver                        0x000000010091135c cxxbridge1$string$len + 335796\n13  chromedriver                        0x0000000100d4ecd4 cxxbridge1$str$ptr + 2545532\n14  chromedriver                        0x0000000100d51fa0 cxxbridge1$str$ptr + 2558536\n15  chromedriver                        0x0000000100d2ed04 cxxbridge1$str$ptr + 2414508\n16  chromedriver                        0x0000000100d52800 cxxbridge1$str$ptr + 2560680\n17  chromedriver                        0x0000000100d1fba0 cxxbridge1$str$ptr + 2352712\n18  chromedriver                        0x0000000100d7245c cxxbridge1$str$ptr + 2690820\n19  chromedriver                        0x0000000100d725e4 cxxbridge1$str$ptr + 2691212\n20  chromedriver                        0x0000000100d81a50 cxxbridge1$str$ptr + 2753784\n21  libsystem_pthread.dylib             0x0000000183b75f94 _pthread_start + 136\n22  libsystem_pthread.dylib             0x0000000183b70d34 thread_start + 8\n",
      "\nDuring handling of the above exception, another exception occurred:\n",
      "\u001b[0;31mInvalidSessionIdException\u001b[0m                 Traceback (most recent call last)",
      "\u001b[1;32m/Users/tejgaonkar/Downloads/rmp_reviews_scraping.ipynb Cell 5\u001b[0m line \u001b[0;36m1\n\u001b[1;32m    <a href='vscode-notebook-cell:/Users/tejgaonkar/Downloads/rmp_reviews_scraping.ipynb#W5sZmlsZQ%3D%3D?line=128'>129</a>\u001b[0m school_name \u001b[39m=\u001b[39m school_names\u001b[39m.\u001b[39mget(sid, \u001b[39mf\u001b[39m\u001b[39m\"\u001b[39m\u001b[39mSchool \u001b[39m\u001b[39m{\u001b[39;00msid\u001b[39m}\u001b[39;00m\u001b[39m\"\u001b[39m)\n\u001b[1;32m    <a href='vscode-notebook-cell:/Users/tejgaonkar/Downloads/rmp_reviews_scraping.ipynb#W5sZmlsZQ%3D%3D?line=129'>130</a>\u001b[0m \u001b[39mprint\u001b[39m(\u001b[39mf\u001b[39m\u001b[39m\"\u001b[39m\u001b[39m[INFO] Scraping data for \u001b[39m\u001b[39m{\u001b[39;00mschool_name\u001b[39m}\u001b[39;00m\u001b[39m from \u001b[39m\u001b[39m{\u001b[39;00murl\u001b[39m}\u001b[39;00m\u001b[39m\"\u001b[39m)\n\u001b[0;32m--> <a href='vscode-notebook-cell:/Users/tejgaonkar/Downloads/rmp_reviews_scraping.ipynb#W5sZmlsZQ%3D%3D?line=130'>131</a>\u001b[0m df_school \u001b[39m=\u001b[39m scrape_rmp(url, school_name)\n\u001b[1;32m    <a href='vscode-notebook-cell:/Users/tejgaonkar/Downloads/rmp_reviews_scraping.ipynb#W5sZmlsZQ%3D%3D?line=131'>132</a>\u001b[0m \u001b[39mprint\u001b[39m(df_school\u001b[39m.\u001b[39mhead())\n\u001b[1;32m    <a href='vscode-notebook-cell:/Users/tejgaonkar/Downloads/rmp_reviews_scraping.ipynb#W5sZmlsZQ%3D%3D?line=132'>133</a>\u001b[0m \u001b[39mprint\u001b[39m(\u001b[39mf\u001b[39m\u001b[39m\"\u001b[39m\u001b[39m[INFO] Scraped \u001b[39m\u001b[39m{\u001b[39;00m\u001b[39mlen\u001b[39m(df_school)\u001b[39m}\u001b[39;00m\u001b[39m records for \u001b[39m\u001b[39m{\u001b[39;00mschool_name\u001b[39m}\u001b[39;00m\u001b[39m\"\u001b[39m)\n",
      "\u001b[1;32m/Users/tejgaonkar/Downloads/rmp_reviews_scraping.ipynb Cell 5\u001b[0m line \u001b[0;36m1\n\u001b[1;32m    <a href='vscode-notebook-cell:/Users/tejgaonkar/Downloads/rmp_reviews_scraping.ipynb#W5sZmlsZQ%3D%3D?line=100'>101</a>\u001b[0m         \u001b[39mprint\u001b[39m(\u001b[39mf\u001b[39m\u001b[39m\"\u001b[39m\u001b[39mSkipping a card in \u001b[39m\u001b[39m{\u001b[39;00mschool_name\u001b[39m}\u001b[39;00m\u001b[39m due to error:\u001b[39m\u001b[39m\"\u001b[39m, e)\n\u001b[1;32m    <a href='vscode-notebook-cell:/Users/tejgaonkar/Downloads/rmp_reviews_scraping.ipynb#W5sZmlsZQ%3D%3D?line=101'>102</a>\u001b[0m         index \u001b[39m+\u001b[39m\u001b[39m=\u001b[39m \u001b[39m1\u001b[39m\n\u001b[0;32m--> <a href='vscode-notebook-cell:/Users/tejgaonkar/Downloads/rmp_reviews_scraping.ipynb#W5sZmlsZQ%3D%3D?line=102'>103</a>\u001b[0m         driver\u001b[39m.\u001b[39mback()\n\u001b[1;32m    <a href='vscode-notebook-cell:/Users/tejgaonkar/Downloads/rmp_reviews_scraping.ipynb#W5sZmlsZQ%3D%3D?line=103'>104</a>\u001b[0m         time\u001b[39m.\u001b[39msleep(\u001b[39m2\u001b[39m)\n\u001b[1;32m    <a href='vscode-notebook-cell:/Users/tejgaonkar/Downloads/rmp_reviews_scraping.ipynb#W5sZmlsZQ%3D%3D?line=105'>106</a>\u001b[0m driver\u001b[39m.\u001b[39mquit()\n",
      "File \u001b[0;32m~/anaconda3/lib/python3.11/site-packages/selenium/webdriver/remote/webdriver.py:682\u001b[0m, in \u001b[0;36mWebDriver.back\u001b[0;34m(self)\u001b[0m\n\u001b[1;32m    675\u001b[0m \u001b[39mdef\u001b[39;00m \u001b[39mback\u001b[39m(\u001b[39mself\u001b[39m) \u001b[39m-\u001b[39m\u001b[39m>\u001b[39m \u001b[39mNone\u001b[39;00m:\n\u001b[1;32m    676\u001b[0m \u001b[39m    \u001b[39m\u001b[39m\"\"\"Goes one step backward in the browser history.\u001b[39;00m\n\u001b[1;32m    677\u001b[0m \n\u001b[1;32m    678\u001b[0m \u001b[39m    Example:\u001b[39;00m\n\u001b[1;32m    679\u001b[0m \u001b[39m    --------\u001b[39;00m\n\u001b[1;32m    680\u001b[0m \u001b[39m    >>> driver.back()\u001b[39;00m\n\u001b[1;32m    681\u001b[0m \u001b[39m    \"\"\"\u001b[39;00m\n\u001b[0;32m--> 682\u001b[0m     \u001b[39mself\u001b[39m\u001b[39m.\u001b[39mexecute(Command\u001b[39m.\u001b[39mGO_BACK)\n",
      "File \u001b[0;32m~/anaconda3/lib/python3.11/site-packages/selenium/webdriver/remote/webdriver.py:429\u001b[0m, in \u001b[0;36mWebDriver.execute\u001b[0;34m(self, driver_command, params)\u001b[0m\n\u001b[1;32m    427\u001b[0m response \u001b[39m=\u001b[39m \u001b[39mself\u001b[39m\u001b[39m.\u001b[39mcommand_executor\u001b[39m.\u001b[39mexecute(driver_command, params)\n\u001b[1;32m    428\u001b[0m \u001b[39mif\u001b[39;00m response:\n\u001b[0;32m--> 429\u001b[0m     \u001b[39mself\u001b[39m\u001b[39m.\u001b[39merror_handler\u001b[39m.\u001b[39mcheck_response(response)\n\u001b[1;32m    430\u001b[0m     response[\u001b[39m\"\u001b[39m\u001b[39mvalue\u001b[39m\u001b[39m\"\u001b[39m] \u001b[39m=\u001b[39m \u001b[39mself\u001b[39m\u001b[39m.\u001b[39m_unwrap_value(response\u001b[39m.\u001b[39mget(\u001b[39m\"\u001b[39m\u001b[39mvalue\u001b[39m\u001b[39m\"\u001b[39m, \u001b[39mNone\u001b[39;00m))\n\u001b[1;32m    431\u001b[0m     \u001b[39mreturn\u001b[39;00m response\n",
      "File \u001b[0;32m~/anaconda3/lib/python3.11/site-packages/selenium/webdriver/remote/errorhandler.py:232\u001b[0m, in \u001b[0;36mErrorHandler.check_response\u001b[0;34m(self, response)\u001b[0m\n\u001b[1;32m    230\u001b[0m         alert_text \u001b[39m=\u001b[39m value[\u001b[39m\"\u001b[39m\u001b[39malert\u001b[39m\u001b[39m\"\u001b[39m]\u001b[39m.\u001b[39mget(\u001b[39m\"\u001b[39m\u001b[39mtext\u001b[39m\u001b[39m\"\u001b[39m)\n\u001b[1;32m    231\u001b[0m     \u001b[39mraise\u001b[39;00m exception_class(message, screen, stacktrace, alert_text)  \u001b[39m# type: ignore[call-arg]  # mypy is not smart enough here\u001b[39;00m\n\u001b[0;32m--> 232\u001b[0m \u001b[39mraise\u001b[39;00m exception_class(message, screen, stacktrace)\n",
      "\u001b[0;31mInvalidSessionIdException\u001b[0m: Message: invalid session id\nStacktrace:\n0   chromedriver                        0x0000000100d89804 cxxbridge1$str$ptr + 2785964\n1   chromedriver                        0x0000000100d81ddc cxxbridge1$str$ptr + 2754692\n2   chromedriver                        0x00000001008d5d1c cxxbridge1$string$len + 92532\n3   chromedriver                        0x00000001009106d4 cxxbridge1$string$len + 332588\n4   chromedriver                        0x0000000100938f50 cxxbridge1$string$len + 498600\n5   chromedriver                        0x0000000100938250 cxxbridge1$string$len + 495272\n6   chromedriver                        0x00000001008a5cd8 chromedriver + 89304\n7   chromedriver                        0x0000000100d4ecd4 cxxbridge1$str$ptr + 2545532\n8   chromedriver                        0x0000000100d51fa0 cxxbridge1$str$ptr + 2558536\n9   chromedriver                        0x0000000100d2ed04 cxxbridge1$str$ptr + 2414508\n10  chromedriver                        0x0000000100d52800 cxxbridge1$str$ptr + 2560680\n11  chromedriver                        0x0000000100d1fba0 cxxbridge1$str$ptr + 2352712\n12  chromedriver                        0x00000001008a46d4 chromedriver + 83668\n13  dyld                                0x00000001837eb154 start + 2476\n"
     ]
    }
   ],
   "source": [
    "import time\n",
    "import uuid\n",
    "import os\n",
    "import hashlib\n",
    "import pandas as pd\n",
    "from tqdm import tqdm\n",
    "from selenium import webdriver\n",
    "from selenium.webdriver.chrome.options import Options\n",
    "from selenium.webdriver.common.by import By\n",
    "from selenium.webdriver.support.ui import WebDriverWait\n",
    "from selenium.webdriver.support import expected_conditions as EC\n",
    "\n",
    "def scrape_rmp(url, school_name):\n",
    "    unique_dir = f\"/tmp/chrome-user-data-{uuid.uuid4().hex}\"\n",
    "    os.makedirs(unique_dir, exist_ok=True)\n",
    "\n",
    "    options = Options()\n",
    "    options.add_argument(\"--headless\")\n",
    "    options.add_argument(\"--no-sandbox\")\n",
    "    options.add_argument(\"--disable-dev-shm-usage\")\n",
    "    options.add_argument(f\"--user-data-dir={unique_dir}\")\n",
    "\n",
    "    driver = webdriver.Chrome(options=options)\n",
    "    driver.get(url)\n",
    "\n",
    "    try:\n",
    "        WebDriverWait(driver, 5).until(\n",
    "            EC.presence_of_element_located((By.XPATH, \"//h1[@data-testid='pagination-header-main-results']\"))\n",
    "        )\n",
    "    except Exception as e:\n",
    "        print(\"Initial page load error:\", e)\n",
    "\n",
    "    pbar = tqdm(unit=\"clicks\", desc=f\"{school_name}: Clicking 'Show More'\")\n",
    "    while True:\n",
    "        try:\n",
    "            btn = WebDriverWait(driver, 5).until(\n",
    "                EC.element_to_be_clickable((By.XPATH, \"//button[contains(text(), 'Show More')]\"))\n",
    "            )\n",
    "            driver.execute_script(\"arguments[0].click();\", btn)\n",
    "            pbar.update(1)\n",
    "            time.sleep(0.5)\n",
    "        except Exception:\n",
    "            print(\"[DEBUG] No more 'Show More' button or stale reference encountered.\")\n",
    "            break\n",
    "    pbar.close()\n",
    "\n",
    "    data = []\n",
    "    index = 0\n",
    "    while True:\n",
    "        try:\n",
    "            cards = driver.find_elements(By.CSS_SELECTOR, \"a.TeacherCard__StyledTeacherCard-syjs0d-0\")\n",
    "            if index >= len(cards):\n",
    "                break\n",
    "\n",
    "            card = cards[index]\n",
    "            driver.execute_script(\"arguments[0].scrollIntoView();\", card)\n",
    "            time.sleep(0.5)\n",
    "            \n",
    "            name_elem = card.find_element(By.CSS_SELECTOR, \"div.CardName__StyledCardName-sc-1gyrgim-0\")\n",
    "            full_name = name_elem.text.strip()\n",
    "            anonymized_name = hashlib.sha256(full_name.encode()).hexdigest()[:8]\n",
    "\n",
    "            rating_elem = card.find_element(By.CSS_SELECTOR, \"div.CardNumRating__CardNumRatingNumber-sc-17t4b9u-2\")\n",
    "            avg_rating = rating_elem.text.strip()\n",
    "\n",
    "            count_elem = card.find_element(By.CSS_SELECTOR, \"div.CardNumRating__CardNumRatingCount-sc-17t4b9u-3\")\n",
    "            num_ratings = count_elem.text.replace(\"ratings\", \"\").strip()\n",
    "\n",
    "            dept_elem = card.find_element(By.CSS_SELECTOR, \"div.CardSchool__Department-sc-19lmz2k-0\")\n",
    "            department = dept_elem.text.strip()\n",
    "\n",
    "            driver.execute_script(\"arguments[0].click();\", card)\n",
    "            time.sleep(2)\n",
    "\n",
    "            reviews = []\n",
    "            tags = []\n",
    "            \n",
    "            try:\n",
    "                review_elements = driver.find_elements(By.CSS_SELECTOR, \"div.Comments__StyledComments-dzzyvm-0\")\n",
    "                reviews = [review.text.strip() for review in review_elements]\n",
    "\n",
    "                tag_elements = driver.find_elements(By.CSS_SELECTOR, \"span.Tag-bsuhb8-0\")\n",
    "                tags = [tag.text.strip() for tag in tag_elements]\n",
    "            except Exception:\n",
    "                pass\n",
    "\n",
    "            data.append({\n",
    "                \"Professor\": anonymized_name,\n",
    "                \"Average Rating\": avg_rating,\n",
    "                \"Num Ratings\": num_ratings,\n",
    "                \"Department\": department,\n",
    "                \"School\": school_name,\n",
    "                \"Reviews\": reviews,\n",
    "                \"Tags\": tags\n",
    "            })\n",
    "\n",
    "            driver.back()\n",
    "            time.sleep(2)\n",
    "            index += 1\n",
    "        except Exception as e:\n",
    "            print(f\"Skipping a card in {school_name} due to error:\", e)\n",
    "            index += 1\n",
    "            driver.back()\n",
    "            time.sleep(2)\n",
    "\n",
    "    driver.quit()\n",
    "    return pd.DataFrame(data)\n",
    "\n",
    "school_names = {\n",
    "    \"1079\": \"UC San Diego\",\n",
    "    \"1073\": \"UC Davis\",\n",
    "    \"1072\": \"UC Berkeley\",\n",
    "    \"1075\": \"UCLA\",\n",
    "    \"1074\": \"UC Irvine\",\n",
    "    \"1077\": \"UC Santa Barbara\",\n",
    "    \"1076\": \"UC Riverside\",\n",
    "    \"4767\": \"UC Merced\",\n",
    "    \"1078\": \"UC Santa Cruz\"\n",
    "}\n",
    "school_ids = [\"1079\", \"1073\", \"1072\", \"1075\", \"1074\", \"1077\", \"1076\", \"4767\", \"1078\"]\n",
    "did_ids = ['2889', '140', '140', '140', '140', '140', '140', '140', '140']  # Matched by index\n",
    "\n",
    "# Create a mapping of school ID to department ID (did)\n",
    "complete_urls = {sid: f\"{base_url}{sid}?q=*&did={did_ids[i]}\" for i, sid in enumerate(school_ids)}\n",
    "\n",
    "dfs = []\n",
    "for sid, url in complete_urls.items():\n",
    "    school_name = school_names.get(sid, f\"School {sid}\")\n",
    "    print(f\"[INFO] Scraping data for {school_name} from {url}\")\n",
    "    df_school = scrape_rmp(url, school_name)\n",
    "    print(df_school.head())\n",
    "    print(f\"[INFO] Scraped {len(df_school)} records for {school_name}\")\n",
    "    dfs.append(df_school)\n",
    "\n",
    "df_all = pd.concat(dfs, ignore_index=True)\n",
    "print(f\"Total records scraped: {len(df_all)}\")\n",
    "print(df_all.head(15))\n",
    "\n",
    "## HAD TO STOP AT UCI BECAUSE IT TOOK 40 MIN TO RUN!!\n"
   ]
  },
  {
   "cell_type": "code",
   "execution_count": 12,
   "metadata": {},
   "outputs": [
    {
     "name": "stdout",
     "output_type": "stream",
     "text": [
      "Total records scraped: 219\n",
      "   Professor Average Rating Num Ratings    Department        School  \\\n",
      "0   a968b33d            2.5          13  Data Science  UC San Diego   \n",
      "1   11b6fcc2            3.7          13  Data Science  UC San Diego   \n",
      "2   9c6f5334            5.0           2  Data Science  UC San Diego   \n",
      "3   3ed2b676            3.3         106  Data Science  UC San Diego   \n",
      "4   aed83b0e            4.6           8  Data Science  UC San Diego   \n",
      "5   4e8abdba            4.8          19  Data Science  UC San Diego   \n",
      "6   fe2945d2            4.9          21  Data Science  UC San Diego   \n",
      "7   80f62682            1.4          17  Data Science  UC San Diego   \n",
      "8   1afbf8c1            5.0           1  Data Science  UC San Diego   \n",
      "9   3aeb7052            2.0           3  Data Science  UC San Diego   \n",
      "10  f373cdb8            5.0           9  Data Science  UC San Diego   \n",
      "11  cc802ff3            5.0           3  Data Science  UC San Diego   \n",
      "12  1b60e115            5.0           6  Data Science  UC San Diego   \n",
      "13  f89fb50b            3.0           1  Data Science  UC San Diego   \n",
      "14  4e701070            1.0           4  Data Science  UC San Diego   \n",
      "\n",
      "                                              Reviews Tags  \n",
      "0   [Prof. Salimi is the worst I've had. Lectures ...   []  \n",
      "1   [The easiest CS class you will ever take. 5 ho...   []  \n",
      "2   [Professor Hao really cares about teaching, an...   []  \n",
      "3   [Great professor, even though attendance not m...   []  \n",
      "4   [I can't say he's an unfair or hard professor,...   []  \n",
      "5   [BEST PROF EVER, Very organized professor. Eas...   []  \n",
      "6   [Took Practical Data Science at UM. Suraj was ...   []  \n",
      "7   [slow in releasing participation and PA grades...   []  \n",
      "8   [Best professor to introduce you to data scien...   []  \n",
      "9   [descent professor, make the lectures really i...   []  \n",
      "10  [just great, awesome, A real homie, quality le...   []  \n",
      "11  [Fast response on Campuswire, 8% extra credits...   []  \n",
      "12  [Legendary. Absolutely recommended to every st...   []  \n",
      "13  [He's a great professor and teaches well, & I ...   []  \n",
      "14  [Terrible class. Watched every lecture and dis...   []  \n"
     ]
    }
   ],
   "source": [
    "df_all = pd.concat(dfs, ignore_index=True)\n",
    "print(f\"Total records scraped: {len(df_all)}\")\n",
    "print(df_all.head(15))"
   ]
  },
  {
   "cell_type": "code",
   "execution_count": 13,
   "metadata": {},
   "outputs": [],
   "source": [
    "df_all.to_csv(\"uc_rmp_reviews.csv\", index=False)"
   ]
  },
  {
   "cell_type": "code",
   "execution_count": 16,
   "metadata": {},
   "outputs": [],
   "source": [
    "from vaderSentiment.vaderSentiment import SentimentIntensityAnalyzer\n",
    "\n",
    "analyzer = SentimentIntensityAnalyzer()\n",
    "\n",
    "def analyze_sentiment(review):\n",
    "    score = analyzer.polarity_scores(review)\n",
    "    return \"Positive\" if score['compound'] > 0.05 else \"Negative\" if score['compound'] < -0.05 else \"Neutral\"\n",
    "\n",
    "df_all[\"Sentiment\"] = df_all[\"Reviews\"].apply(lambda reviews: [analyze_sentiment(r) for r in reviews])\n"
   ]
  },
  {
   "cell_type": "code",
   "execution_count": 44,
   "metadata": {},
   "outputs": [
    {
     "data": {
      "text/html": [
       "<div>\n",
       "<style scoped>\n",
       "    .dataframe tbody tr th:only-of-type {\n",
       "        vertical-align: middle;\n",
       "    }\n",
       "\n",
       "    .dataframe tbody tr th {\n",
       "        vertical-align: top;\n",
       "    }\n",
       "\n",
       "    .dataframe thead th {\n",
       "        text-align: right;\n",
       "    }\n",
       "</style>\n",
       "<table border=\"1\" class=\"dataframe\">\n",
       "  <thead>\n",
       "    <tr style=\"text-align: right;\">\n",
       "      <th></th>\n",
       "      <th>Professor</th>\n",
       "      <th>Average Rating</th>\n",
       "      <th>Num Ratings</th>\n",
       "      <th>Department</th>\n",
       "      <th>School</th>\n",
       "      <th>Reviews</th>\n",
       "      <th>Tags</th>\n",
       "      <th>Sentiment</th>\n",
       "      <th>Rating_Category</th>\n",
       "    </tr>\n",
       "  </thead>\n",
       "  <tbody>\n",
       "    <tr>\n",
       "      <th>0</th>\n",
       "      <td>a968b33d</td>\n",
       "      <td>2.5</td>\n",
       "      <td>13</td>\n",
       "      <td>Data Science</td>\n",
       "      <td>UC San Diego</td>\n",
       "      <td>[Prof. Salimi is the worst I've had. Lectures ...</td>\n",
       "      <td>[]</td>\n",
       "      <td>[Negative, Negative, Positive, Positive, Negat...</td>\n",
       "      <td>Low Rating</td>\n",
       "    </tr>\n",
       "    <tr>\n",
       "      <th>1</th>\n",
       "      <td>11b6fcc2</td>\n",
       "      <td>3.7</td>\n",
       "      <td>13</td>\n",
       "      <td>Data Science</td>\n",
       "      <td>UC San Diego</td>\n",
       "      <td>[The easiest CS class you will ever take. 5 ho...</td>\n",
       "      <td>[]</td>\n",
       "      <td>[Positive, Positive, Positive, Positive, Posit...</td>\n",
       "      <td>Medium Rating</td>\n",
       "    </tr>\n",
       "    <tr>\n",
       "      <th>2</th>\n",
       "      <td>9c6f5334</td>\n",
       "      <td>5.0</td>\n",
       "      <td>2</td>\n",
       "      <td>Data Science</td>\n",
       "      <td>UC San Diego</td>\n",
       "      <td>[Professor Hao really cares about teaching, an...</td>\n",
       "      <td>[]</td>\n",
       "      <td>[Positive, Positive]</td>\n",
       "      <td>High Rating</td>\n",
       "    </tr>\n",
       "    <tr>\n",
       "      <th>3</th>\n",
       "      <td>3ed2b676</td>\n",
       "      <td>3.3</td>\n",
       "      <td>106</td>\n",
       "      <td>Data Science</td>\n",
       "      <td>UC San Diego</td>\n",
       "      <td>[Great professor, even though attendance not m...</td>\n",
       "      <td>[]</td>\n",
       "      <td>[Positive, Positive, Positive, Positive, Posit...</td>\n",
       "      <td>Medium Rating</td>\n",
       "    </tr>\n",
       "    <tr>\n",
       "      <th>4</th>\n",
       "      <td>aed83b0e</td>\n",
       "      <td>4.6</td>\n",
       "      <td>8</td>\n",
       "      <td>Data Science</td>\n",
       "      <td>UC San Diego</td>\n",
       "      <td>[I can't say he's an unfair or hard professor,...</td>\n",
       "      <td>[]</td>\n",
       "      <td>[Positive, Positive, Positive, Positive, Posit...</td>\n",
       "      <td>High Rating</td>\n",
       "    </tr>\n",
       "    <tr>\n",
       "      <th>5</th>\n",
       "      <td>4e8abdba</td>\n",
       "      <td>4.8</td>\n",
       "      <td>19</td>\n",
       "      <td>Data Science</td>\n",
       "      <td>UC San Diego</td>\n",
       "      <td>[BEST PROF EVER, Very organized professor. Eas...</td>\n",
       "      <td>[]</td>\n",
       "      <td>[Positive, Positive, Positive, Positive, Posit...</td>\n",
       "      <td>High Rating</td>\n",
       "    </tr>\n",
       "    <tr>\n",
       "      <th>6</th>\n",
       "      <td>fe2945d2</td>\n",
       "      <td>4.9</td>\n",
       "      <td>21</td>\n",
       "      <td>Data Science</td>\n",
       "      <td>UC San Diego</td>\n",
       "      <td>[Took Practical Data Science at UM. Suraj was ...</td>\n",
       "      <td>[]</td>\n",
       "      <td>[Positive, Positive, Positive, Positive, Negat...</td>\n",
       "      <td>High Rating</td>\n",
       "    </tr>\n",
       "    <tr>\n",
       "      <th>7</th>\n",
       "      <td>80f62682</td>\n",
       "      <td>1.4</td>\n",
       "      <td>17</td>\n",
       "      <td>Data Science</td>\n",
       "      <td>UC San Diego</td>\n",
       "      <td>[slow in releasing participation and PA grades...</td>\n",
       "      <td>[]</td>\n",
       "      <td>[Negative, Positive, Negative, Negative, Negat...</td>\n",
       "      <td>Low Rating</td>\n",
       "    </tr>\n",
       "    <tr>\n",
       "      <th>8</th>\n",
       "      <td>1afbf8c1</td>\n",
       "      <td>5.0</td>\n",
       "      <td>1</td>\n",
       "      <td>Data Science</td>\n",
       "      <td>UC San Diego</td>\n",
       "      <td>[Best professor to introduce you to data scien...</td>\n",
       "      <td>[]</td>\n",
       "      <td>[Positive]</td>\n",
       "      <td>High Rating</td>\n",
       "    </tr>\n",
       "    <tr>\n",
       "      <th>9</th>\n",
       "      <td>3aeb7052</td>\n",
       "      <td>2.0</td>\n",
       "      <td>3</td>\n",
       "      <td>Data Science</td>\n",
       "      <td>UC San Diego</td>\n",
       "      <td>[descent professor, make the lectures really i...</td>\n",
       "      <td>[]</td>\n",
       "      <td>[Positive, Negative, Positive]</td>\n",
       "      <td>Low Rating</td>\n",
       "    </tr>\n",
       "    <tr>\n",
       "      <th>10</th>\n",
       "      <td>f373cdb8</td>\n",
       "      <td>5.0</td>\n",
       "      <td>9</td>\n",
       "      <td>Data Science</td>\n",
       "      <td>UC San Diego</td>\n",
       "      <td>[just great, awesome, A real homie, quality le...</td>\n",
       "      <td>[]</td>\n",
       "      <td>[Positive, Positive, Positive, Positive, Posit...</td>\n",
       "      <td>High Rating</td>\n",
       "    </tr>\n",
       "    <tr>\n",
       "      <th>11</th>\n",
       "      <td>cc802ff3</td>\n",
       "      <td>5.0</td>\n",
       "      <td>3</td>\n",
       "      <td>Data Science</td>\n",
       "      <td>UC San Diego</td>\n",
       "      <td>[Fast response on Campuswire, 8% extra credits...</td>\n",
       "      <td>[]</td>\n",
       "      <td>[Positive, Positive, Positive]</td>\n",
       "      <td>High Rating</td>\n",
       "    </tr>\n",
       "    <tr>\n",
       "      <th>12</th>\n",
       "      <td>1b60e115</td>\n",
       "      <td>5.0</td>\n",
       "      <td>6</td>\n",
       "      <td>Data Science</td>\n",
       "      <td>UC San Diego</td>\n",
       "      <td>[Legendary. Absolutely recommended to every st...</td>\n",
       "      <td>[]</td>\n",
       "      <td>[Positive, Positive, Positive, Positive, Posit...</td>\n",
       "      <td>High Rating</td>\n",
       "    </tr>\n",
       "    <tr>\n",
       "      <th>13</th>\n",
       "      <td>f89fb50b</td>\n",
       "      <td>3.0</td>\n",
       "      <td>1</td>\n",
       "      <td>Data Science</td>\n",
       "      <td>UC San Diego</td>\n",
       "      <td>[He's a great professor and teaches well, &amp; I ...</td>\n",
       "      <td>[]</td>\n",
       "      <td>[Positive]</td>\n",
       "      <td>Medium Rating</td>\n",
       "    </tr>\n",
       "    <tr>\n",
       "      <th>14</th>\n",
       "      <td>4e701070</td>\n",
       "      <td>1.0</td>\n",
       "      <td>4</td>\n",
       "      <td>Data Science</td>\n",
       "      <td>UC San Diego</td>\n",
       "      <td>[Terrible class. Watched every lecture and dis...</td>\n",
       "      <td>[]</td>\n",
       "      <td>[Negative, Negative, Neutral, Negative]</td>\n",
       "      <td>Low Rating</td>\n",
       "    </tr>\n",
       "    <tr>\n",
       "      <th>15</th>\n",
       "      <td>54a1448c</td>\n",
       "      <td>2.0</td>\n",
       "      <td>1</td>\n",
       "      <td>Data Science</td>\n",
       "      <td>UC San Diego</td>\n",
       "      <td>[You can learn a lot from Prof. Smarr's course...</td>\n",
       "      <td>[]</td>\n",
       "      <td>[Negative]</td>\n",
       "      <td>Low Rating</td>\n",
       "    </tr>\n",
       "    <tr>\n",
       "      <th>16</th>\n",
       "      <td>cd3aa54f</td>\n",
       "      <td>2.4</td>\n",
       "      <td>250</td>\n",
       "      <td>Statistics</td>\n",
       "      <td>UC Davis</td>\n",
       "      <td>[I have him right now, and he's the worst prof...</td>\n",
       "      <td>[]</td>\n",
       "      <td>[Negative, Negative, Positive, Negative, Negat...</td>\n",
       "      <td>Low Rating</td>\n",
       "    </tr>\n",
       "    <tr>\n",
       "      <th>17</th>\n",
       "      <td>686e5a8a</td>\n",
       "      <td>3.8</td>\n",
       "      <td>211</td>\n",
       "      <td>Statistics</td>\n",
       "      <td>UC Davis</td>\n",
       "      <td>[Dr. Whitener is the BEST; she provides every ...</td>\n",
       "      <td>[]</td>\n",
       "      <td>[Positive, Positive, Positive, Negative, Posit...</td>\n",
       "      <td>Medium Rating</td>\n",
       "    </tr>\n",
       "    <tr>\n",
       "      <th>18</th>\n",
       "      <td>d93ba308</td>\n",
       "      <td>4.7</td>\n",
       "      <td>55</td>\n",
       "      <td>Statistics</td>\n",
       "      <td>UC Davis</td>\n",
       "      <td>[Okay, this has got to be the worst case of \"I...</td>\n",
       "      <td>[]</td>\n",
       "      <td>[Positive, Positive, Positive, Positive, Posit...</td>\n",
       "      <td>High Rating</td>\n",
       "    </tr>\n",
       "    <tr>\n",
       "      <th>19</th>\n",
       "      <td>de08aacd</td>\n",
       "      <td>3.0</td>\n",
       "      <td>33</td>\n",
       "      <td>Statistics</td>\n",
       "      <td>UC Davis</td>\n",
       "      <td>[They are truly the goat. They have made their...</td>\n",
       "      <td>[]</td>\n",
       "      <td>[Positive, Positive, Positive, Positive, Posit...</td>\n",
       "      <td>Medium Rating</td>\n",
       "    </tr>\n",
       "    <tr>\n",
       "      <th>20</th>\n",
       "      <td>a7a92166</td>\n",
       "      <td>4.5</td>\n",
       "      <td>92</td>\n",
       "      <td>Statistics</td>\n",
       "      <td>UC Davis</td>\n",
       "      <td>[Prof Anderes is hands down the best professor...</td>\n",
       "      <td>[]</td>\n",
       "      <td>[Positive, Positive, Positive, Positive, Posit...</td>\n",
       "      <td>High Rating</td>\n",
       "    </tr>\n",
       "    <tr>\n",
       "      <th>21</th>\n",
       "      <td>55f46442</td>\n",
       "      <td>4.0</td>\n",
       "      <td>4</td>\n",
       "      <td>Statistics</td>\n",
       "      <td>UC Davis</td>\n",
       "      <td>[Masini is one of the best stats professors I'...</td>\n",
       "      <td>[]</td>\n",
       "      <td>[Positive, Positive, Positive, Positive]</td>\n",
       "      <td>Medium Rating</td>\n",
       "    </tr>\n",
       "    <tr>\n",
       "      <th>22</th>\n",
       "      <td>5c8f7c18</td>\n",
       "      <td>2.4</td>\n",
       "      <td>176</td>\n",
       "      <td>Statistics</td>\n",
       "      <td>UC Davis</td>\n",
       "      <td>[do not take, Class median was a sub-60% and r...</td>\n",
       "      <td>[]</td>\n",
       "      <td>[Neutral, Negative, Positive, Positive, Positi...</td>\n",
       "      <td>Low Rating</td>\n",
       "    </tr>\n",
       "    <tr>\n",
       "      <th>23</th>\n",
       "      <td>21d7d369</td>\n",
       "      <td>3.5</td>\n",
       "      <td>142</td>\n",
       "      <td>Statistics</td>\n",
       "      <td>UC Davis</td>\n",
       "      <td>[Very passionate instructor who may not be the...</td>\n",
       "      <td>[]</td>\n",
       "      <td>[Positive, Positive, Positive, Positive, Posit...</td>\n",
       "      <td>Medium Rating</td>\n",
       "    </tr>\n",
       "    <tr>\n",
       "      <th>24</th>\n",
       "      <td>2edd6cce</td>\n",
       "      <td>3.0</td>\n",
       "      <td>34</td>\n",
       "      <td>Statistics</td>\n",
       "      <td>UC Davis</td>\n",
       "      <td>[Dr. Le is definitely one of the better stats ...</td>\n",
       "      <td>[]</td>\n",
       "      <td>[Positive, Positive, Positive, Negative, Negat...</td>\n",
       "      <td>Medium Rating</td>\n",
       "    </tr>\n",
       "    <tr>\n",
       "      <th>25</th>\n",
       "      <td>c5cc1655</td>\n",
       "      <td>2.1</td>\n",
       "      <td>27</td>\n",
       "      <td>Statistics</td>\n",
       "      <td>UC Davis</td>\n",
       "      <td>[Learned nothing from his lecture. He is conde...</td>\n",
       "      <td>[]</td>\n",
       "      <td>[Negative, Neutral, Negative, Negative, Negati...</td>\n",
       "      <td>Low Rating</td>\n",
       "    </tr>\n",
       "    <tr>\n",
       "      <th>26</th>\n",
       "      <td>eb9750be</td>\n",
       "      <td>4.5</td>\n",
       "      <td>13</td>\n",
       "      <td>Statistics</td>\n",
       "      <td>UC Davis</td>\n",
       "      <td>[Stale lectures and drops a midterm. She is ni...</td>\n",
       "      <td>[]</td>\n",
       "      <td>[Positive, Positive, Positive, Positive, Posit...</td>\n",
       "      <td>High Rating</td>\n",
       "    </tr>\n",
       "    <tr>\n",
       "      <th>27</th>\n",
       "      <td>e833450d</td>\n",
       "      <td>4.4</td>\n",
       "      <td>26</td>\n",
       "      <td>Statistics</td>\n",
       "      <td>UC Davis</td>\n",
       "      <td>[One of the greatest instructors in our depart...</td>\n",
       "      <td>[]</td>\n",
       "      <td>[Positive, Positive, Positive, Positive, Posit...</td>\n",
       "      <td>Medium Rating</td>\n",
       "    </tr>\n",
       "    <tr>\n",
       "      <th>28</th>\n",
       "      <td>8c7da3de</td>\n",
       "      <td>2.1</td>\n",
       "      <td>28</td>\n",
       "      <td>Statistics</td>\n",
       "      <td>UC Davis</td>\n",
       "      <td>[Not useful, the test is tricky and not easy t...</td>\n",
       "      <td>[]</td>\n",
       "      <td>[Negative, Positive, Positive, Neutral, Positi...</td>\n",
       "      <td>Low Rating</td>\n",
       "    </tr>\n",
       "    <tr>\n",
       "      <th>29</th>\n",
       "      <td>fe7df835</td>\n",
       "      <td>4.6</td>\n",
       "      <td>45</td>\n",
       "      <td>Statistics</td>\n",
       "      <td>UC Davis</td>\n",
       "      <td>[Prof Lopes explains things well. Idk why peop...</td>\n",
       "      <td>[]</td>\n",
       "      <td>[Positive, Positive, Positive, Negative, Negat...</td>\n",
       "      <td>High Rating</td>\n",
       "    </tr>\n",
       "    <tr>\n",
       "      <th>30</th>\n",
       "      <td>58f6d9b7</td>\n",
       "      <td>3.4</td>\n",
       "      <td>61</td>\n",
       "      <td>Statistics</td>\n",
       "      <td>UC Davis</td>\n",
       "      <td>[The lectures are fairly confusing with him wr...</td>\n",
       "      <td>[]</td>\n",
       "      <td>[Positive, Positive, Positive, Positive, Posit...</td>\n",
       "      <td>Medium Rating</td>\n",
       "    </tr>\n",
       "    <tr>\n",
       "      <th>31</th>\n",
       "      <td>ab5277b0</td>\n",
       "      <td>1.6</td>\n",
       "      <td>88</td>\n",
       "      <td>Statistics</td>\n",
       "      <td>UC Davis</td>\n",
       "      <td>[Quite possibly the worst professor I have eve...</td>\n",
       "      <td>[]</td>\n",
       "      <td>[Negative, Positive, Positive, Negative, Negat...</td>\n",
       "      <td>Low Rating</td>\n",
       "    </tr>\n",
       "    <tr>\n",
       "      <th>32</th>\n",
       "      <td>54553ec2</td>\n",
       "      <td>2.2</td>\n",
       "      <td>89</td>\n",
       "      <td>Statistics</td>\n",
       "      <td>UC Davis</td>\n",
       "      <td>[This course really content lots of useful thi...</td>\n",
       "      <td>[]</td>\n",
       "      <td>[Positive, Positive, Negative, Positive, Negat...</td>\n",
       "      <td>Low Rating</td>\n",
       "    </tr>\n",
       "    <tr>\n",
       "      <th>33</th>\n",
       "      <td>1cf518b5</td>\n",
       "      <td>1.8</td>\n",
       "      <td>249</td>\n",
       "      <td>Statistics</td>\n",
       "      <td>UC Davis</td>\n",
       "      <td>[Can't lecture and has horrible handwriting. E...</td>\n",
       "      <td>[]</td>\n",
       "      <td>[Negative, Negative, Negative, Negative, Neutr...</td>\n",
       "      <td>Low Rating</td>\n",
       "    </tr>\n",
       "    <tr>\n",
       "      <th>34</th>\n",
       "      <td>1ec1fddf</td>\n",
       "      <td>2.2</td>\n",
       "      <td>52</td>\n",
       "      <td>Statistics</td>\n",
       "      <td>UC Davis</td>\n",
       "      <td>[She doubled the workload of assignments in mi...</td>\n",
       "      <td>[]</td>\n",
       "      <td>[Negative, Negative, Positive, Positive, Neutr...</td>\n",
       "      <td>Low Rating</td>\n",
       "    </tr>\n",
       "    <tr>\n",
       "      <th>35</th>\n",
       "      <td>54608f97</td>\n",
       "      <td>1.9</td>\n",
       "      <td>38</td>\n",
       "      <td>Statistics</td>\n",
       "      <td>UC Davis</td>\n",
       "      <td>[He curved the whole class a lot but the lectu...</td>\n",
       "      <td>[]</td>\n",
       "      <td>[Negative, Negative, Positive, Positive, Negat...</td>\n",
       "      <td>Low Rating</td>\n",
       "    </tr>\n",
       "    <tr>\n",
       "      <th>36</th>\n",
       "      <td>4a84ae2b</td>\n",
       "      <td>3.4</td>\n",
       "      <td>23</td>\n",
       "      <td>Statistics</td>\n",
       "      <td>UC Davis</td>\n",
       "      <td>[Lectures are hard to follow, but the material...</td>\n",
       "      <td>[]</td>\n",
       "      <td>[Positive, Positive, Positive, Positive, Negat...</td>\n",
       "      <td>Medium Rating</td>\n",
       "    </tr>\n",
       "    <tr>\n",
       "      <th>37</th>\n",
       "      <td>dbafc9a4</td>\n",
       "      <td>2.2</td>\n",
       "      <td>66</td>\n",
       "      <td>Statistics</td>\n",
       "      <td>UC Davis</td>\n",
       "      <td>[He is really too old to teach such a mathetic...</td>\n",
       "      <td>[]</td>\n",
       "      <td>[Negative, Negative, Negative, Negative, Posit...</td>\n",
       "      <td>Low Rating</td>\n",
       "    </tr>\n",
       "    <tr>\n",
       "      <th>38</th>\n",
       "      <td>0c41f8dc</td>\n",
       "      <td>3.2</td>\n",
       "      <td>18</td>\n",
       "      <td>Statistics</td>\n",
       "      <td>UC Davis</td>\n",
       "      <td>[I had Professor Kuhnert for both STA 141A and...</td>\n",
       "      <td>[]</td>\n",
       "      <td>[Positive, Negative, Negative, Positive, Posit...</td>\n",
       "      <td>Medium Rating</td>\n",
       "    </tr>\n",
       "    <tr>\n",
       "      <th>39</th>\n",
       "      <td>9b81c9a5</td>\n",
       "      <td>5.0</td>\n",
       "      <td>5</td>\n",
       "      <td>Statistics</td>\n",
       "      <td>UC Davis</td>\n",
       "      <td>[One of the best professors I have ever taken ...</td>\n",
       "      <td>[]</td>\n",
       "      <td>[Positive, Positive, Positive, Positive, Posit...</td>\n",
       "      <td>High Rating</td>\n",
       "    </tr>\n",
       "    <tr>\n",
       "      <th>40</th>\n",
       "      <td>2d89881f</td>\n",
       "      <td>3.5</td>\n",
       "      <td>10</td>\n",
       "      <td>Statistics</td>\n",
       "      <td>UC Davis</td>\n",
       "      <td>[Definitely a cocky guy but he acknowledges th...</td>\n",
       "      <td>[]</td>\n",
       "      <td>[Negative, Negative, Positive, Positive, Posit...</td>\n",
       "      <td>Medium Rating</td>\n",
       "    </tr>\n",
       "    <tr>\n",
       "      <th>41</th>\n",
       "      <td>c4cf39f3</td>\n",
       "      <td>3.1</td>\n",
       "      <td>17</td>\n",
       "      <td>Statistics</td>\n",
       "      <td>UC Davis</td>\n",
       "      <td>[Class was very succinct and to-the-point. The...</td>\n",
       "      <td>[]</td>\n",
       "      <td>[Positive, Positive, Positive, Neutral, Negati...</td>\n",
       "      <td>Medium Rating</td>\n",
       "    </tr>\n",
       "    <tr>\n",
       "      <th>42</th>\n",
       "      <td>ef80b5e2</td>\n",
       "      <td>4.4</td>\n",
       "      <td>17</td>\n",
       "      <td>Statistics</td>\n",
       "      <td>UC Davis</td>\n",
       "      <td>[The grading and curve is unfair., Good profes...</td>\n",
       "      <td>[]</td>\n",
       "      <td>[Negative, Negative, Positive, Positive, Posit...</td>\n",
       "      <td>Medium Rating</td>\n",
       "    </tr>\n",
       "    <tr>\n",
       "      <th>43</th>\n",
       "      <td>9ba53f01</td>\n",
       "      <td>4.0</td>\n",
       "      <td>3</td>\n",
       "      <td>Statistics</td>\n",
       "      <td>UC Davis</td>\n",
       "      <td>[Prof. Frei was quite monotonous, with lecture...</td>\n",
       "      <td>[]</td>\n",
       "      <td>[Positive, Positive, Positive]</td>\n",
       "      <td>Medium Rating</td>\n",
       "    </tr>\n",
       "    <tr>\n",
       "      <th>44</th>\n",
       "      <td>7f4d96ed</td>\n",
       "      <td>3.4</td>\n",
       "      <td>89</td>\n",
       "      <td>Statistics</td>\n",
       "      <td>UC Davis</td>\n",
       "      <td>[Jiming is a legend! He is a very bright guy w...</td>\n",
       "      <td>[]</td>\n",
       "      <td>[Positive, Positive, Positive, Positive, Posit...</td>\n",
       "      <td>Medium Rating</td>\n",
       "    </tr>\n",
       "    <tr>\n",
       "      <th>45</th>\n",
       "      <td>63e77aee</td>\n",
       "      <td>5.0</td>\n",
       "      <td>2</td>\n",
       "      <td>Statistics</td>\n",
       "      <td>UC Davis</td>\n",
       "      <td>[Top 10 Stats TA of all time, Goated TA]</td>\n",
       "      <td>[]</td>\n",
       "      <td>[Positive, Neutral]</td>\n",
       "      <td>High Rating</td>\n",
       "    </tr>\n",
       "    <tr>\n",
       "      <th>46</th>\n",
       "      <td>18ff13c1</td>\n",
       "      <td>3.3</td>\n",
       "      <td>10</td>\n",
       "      <td>Statistics</td>\n",
       "      <td>UC Davis</td>\n",
       "      <td>[Pretty good prof, easy hws, teaches a lot of ...</td>\n",
       "      <td>[]</td>\n",
       "      <td>[Positive, Positive, Positive, Positive, Negat...</td>\n",
       "      <td>Medium Rating</td>\n",
       "    </tr>\n",
       "    <tr>\n",
       "      <th>47</th>\n",
       "      <td>5fb6f4ed</td>\n",
       "      <td>2.8</td>\n",
       "      <td>4</td>\n",
       "      <td>Statistics</td>\n",
       "      <td>UC Davis</td>\n",
       "      <td>[He failed to make the points clearly. It just...</td>\n",
       "      <td>[]</td>\n",
       "      <td>[Positive, Negative, Positive, Negative]</td>\n",
       "      <td>Low Rating</td>\n",
       "    </tr>\n",
       "    <tr>\n",
       "      <th>48</th>\n",
       "      <td>e1590d8e</td>\n",
       "      <td>2.5</td>\n",
       "      <td>20</td>\n",
       "      <td>Statistics</td>\n",
       "      <td>UC Davis</td>\n",
       "      <td>[Will say she is a very harsh grader on exams ...</td>\n",
       "      <td>[]</td>\n",
       "      <td>[Negative, Negative, Positive, Negative, Neutr...</td>\n",
       "      <td>Low Rating</td>\n",
       "    </tr>\n",
       "    <tr>\n",
       "      <th>49</th>\n",
       "      <td>d3dca242</td>\n",
       "      <td>4.7</td>\n",
       "      <td>3</td>\n",
       "      <td>Statistics</td>\n",
       "      <td>UC Davis</td>\n",
       "      <td>[This professor is really kind and really nice...</td>\n",
       "      <td>[]</td>\n",
       "      <td>[Positive, Positive, Neutral]</td>\n",
       "      <td>High Rating</td>\n",
       "    </tr>\n",
       "  </tbody>\n",
       "</table>\n",
       "</div>"
      ],
      "text/plain": [
       "   Professor Average Rating Num Ratings    Department        School  \\\n",
       "0   a968b33d            2.5          13  Data Science  UC San Diego   \n",
       "1   11b6fcc2            3.7          13  Data Science  UC San Diego   \n",
       "2   9c6f5334            5.0           2  Data Science  UC San Diego   \n",
       "3   3ed2b676            3.3         106  Data Science  UC San Diego   \n",
       "4   aed83b0e            4.6           8  Data Science  UC San Diego   \n",
       "5   4e8abdba            4.8          19  Data Science  UC San Diego   \n",
       "6   fe2945d2            4.9          21  Data Science  UC San Diego   \n",
       "7   80f62682            1.4          17  Data Science  UC San Diego   \n",
       "8   1afbf8c1            5.0           1  Data Science  UC San Diego   \n",
       "9   3aeb7052            2.0           3  Data Science  UC San Diego   \n",
       "10  f373cdb8            5.0           9  Data Science  UC San Diego   \n",
       "11  cc802ff3            5.0           3  Data Science  UC San Diego   \n",
       "12  1b60e115            5.0           6  Data Science  UC San Diego   \n",
       "13  f89fb50b            3.0           1  Data Science  UC San Diego   \n",
       "14  4e701070            1.0           4  Data Science  UC San Diego   \n",
       "15  54a1448c            2.0           1  Data Science  UC San Diego   \n",
       "16  cd3aa54f            2.4         250    Statistics      UC Davis   \n",
       "17  686e5a8a            3.8         211    Statistics      UC Davis   \n",
       "18  d93ba308            4.7          55    Statistics      UC Davis   \n",
       "19  de08aacd            3.0          33    Statistics      UC Davis   \n",
       "20  a7a92166            4.5          92    Statistics      UC Davis   \n",
       "21  55f46442            4.0           4    Statistics      UC Davis   \n",
       "22  5c8f7c18            2.4         176    Statistics      UC Davis   \n",
       "23  21d7d369            3.5         142    Statistics      UC Davis   \n",
       "24  2edd6cce            3.0          34    Statistics      UC Davis   \n",
       "25  c5cc1655            2.1          27    Statistics      UC Davis   \n",
       "26  eb9750be            4.5          13    Statistics      UC Davis   \n",
       "27  e833450d            4.4          26    Statistics      UC Davis   \n",
       "28  8c7da3de            2.1          28    Statistics      UC Davis   \n",
       "29  fe7df835            4.6          45    Statistics      UC Davis   \n",
       "30  58f6d9b7            3.4          61    Statistics      UC Davis   \n",
       "31  ab5277b0            1.6          88    Statistics      UC Davis   \n",
       "32  54553ec2            2.2          89    Statistics      UC Davis   \n",
       "33  1cf518b5            1.8         249    Statistics      UC Davis   \n",
       "34  1ec1fddf            2.2          52    Statistics      UC Davis   \n",
       "35  54608f97            1.9          38    Statistics      UC Davis   \n",
       "36  4a84ae2b            3.4          23    Statistics      UC Davis   \n",
       "37  dbafc9a4            2.2          66    Statistics      UC Davis   \n",
       "38  0c41f8dc            3.2          18    Statistics      UC Davis   \n",
       "39  9b81c9a5            5.0           5    Statistics      UC Davis   \n",
       "40  2d89881f            3.5          10    Statistics      UC Davis   \n",
       "41  c4cf39f3            3.1          17    Statistics      UC Davis   \n",
       "42  ef80b5e2            4.4          17    Statistics      UC Davis   \n",
       "43  9ba53f01            4.0           3    Statistics      UC Davis   \n",
       "44  7f4d96ed            3.4          89    Statistics      UC Davis   \n",
       "45  63e77aee            5.0           2    Statistics      UC Davis   \n",
       "46  18ff13c1            3.3          10    Statistics      UC Davis   \n",
       "47  5fb6f4ed            2.8           4    Statistics      UC Davis   \n",
       "48  e1590d8e            2.5          20    Statistics      UC Davis   \n",
       "49  d3dca242            4.7           3    Statistics      UC Davis   \n",
       "\n",
       "                                              Reviews Tags  \\\n",
       "0   [Prof. Salimi is the worst I've had. Lectures ...   []   \n",
       "1   [The easiest CS class you will ever take. 5 ho...   []   \n",
       "2   [Professor Hao really cares about teaching, an...   []   \n",
       "3   [Great professor, even though attendance not m...   []   \n",
       "4   [I can't say he's an unfair or hard professor,...   []   \n",
       "5   [BEST PROF EVER, Very organized professor. Eas...   []   \n",
       "6   [Took Practical Data Science at UM. Suraj was ...   []   \n",
       "7   [slow in releasing participation and PA grades...   []   \n",
       "8   [Best professor to introduce you to data scien...   []   \n",
       "9   [descent professor, make the lectures really i...   []   \n",
       "10  [just great, awesome, A real homie, quality le...   []   \n",
       "11  [Fast response on Campuswire, 8% extra credits...   []   \n",
       "12  [Legendary. Absolutely recommended to every st...   []   \n",
       "13  [He's a great professor and teaches well, & I ...   []   \n",
       "14  [Terrible class. Watched every lecture and dis...   []   \n",
       "15  [You can learn a lot from Prof. Smarr's course...   []   \n",
       "16  [I have him right now, and he's the worst prof...   []   \n",
       "17  [Dr. Whitener is the BEST; she provides every ...   []   \n",
       "18  [Okay, this has got to be the worst case of \"I...   []   \n",
       "19  [They are truly the goat. They have made their...   []   \n",
       "20  [Prof Anderes is hands down the best professor...   []   \n",
       "21  [Masini is one of the best stats professors I'...   []   \n",
       "22  [do not take, Class median was a sub-60% and r...   []   \n",
       "23  [Very passionate instructor who may not be the...   []   \n",
       "24  [Dr. Le is definitely one of the better stats ...   []   \n",
       "25  [Learned nothing from his lecture. He is conde...   []   \n",
       "26  [Stale lectures and drops a midterm. She is ni...   []   \n",
       "27  [One of the greatest instructors in our depart...   []   \n",
       "28  [Not useful, the test is tricky and not easy t...   []   \n",
       "29  [Prof Lopes explains things well. Idk why peop...   []   \n",
       "30  [The lectures are fairly confusing with him wr...   []   \n",
       "31  [Quite possibly the worst professor I have eve...   []   \n",
       "32  [This course really content lots of useful thi...   []   \n",
       "33  [Can't lecture and has horrible handwriting. E...   []   \n",
       "34  [She doubled the workload of assignments in mi...   []   \n",
       "35  [He curved the whole class a lot but the lectu...   []   \n",
       "36  [Lectures are hard to follow, but the material...   []   \n",
       "37  [He is really too old to teach such a mathetic...   []   \n",
       "38  [I had Professor Kuhnert for both STA 141A and...   []   \n",
       "39  [One of the best professors I have ever taken ...   []   \n",
       "40  [Definitely a cocky guy but he acknowledges th...   []   \n",
       "41  [Class was very succinct and to-the-point. The...   []   \n",
       "42  [The grading and curve is unfair., Good profes...   []   \n",
       "43  [Prof. Frei was quite monotonous, with lecture...   []   \n",
       "44  [Jiming is a legend! He is a very bright guy w...   []   \n",
       "45           [Top 10 Stats TA of all time, Goated TA]   []   \n",
       "46  [Pretty good prof, easy hws, teaches a lot of ...   []   \n",
       "47  [He failed to make the points clearly. It just...   []   \n",
       "48  [Will say she is a very harsh grader on exams ...   []   \n",
       "49  [This professor is really kind and really nice...   []   \n",
       "\n",
       "                                            Sentiment Rating_Category  \n",
       "0   [Negative, Negative, Positive, Positive, Negat...      Low Rating  \n",
       "1   [Positive, Positive, Positive, Positive, Posit...   Medium Rating  \n",
       "2                                [Positive, Positive]     High Rating  \n",
       "3   [Positive, Positive, Positive, Positive, Posit...   Medium Rating  \n",
       "4   [Positive, Positive, Positive, Positive, Posit...     High Rating  \n",
       "5   [Positive, Positive, Positive, Positive, Posit...     High Rating  \n",
       "6   [Positive, Positive, Positive, Positive, Negat...     High Rating  \n",
       "7   [Negative, Positive, Negative, Negative, Negat...      Low Rating  \n",
       "8                                          [Positive]     High Rating  \n",
       "9                      [Positive, Negative, Positive]      Low Rating  \n",
       "10  [Positive, Positive, Positive, Positive, Posit...     High Rating  \n",
       "11                     [Positive, Positive, Positive]     High Rating  \n",
       "12  [Positive, Positive, Positive, Positive, Posit...     High Rating  \n",
       "13                                         [Positive]   Medium Rating  \n",
       "14            [Negative, Negative, Neutral, Negative]      Low Rating  \n",
       "15                                         [Negative]      Low Rating  \n",
       "16  [Negative, Negative, Positive, Negative, Negat...      Low Rating  \n",
       "17  [Positive, Positive, Positive, Negative, Posit...   Medium Rating  \n",
       "18  [Positive, Positive, Positive, Positive, Posit...     High Rating  \n",
       "19  [Positive, Positive, Positive, Positive, Posit...   Medium Rating  \n",
       "20  [Positive, Positive, Positive, Positive, Posit...     High Rating  \n",
       "21           [Positive, Positive, Positive, Positive]   Medium Rating  \n",
       "22  [Neutral, Negative, Positive, Positive, Positi...      Low Rating  \n",
       "23  [Positive, Positive, Positive, Positive, Posit...   Medium Rating  \n",
       "24  [Positive, Positive, Positive, Negative, Negat...   Medium Rating  \n",
       "25  [Negative, Neutral, Negative, Negative, Negati...      Low Rating  \n",
       "26  [Positive, Positive, Positive, Positive, Posit...     High Rating  \n",
       "27  [Positive, Positive, Positive, Positive, Posit...   Medium Rating  \n",
       "28  [Negative, Positive, Positive, Neutral, Positi...      Low Rating  \n",
       "29  [Positive, Positive, Positive, Negative, Negat...     High Rating  \n",
       "30  [Positive, Positive, Positive, Positive, Posit...   Medium Rating  \n",
       "31  [Negative, Positive, Positive, Negative, Negat...      Low Rating  \n",
       "32  [Positive, Positive, Negative, Positive, Negat...      Low Rating  \n",
       "33  [Negative, Negative, Negative, Negative, Neutr...      Low Rating  \n",
       "34  [Negative, Negative, Positive, Positive, Neutr...      Low Rating  \n",
       "35  [Negative, Negative, Positive, Positive, Negat...      Low Rating  \n",
       "36  [Positive, Positive, Positive, Positive, Negat...   Medium Rating  \n",
       "37  [Negative, Negative, Negative, Negative, Posit...      Low Rating  \n",
       "38  [Positive, Negative, Negative, Positive, Posit...   Medium Rating  \n",
       "39  [Positive, Positive, Positive, Positive, Posit...     High Rating  \n",
       "40  [Negative, Negative, Positive, Positive, Posit...   Medium Rating  \n",
       "41  [Positive, Positive, Positive, Neutral, Negati...   Medium Rating  \n",
       "42  [Negative, Negative, Positive, Positive, Posit...   Medium Rating  \n",
       "43                     [Positive, Positive, Positive]   Medium Rating  \n",
       "44  [Positive, Positive, Positive, Positive, Posit...   Medium Rating  \n",
       "45                                [Positive, Neutral]     High Rating  \n",
       "46  [Positive, Positive, Positive, Positive, Negat...   Medium Rating  \n",
       "47           [Positive, Negative, Positive, Negative]      Low Rating  \n",
       "48  [Negative, Negative, Positive, Negative, Neutr...      Low Rating  \n",
       "49                      [Positive, Positive, Neutral]     High Rating  "
      ]
     },
     "execution_count": 44,
     "metadata": {},
     "output_type": "execute_result"
    }
   ],
   "source": [
    "df_all.head(50)"
   ]
  },
  {
   "cell_type": "markdown",
   "metadata": {},
   "source": [
    "Now I will create some plots. We might not use all of these plots, but the more the merrier."
   ]
  },
  {
   "cell_type": "code",
   "execution_count": 18,
   "metadata": {},
   "outputs": [
    {
     "data": {
      "image/png": "[encoded data removed]",
      "text/plain": [
       "<Figure size 640x480 with 1 Axes>"
      ]
     },
     "metadata": {},
     "output_type": "display_data"
    }
   ],
   "source": [
    "import matplotlib.pyplot as plt\n",
    "\n",
    "df_sentiment_counts = df_all.explode(\"Sentiment\")[\"Sentiment\"].value_counts()\n",
    "\n",
    "df_sentiment_counts.plot(kind=\"bar\", color=[\"green\", \"gray\", \"red\"])\n",
    "plt.title(\"Sentiment Distribution of Reviews\")\n",
    "plt.xlabel(\"Sentiment\")\n",
    "plt.ylabel(\"Count\")\n",
    "plt.xticks(rotation=0)\n",
    "plt.show()\n"
   ]
  },
  {
   "cell_type": "code",
   "execution_count": 19,
   "metadata": {},
   "outputs": [
    {
     "data": {
      "image/png": "[encoded data removed]",
      "text/plain": [
       "<Figure size 640x480 with 1 Axes>"
      ]
     },
     "metadata": {},
     "output_type": "display_data"
    }
   ],
   "source": [
    "df_sentiment_counts.plot(kind=\"pie\", autopct=\"%1.1f%%\", colors=[\"green\", \"gray\", \"red\"])\n",
    "plt.title(\"Sentiment Proportions of Reviews\")\n",
    "plt.ylabel(\"\")\n",
    "plt.show()\n"
   ]
  },
  {
   "cell_type": "code",
   "execution_count": 51,
   "metadata": {},
   "outputs": [
    {
     "name": "stdout",
     "output_type": "stream",
     "text": [
      "        School Sentiment  Count\n",
      "0  UC Berkeley  Negative    224\n",
      "1  UC Berkeley   Neutral     24\n",
      "2  UC Berkeley  Positive    379\n",
      "3     UC Davis  Negative    335\n",
      "4     UC Davis   Neutral     57\n"
     ]
    },
    {
     "data": {
      "application/vnd.plotly.v1+json": {
       "config": {
        "plotlyServerURL": "https://plot.ly"
       },
       "data": [
        {
         "alignmentgroup": "True",
         "hovertemplate": "Sentiment Type=Negative<br>University=%{x}<br>Number of Reviews=%{y}<extra></extra>",
         "legendgroup": "Negative",
         "marker": {
          "color": "red",
          "pattern": {
           "shape": ""
          }
         },
         "name": "Negative",
         "offsetgroup": "Negative",
         "orientation": "v",
         "showlegend": true,
         "textposition": "auto",
         "type": "bar",
         "x": [
          "UC Berkeley",
          "UC Davis",
          "UC Irvine",
          "UC San Diego",
          "UCLA"
         ],
         "xaxis": "x",
         "y": [
          224,
          335,
          91,
          30,
          4
         ],
         "yaxis": "y"
        },
        {
         "alignmentgroup": "True",
         "hovertemplate": "Sentiment Type=Neutral<br>University=%{x}<br>Number of Reviews=%{y}<extra></extra>",
         "legendgroup": "Neutral",
         "marker": {
          "color": "gray",
          "pattern": {
           "shape": ""
          }
         },
         "name": "Neutral",
         "offsetgroup": "Neutral",
         "orientation": "v",
         "showlegend": true,
         "textposition": "auto",
         "type": "bar",
         "x": [
          "UC Berkeley",
          "UC Davis",
          "UC Irvine",
          "UC San Diego"
         ],
         "xaxis": "x",
         "y": [
          24,
          57,
          11,
          7
         ],
         "yaxis": "y"
        },
        {
         "alignmentgroup": "True",
         "hovertemplate": "Sentiment Type=Positive<br>University=%{x}<br>Number of Reviews=%{y}<extra></extra>",
         "legendgroup": "Positive",
         "marker": {
          "color": "green",
          "pattern": {
           "shape": ""
          }
         },
         "name": "Positive",
         "offsetgroup": "Positive",
         "orientation": "v",
         "showlegend": true,
         "textposition": "auto",
         "type": "bar",
         "x": [
          "UC Berkeley",
          "UC Davis",
          "UC Irvine",
          "UC San Diego",
          "UCLA"
         ],
         "xaxis": "x",
         "y": [
          379,
          802,
          238,
          103,
          28
         ],
         "yaxis": "y"
        }
       ],
       "layout": {
        "barmode": "stack",
        "height": 600,
        "legend": {
         "title": {
          "text": "Sentiment Type"
         },
         "tracegroupgap": 0
        },
        "template": {
         "data": {
          "bar": [
           {
            "error_x": {
             "color": "#2a3f5f"
            },
            "error_y": {
             "color": "#2a3f5f"
            },
            "marker": {
             "line": {
              "color": "#E5ECF6",
              "width": 0.5
             },
             "pattern": {
              "fillmode": "overlay",
              "size": 10,
              "solidity": 0.2
             }
            },
            "type": "bar"
           }
          ],
          "barpolar": [
           {
            "marker": {
             "line": {
              "color": "#E5ECF6",
              "width": 0.5
             },
             "pattern": {
              "fillmode": "overlay",
              "size": 10,
              "solidity": 0.2
             }
            },
            "type": "barpolar"
           }
          ],
          "carpet": [
           {
            "aaxis": {
             "endlinecolor": "#2a3f5f",
             "gridcolor": "white",
             "linecolor": "white",
             "minorgridcolor": "white",
             "startlinecolor": "#2a3f5f"
            },
            "baxis": {
             "endlinecolor": "#2a3f5f",
             "gridcolor": "white",
             "linecolor": "white",
             "minorgridcolor": "white",
             "startlinecolor": "#2a3f5f"
            },
            "type": "carpet"
           }
          ],
          "choropleth": [
           {
            "colorbar": {
             "outlinewidth": 0,
             "ticks": ""
            },
            "type": "choropleth"
           }
          ],
          "contour": [
           {
            "colorbar": {
             "outlinewidth": 0,
             "ticks": ""
            },
            "colorscale": [
             [
              0,
              "#0d0887"
             ],
             [
              0.1111111111111111,
              "#46039f"
             ],
             [
              0.2222222222222222,
              "#7201a8"
             ],
             [
              0.3333333333333333,
              "#9c179e"
             ],
             [
              0.4444444444444444,
              "#bd3786"
             ],
             [
              0.5555555555555556,
              "#d8576b"
             ],
             [
              0.6666666666666666,
              "#ed7953"
             ],
             [
              0.7777777777777778,
              "#fb9f3a"
             ],
             [
              0.8888888888888888,
              "#fdca26"
             ],
             [
              1,
              "#f0f921"
             ]
            ],
            "type": "contour"
           }
          ],
          "contourcarpet": [
           {
            "colorbar": {
             "outlinewidth": 0,
             "ticks": ""
            },
            "type": "contourcarpet"
           }
          ],
          "heatmap": [
           {
            "colorbar": {
             "outlinewidth": 0,
             "ticks": ""
            },
            "colorscale": [
             [
              0,
              "#0d0887"
             ],
             [
              0.1111111111111111,
              "#46039f"
             ],
             [
              0.2222222222222222,
              "#7201a8"
             ],
             [
              0.3333333333333333,
              "#9c179e"
             ],
             [
              0.4444444444444444,
              "#bd3786"
             ],
             [
              0.5555555555555556,
              "#d8576b"
             ],
             [
              0.6666666666666666,
              "#ed7953"
             ],
             [
              0.7777777777777778,
              "#fb9f3a"
             ],
             [
              0.8888888888888888,
              "#fdca26"
             ],
             [
              1,
              "#f0f921"
             ]
            ],
            "type": "heatmap"
           }
          ],
          "heatmapgl": [
           {
            "colorbar": {
             "outlinewidth": 0,
             "ticks": ""
            },
            "colorscale": [
             [
              0,
              "#0d0887"
             ],
             [
              0.1111111111111111,
              "#46039f"
             ],
             [
              0.2222222222222222,
              "#7201a8"
             ],
             [
              0.3333333333333333,
              "#9c179e"
             ],
             [
              0.4444444444444444,
              "#bd3786"
             ],
             [
              0.5555555555555556,
              "#d8576b"
             ],
             [
              0.6666666666666666,
              "#ed7953"
             ],
             [
              0.7777777777777778,
              "#fb9f3a"
             ],
             [
              0.8888888888888888,
              "#fdca26"
             ],
             [
              1,
              "#f0f921"
             ]
            ],
            "type": "heatmapgl"
           }
          ],
          "histogram": [
           {
            "marker": {
             "pattern": {
              "fillmode": "overlay",
              "size": 10,
              "solidity": 0.2
             }
            },
            "type": "histogram"
           }
          ],
          "histogram2d": [
           {
            "colorbar": {
             "outlinewidth": 0,
             "ticks": ""
            },
            "colorscale": [
             [
              0,
              "#0d0887"
             ],
             [
              0.1111111111111111,
              "#46039f"
             ],
             [
              0.2222222222222222,
              "#7201a8"
             ],
             [
              0.3333333333333333,
              "#9c179e"
             ],
             [
              0.4444444444444444,
              "#bd3786"
             ],
             [
              0.5555555555555556,
              "#d8576b"
             ],
             [
              0.6666666666666666,
              "#ed7953"
             ],
             [
              0.7777777777777778,
              "#fb9f3a"
             ],
             [
              0.8888888888888888,
              "#fdca26"
             ],
             [
              1,
              "#f0f921"
             ]
            ],
            "type": "histogram2d"
           }
          ],
          "histogram2dcontour": [
           {
            "colorbar": {
             "outlinewidth": 0,
             "ticks": ""
            },
            "colorscale": [
             [
              0,
              "#0d0887"
             ],
             [
              0.1111111111111111,
              "#46039f"
             ],
             [
              0.2222222222222222,
              "#7201a8"
             ],
             [
              0.3333333333333333,
              "#9c179e"
             ],
             [
              0.4444444444444444,
              "#bd3786"
             ],
             [
              0.5555555555555556,
              "#d8576b"
             ],
             [
              0.6666666666666666,
              "#ed7953"
             ],
             [
              0.7777777777777778,
              "#fb9f3a"
             ],
             [
              0.8888888888888888,
              "#fdca26"
             ],
             [
              1,
              "#f0f921"
             ]
            ],
            "type": "histogram2dcontour"
           }
          ],
          "mesh3d": [
           {
            "colorbar": {
             "outlinewidth": 0,
             "ticks": ""
            },
            "type": "mesh3d"
           }
          ],
          "parcoords": [
           {
            "line": {
             "colorbar": {
              "outlinewidth": 0,
              "ticks": ""
             }
            },
            "type": "parcoords"
           }
          ],
          "pie": [
           {
            "automargin": true,
            "type": "pie"
           }
          ],
          "scatter": [
           {
            "fillpattern": {
             "fillmode": "overlay",
             "size": 10,
             "solidity": 0.2
            },
            "type": "scatter"
           }
          ],
          "scatter3d": [
           {
            "line": {
             "colorbar": {
              "outlinewidth": 0,
              "ticks": ""
             }
            },
            "marker": {
             "colorbar": {
              "outlinewidth": 0,
              "ticks": ""
             }
            },
            "type": "scatter3d"
           }
          ],
          "scattercarpet": [
           {
            "marker": {
             "colorbar": {
              "outlinewidth": 0,
              "ticks": ""
             }
            },
            "type": "scattercarpet"
           }
          ],
          "scattergeo": [
           {
            "marker": {
             "colorbar": {
              "outlinewidth": 0,
              "ticks": ""
             }
            },
            "type": "scattergeo"
           }
          ],
          "scattergl": [
           {
            "marker": {
             "colorbar": {
              "outlinewidth": 0,
              "ticks": ""
             }
            },
            "type": "scattergl"
           }
          ],
          "scattermapbox": [
           {
            "marker": {
             "colorbar": {
              "outlinewidth": 0,
              "ticks": ""
             }
            },
            "type": "scattermapbox"
           }
          ],
          "scatterpolar": [
           {
            "marker": {
             "colorbar": {
              "outlinewidth": 0,
              "ticks": ""
             }
            },
            "type": "scatterpolar"
           }
          ],
          "scatterpolargl": [
           {
            "marker": {
             "colorbar": {
              "outlinewidth": 0,
              "ticks": ""
             }
            },
            "type": "scatterpolargl"
           }
          ],
          "scatterternary": [
           {
            "marker": {
             "colorbar": {
              "outlinewidth": 0,
              "ticks": ""
             }
            },
            "type": "scatterternary"
           }
          ],
          "surface": [
           {
            "colorbar": {
             "outlinewidth": 0,
             "ticks": ""
            },
            "colorscale": [
             [
              0,
              "#0d0887"
             ],
             [
              0.1111111111111111,
              "#46039f"
             ],
             [
              0.2222222222222222,
              "#7201a8"
             ],
             [
              0.3333333333333333,
              "#9c179e"
             ],
             [
              0.4444444444444444,
              "#bd3786"
             ],
             [
              0.5555555555555556,
              "#d8576b"
             ],
             [
              0.6666666666666666,
              "#ed7953"
             ],
             [
              0.7777777777777778,
              "#fb9f3a"
             ],
             [
              0.8888888888888888,
              "#fdca26"
             ],
             [
              1,
              "#f0f921"
             ]
            ],
            "type": "surface"
           }
          ],
          "table": [
           {
            "cells": {
             "fill": {
              "color": "#EBF0F8"
             },
             "line": {
              "color": "white"
             }
            },
            "header": {
             "fill": {
              "color": "#C8D4E3"
             },
             "line": {
              "color": "white"
             }
            },
            "type": "table"
           }
          ]
         },
         "layout": {
          "annotationdefaults": {
           "arrowcolor": "#2a3f5f",
           "arrowhead": 0,
           "arrowwidth": 1
          },
          "autotypenumbers": "strict",
          "coloraxis": {
           "colorbar": {
            "outlinewidth": 0,
            "ticks": ""
           }
          },
          "colorscale": {
           "diverging": [
            [
             0,
             "#8e0152"
            ],
            [
             0.1,
             "#c51b7d"
            ],
            [
             0.2,
             "#de77ae"
            ],
            [
             0.3,
             "#f1b6da"
            ],
            [
             0.4,
             "#fde0ef"
            ],
            [
             0.5,
             "#f7f7f7"
            ],
            [
             0.6,
             "#e6f5d0"
            ],
            [
             0.7,
             "#b8e186"
            ],
            [
             0.8,
             "#7fbc41"
            ],
            [
             0.9,
             "#4d9221"
            ],
            [
             1,
             "#276419"
            ]
           ],
           "sequential": [
            [
             0,
             "#0d0887"
            ],
            [
             0.1111111111111111,
             "#46039f"
            ],
            [
             0.2222222222222222,
             "#7201a8"
            ],
            [
             0.3333333333333333,
             "#9c179e"
            ],
            [
             0.4444444444444444,
             "#bd3786"
            ],
            [
             0.5555555555555556,
             "#d8576b"
            ],
            [
             0.6666666666666666,
             "#ed7953"
            ],
            [
             0.7777777777777778,
             "#fb9f3a"
            ],
            [
             0.8888888888888888,
             "#fdca26"
            ],
            [
             1,
             "#f0f921"
            ]
           ],
           "sequentialminus": [
            [
             0,
             "#0d0887"
            ],
            [
             0.1111111111111111,
             "#46039f"
            ],
            [
             0.2222222222222222,
             "#7201a8"
            ],
            [
             0.3333333333333333,
             "#9c179e"
            ],
            [
             0.4444444444444444,
             "#bd3786"
            ],
            [
             0.5555555555555556,
             "#d8576b"
            ],
            [
             0.6666666666666666,
             "#ed7953"
            ],
            [
             0.7777777777777778,
             "#fb9f3a"
            ],
            [
             0.8888888888888888,
             "#fdca26"
            ],
            [
             1,
             "#f0f921"
            ]
           ]
          },
          "colorway": [
           "#636efa",
           "#EF553B",
           "#00cc96",
           "#ab63fa",
           "#FFA15A",
           "#19d3f3",
           "#FF6692",
           "#B6E880",
           "#FF97FF",
           "#FECB52"
          ],
          "font": {
           "color": "#2a3f5f"
          },
          "geo": {
           "bgcolor": "white",
           "lakecolor": "white",
           "landcolor": "#E5ECF6",
           "showlakes": true,
           "showland": true,
           "subunitcolor": "white"
          },
          "hoverlabel": {
           "align": "left"
          },
          "hovermode": "closest",
          "mapbox": {
           "style": "light"
          },
          "paper_bgcolor": "white",
          "plot_bgcolor": "#E5ECF6",
          "polar": {
           "angularaxis": {
            "gridcolor": "white",
            "linecolor": "white",
            "ticks": ""
           },
           "bgcolor": "#E5ECF6",
           "radialaxis": {
            "gridcolor": "white",
            "linecolor": "white",
            "ticks": ""
           }
          },
          "scene": {
           "xaxis": {
            "backgroundcolor": "#E5ECF6",
            "gridcolor": "white",
            "gridwidth": 2,
            "linecolor": "white",
            "showbackground": true,
            "ticks": "",
            "zerolinecolor": "white"
           },
           "yaxis": {
            "backgroundcolor": "#E5ECF6",
            "gridcolor": "white",
            "gridwidth": 2,
            "linecolor": "white",
            "showbackground": true,
            "ticks": "",
            "zerolinecolor": "white"
           },
           "zaxis": {
            "backgroundcolor": "#E5ECF6",
            "gridcolor": "white",
            "gridwidth": 2,
            "linecolor": "white",
            "showbackground": true,
            "ticks": "",
            "zerolinecolor": "white"
           }
          },
          "shapedefaults": {
           "line": {
            "color": "#2a3f5f"
           }
          },
          "ternary": {
           "aaxis": {
            "gridcolor": "white",
            "linecolor": "white",
            "ticks": ""
           },
           "baxis": {
            "gridcolor": "white",
            "linecolor": "white",
            "ticks": ""
           },
           "bgcolor": "#E5ECF6",
           "caxis": {
            "gridcolor": "white",
            "linecolor": "white",
            "ticks": ""
           }
          },
          "title": {
           "x": 0.05
          },
          "xaxis": {
           "automargin": true,
           "gridcolor": "white",
           "linecolor": "white",
           "ticks": "",
           "title": {
            "standoff": 15
           },
           "zerolinecolor": "white",
           "zerolinewidth": 2
          },
          "yaxis": {
           "automargin": true,
           "gridcolor": "white",
           "linecolor": "white",
           "ticks": "",
           "title": {
            "standoff": 15
           },
           "zerolinecolor": "white",
           "zerolinewidth": 2
          }
         }
        },
        "title": {
         "text": "Sentiment Breakdown per University"
        },
        "width": 1000,
        "xaxis": {
         "anchor": "y",
         "domain": [
          0,
          1
         ],
         "tickangle": -45,
         "title": {
          "text": "University"
         }
        },
        "yaxis": {
         "anchor": "x",
         "domain": [
          0,
          1
         ],
         "title": {
          "text": "Number of Reviews"
         }
        }
       }
      }
     },
     "metadata": {},
     "output_type": "display_data"
    }
   ],
   "source": [
    "import plotly.express as px\n",
    "\n",
    "df_sentiment = df_all.explode(\"Sentiment\")\n",
    "df_sentiment_count = df_sentiment.groupby([\"School\", \"Sentiment\"]).size().reset_index(name=\"Count\")\n",
    "print(df_sentiment_count.head())\n",
    "\n",
    "fig = px.bar(\n",
    "    df_sentiment_count, \n",
    "    x=\"School\", \n",
    "    y=\"Count\", \n",
    "    color=\"Sentiment\", \n",
    "    barmode=\"stack\", \n",
    "    title=\"Sentiment Breakdown per University\",\n",
    "    labels={\"Count\": \"Number of Reviews\", \"School\": \"University\", \"Sentiment\": \"Sentiment Type\"},\n",
    "    color_discrete_map={\"Positive\": \"green\", \"Neutral\": \"gray\", \"Negative\": \"red\"}\n",
    ")\n",
    "fig.update_layout(\n",
    "    width=1000,  # Set width in pixels\n",
    "    height=600   # Set height in pixels\n",
    ")\n",
    "\n",
    "\n",
    "fig.update_layout(xaxis_tickangle=-45)\n",
    "fig.show()\n"
   ]
  },
  {
   "cell_type": "code",
   "execution_count": 41,
   "metadata": {},
   "outputs": [
    {
     "name": "stderr",
     "output_type": "stream",
     "text": [
      "[nltk_data] Downloading package stopwords to\n",
      "[nltk_data]     /Users/tejgaonkar/nltk_data...\n",
      "[nltk_data]   Package stopwords is already up-to-date!\n"
     ]
    },
    {
     "data": {
      "application/vnd.plotly.v1+json": {
       "config": {
        "plotlyServerURL": "https://plot.ly"
       },
       "data": [
        {
         "alignmentgroup": "True",
         "hovertemplate": "Word=%{x}<br>Count=%{y}<extra></extra>",
         "legendgroup": "",
         "marker": {
          "color": "#636efa",
          "pattern": {
           "shape": ""
          }
         },
         "name": "",
         "offsetgroup": "",
         "orientation": "v",
         "showlegend": false,
         "textposition": "auto",
         "type": "bar",
         "x": [
          "good",
          "hard",
          "easy",
          "one",
          "tests",
          "great",
          "lot",
          "practice",
          "material",
          "hw",
          "office",
          "time",
          "understand",
          "questions",
          "notes",
          "help",
          "learn",
          "difficult",
          "well",
          "even"
         ],
         "xaxis": "x",
         "y": [
          346,
          310,
          307,
          268,
          258,
          247,
          237,
          237,
          215,
          213,
          209,
          207,
          202,
          196,
          194,
          192,
          190,
          183,
          181,
          181
         ],
         "yaxis": "y"
        }
       ],
       "layout": {
        "barmode": "relative",
        "legend": {
         "tracegroupgap": 0
        },
        "template": {
         "data": {
          "bar": [
           {
            "error_x": {
             "color": "#2a3f5f"
            },
            "error_y": {
             "color": "#2a3f5f"
            },
            "marker": {
             "line": {
              "color": "#E5ECF6",
              "width": 0.5
             },
             "pattern": {
              "fillmode": "overlay",
              "size": 10,
              "solidity": 0.2
             }
            },
            "type": "bar"
           }
          ],
          "barpolar": [
           {
            "marker": {
             "line": {
              "color": "#E5ECF6",
              "width": 0.5
             },
             "pattern": {
              "fillmode": "overlay",
              "size": 10,
              "solidity": 0.2
             }
            },
            "type": "barpolar"
           }
          ],
          "carpet": [
           {
            "aaxis": {
             "endlinecolor": "#2a3f5f",
             "gridcolor": "white",
             "linecolor": "white",
             "minorgridcolor": "white",
             "startlinecolor": "#2a3f5f"
            },
            "baxis": {
             "endlinecolor": "#2a3f5f",
             "gridcolor": "white",
             "linecolor": "white",
             "minorgridcolor": "white",
             "startlinecolor": "#2a3f5f"
            },
            "type": "carpet"
           }
          ],
          "choropleth": [
           {
            "colorbar": {
             "outlinewidth": 0,
             "ticks": ""
            },
            "type": "choropleth"
           }
          ],
          "contour": [
           {
            "colorbar": {
             "outlinewidth": 0,
             "ticks": ""
            },
            "colorscale": [
             [
              0,
              "#0d0887"
             ],
             [
              0.1111111111111111,
              "#46039f"
             ],
             [
              0.2222222222222222,
              "#7201a8"
             ],
             [
              0.3333333333333333,
              "#9c179e"
             ],
             [
              0.4444444444444444,
              "#bd3786"
             ],
             [
              0.5555555555555556,
              "#d8576b"
             ],
             [
              0.6666666666666666,
              "#ed7953"
             ],
             [
              0.7777777777777778,
              "#fb9f3a"
             ],
             [
              0.8888888888888888,
              "#fdca26"
             ],
             [
              1,
              "#f0f921"
             ]
            ],
            "type": "contour"
           }
          ],
          "contourcarpet": [
           {
            "colorbar": {
             "outlinewidth": 0,
             "ticks": ""
            },
            "type": "contourcarpet"
           }
          ],
          "heatmap": [
           {
            "colorbar": {
             "outlinewidth": 0,
             "ticks": ""
            },
            "colorscale": [
             [
              0,
              "#0d0887"
             ],
             [
              0.1111111111111111,
              "#46039f"
             ],
             [
              0.2222222222222222,
              "#7201a8"
             ],
             [
              0.3333333333333333,
              "#9c179e"
             ],
             [
              0.4444444444444444,
              "#bd3786"
             ],
             [
              0.5555555555555556,
              "#d8576b"
             ],
             [
              0.6666666666666666,
              "#ed7953"
             ],
             [
              0.7777777777777778,
              "#fb9f3a"
             ],
             [
              0.8888888888888888,
              "#fdca26"
             ],
             [
              1,
              "#f0f921"
             ]
            ],
            "type": "heatmap"
           }
          ],
          "heatmapgl": [
           {
            "colorbar": {
             "outlinewidth": 0,
             "ticks": ""
            },
            "colorscale": [
             [
              0,
              "#0d0887"
             ],
             [
              0.1111111111111111,
              "#46039f"
             ],
             [
              0.2222222222222222,
              "#7201a8"
             ],
             [
              0.3333333333333333,
              "#9c179e"
             ],
             [
              0.4444444444444444,
              "#bd3786"
             ],
             [
              0.5555555555555556,
              "#d8576b"
             ],
             [
              0.6666666666666666,
              "#ed7953"
             ],
             [
              0.7777777777777778,
              "#fb9f3a"
             ],
             [
              0.8888888888888888,
              "#fdca26"
             ],
             [
              1,
              "#f0f921"
             ]
            ],
            "type": "heatmapgl"
           }
          ],
          "histogram": [
           {
            "marker": {
             "pattern": {
              "fillmode": "overlay",
              "size": 10,
              "solidity": 0.2
             }
            },
            "type": "histogram"
           }
          ],
          "histogram2d": [
           {
            "colorbar": {
             "outlinewidth": 0,
             "ticks": ""
            },
            "colorscale": [
             [
              0,
              "#0d0887"
             ],
             [
              0.1111111111111111,
              "#46039f"
             ],
             [
              0.2222222222222222,
              "#7201a8"
             ],
             [
              0.3333333333333333,
              "#9c179e"
             ],
             [
              0.4444444444444444,
              "#bd3786"
             ],
             [
              0.5555555555555556,
              "#d8576b"
             ],
             [
              0.6666666666666666,
              "#ed7953"
             ],
             [
              0.7777777777777778,
              "#fb9f3a"
             ],
             [
              0.8888888888888888,
              "#fdca26"
             ],
             [
              1,
              "#f0f921"
             ]
            ],
            "type": "histogram2d"
           }
          ],
          "histogram2dcontour": [
           {
            "colorbar": {
             "outlinewidth": 0,
             "ticks": ""
            },
            "colorscale": [
             [
              0,
              "#0d0887"
             ],
             [
              0.1111111111111111,
              "#46039f"
             ],
             [
              0.2222222222222222,
              "#7201a8"
             ],
             [
              0.3333333333333333,
              "#9c179e"
             ],
             [
              0.4444444444444444,
              "#bd3786"
             ],
             [
              0.5555555555555556,
              "#d8576b"
             ],
             [
              0.6666666666666666,
              "#ed7953"
             ],
             [
              0.7777777777777778,
              "#fb9f3a"
             ],
             [
              0.8888888888888888,
              "#fdca26"
             ],
             [
              1,
              "#f0f921"
             ]
            ],
            "type": "histogram2dcontour"
           }
          ],
          "mesh3d": [
           {
            "colorbar": {
             "outlinewidth": 0,
             "ticks": ""
            },
            "type": "mesh3d"
           }
          ],
          "parcoords": [
           {
            "line": {
             "colorbar": {
              "outlinewidth": 0,
              "ticks": ""
             }
            },
            "type": "parcoords"
           }
          ],
          "pie": [
           {
            "automargin": true,
            "type": "pie"
           }
          ],
          "scatter": [
           {
            "fillpattern": {
             "fillmode": "overlay",
             "size": 10,
             "solidity": 0.2
            },
            "type": "scatter"
           }
          ],
          "scatter3d": [
           {
            "line": {
             "colorbar": {
              "outlinewidth": 0,
              "ticks": ""
             }
            },
            "marker": {
             "colorbar": {
              "outlinewidth": 0,
              "ticks": ""
             }
            },
            "type": "scatter3d"
           }
          ],
          "scattercarpet": [
           {
            "marker": {
             "colorbar": {
              "outlinewidth": 0,
              "ticks": ""
             }
            },
            "type": "scattercarpet"
           }
          ],
          "scattergeo": [
           {
            "marker": {
             "colorbar": {
              "outlinewidth": 0,
              "ticks": ""
             }
            },
            "type": "scattergeo"
           }
          ],
          "scattergl": [
           {
            "marker": {
             "colorbar": {
              "outlinewidth": 0,
              "ticks": ""
             }
            },
            "type": "scattergl"
           }
          ],
          "scattermapbox": [
           {
            "marker": {
             "colorbar": {
              "outlinewidth": 0,
              "ticks": ""
             }
            },
            "type": "scattermapbox"
           }
          ],
          "scatterpolar": [
           {
            "marker": {
             "colorbar": {
              "outlinewidth": 0,
              "ticks": ""
             }
            },
            "type": "scatterpolar"
           }
          ],
          "scatterpolargl": [
           {
            "marker": {
             "colorbar": {
              "outlinewidth": 0,
              "ticks": ""
             }
            },
            "type": "scatterpolargl"
           }
          ],
          "scatterternary": [
           {
            "marker": {
             "colorbar": {
              "outlinewidth": 0,
              "ticks": ""
             }
            },
            "type": "scatterternary"
           }
          ],
          "surface": [
           {
            "colorbar": {
             "outlinewidth": 0,
             "ticks": ""
            },
            "colorscale": [
             [
              0,
              "#0d0887"
             ],
             [
              0.1111111111111111,
              "#46039f"
             ],
             [
              0.2222222222222222,
              "#7201a8"
             ],
             [
              0.3333333333333333,
              "#9c179e"
             ],
             [
              0.4444444444444444,
              "#bd3786"
             ],
             [
              0.5555555555555556,
              "#d8576b"
             ],
             [
              0.6666666666666666,
              "#ed7953"
             ],
             [
              0.7777777777777778,
              "#fb9f3a"
             ],
             [
              0.8888888888888888,
              "#fdca26"
             ],
             [
              1,
              "#f0f921"
             ]
            ],
            "type": "surface"
           }
          ],
          "table": [
           {
            "cells": {
             "fill": {
              "color": "#EBF0F8"
             },
             "line": {
              "color": "white"
             }
            },
            "header": {
             "fill": {
              "color": "#C8D4E3"
             },
             "line": {
              "color": "white"
             }
            },
            "type": "table"
           }
          ]
         },
         "layout": {
          "annotationdefaults": {
           "arrowcolor": "#2a3f5f",
           "arrowhead": 0,
           "arrowwidth": 1
          },
          "autotypenumbers": "strict",
          "coloraxis": {
           "colorbar": {
            "outlinewidth": 0,
            "ticks": ""
           }
          },
          "colorscale": {
           "diverging": [
            [
             0,
             "#8e0152"
            ],
            [
             0.1,
             "#c51b7d"
            ],
            [
             0.2,
             "#de77ae"
            ],
            [
             0.3,
             "#f1b6da"
            ],
            [
             0.4,
             "#fde0ef"
            ],
            [
             0.5,
             "#f7f7f7"
            ],
            [
             0.6,
             "#e6f5d0"
            ],
            [
             0.7,
             "#b8e186"
            ],
            [
             0.8,
             "#7fbc41"
            ],
            [
             0.9,
             "#4d9221"
            ],
            [
             1,
             "#276419"
            ]
           ],
           "sequential": [
            [
             0,
             "#0d0887"
            ],
            [
             0.1111111111111111,
             "#46039f"
            ],
            [
             0.2222222222222222,
             "#7201a8"
            ],
            [
             0.3333333333333333,
             "#9c179e"
            ],
            [
             0.4444444444444444,
             "#bd3786"
            ],
            [
             0.5555555555555556,
             "#d8576b"
            ],
            [
             0.6666666666666666,
             "#ed7953"
            ],
            [
             0.7777777777777778,
             "#fb9f3a"
            ],
            [
             0.8888888888888888,
             "#fdca26"
            ],
            [
             1,
             "#f0f921"
            ]
           ],
           "sequentialminus": [
            [
             0,
             "#0d0887"
            ],
            [
             0.1111111111111111,
             "#46039f"
            ],
            [
             0.2222222222222222,
             "#7201a8"
            ],
            [
             0.3333333333333333,
             "#9c179e"
            ],
            [
             0.4444444444444444,
             "#bd3786"
            ],
            [
             0.5555555555555556,
             "#d8576b"
            ],
            [
             0.6666666666666666,
             "#ed7953"
            ],
            [
             0.7777777777777778,
             "#fb9f3a"
            ],
            [
             0.8888888888888888,
             "#fdca26"
            ],
            [
             1,
             "#f0f921"
            ]
           ]
          },
          "colorway": [
           "#636efa",
           "#EF553B",
           "#00cc96",
           "#ab63fa",
           "#FFA15A",
           "#19d3f3",
           "#FF6692",
           "#B6E880",
           "#FF97FF",
           "#FECB52"
          ],
          "font": {
           "color": "#2a3f5f"
          },
          "geo": {
           "bgcolor": "white",
           "lakecolor": "white",
           "landcolor": "#E5ECF6",
           "showlakes": true,
           "showland": true,
           "subunitcolor": "white"
          },
          "hoverlabel": {
           "align": "left"
          },
          "hovermode": "closest",
          "mapbox": {
           "style": "light"
          },
          "paper_bgcolor": "white",
          "plot_bgcolor": "#E5ECF6",
          "polar": {
           "angularaxis": {
            "gridcolor": "white",
            "linecolor": "white",
            "ticks": ""
           },
           "bgcolor": "#E5ECF6",
           "radialaxis": {
            "gridcolor": "white",
            "linecolor": "white",
            "ticks": ""
           }
          },
          "scene": {
           "xaxis": {
            "backgroundcolor": "#E5ECF6",
            "gridcolor": "white",
            "gridwidth": 2,
            "linecolor": "white",
            "showbackground": true,
            "ticks": "",
            "zerolinecolor": "white"
           },
           "yaxis": {
            "backgroundcolor": "#E5ECF6",
            "gridcolor": "white",
            "gridwidth": 2,
            "linecolor": "white",
            "showbackground": true,
            "ticks": "",
            "zerolinecolor": "white"
           },
           "zaxis": {
            "backgroundcolor": "#E5ECF6",
            "gridcolor": "white",
            "gridwidth": 2,
            "linecolor": "white",
            "showbackground": true,
            "ticks": "",
            "zerolinecolor": "white"
           }
          },
          "shapedefaults": {
           "line": {
            "color": "#2a3f5f"
           }
          },
          "ternary": {
           "aaxis": {
            "gridcolor": "white",
            "linecolor": "white",
            "ticks": ""
           },
           "baxis": {
            "gridcolor": "white",
            "linecolor": "white",
            "ticks": ""
           },
           "bgcolor": "#E5ECF6",
           "caxis": {
            "gridcolor": "white",
            "linecolor": "white",
            "ticks": ""
           }
          },
          "title": {
           "x": 0.05
          },
          "xaxis": {
           "automargin": true,
           "gridcolor": "white",
           "linecolor": "white",
           "ticks": "",
           "title": {
            "standoff": 15
           },
           "zerolinecolor": "white",
           "zerolinewidth": 2
          },
          "yaxis": {
           "automargin": true,
           "gridcolor": "white",
           "linecolor": "white",
           "ticks": "",
           "title": {
            "standoff": 15
           },
           "zerolinecolor": "white",
           "zerolinewidth": 2
          }
         }
        },
        "title": {
         "text": "Most Common Words in Reviews"
        },
        "xaxis": {
         "anchor": "y",
         "domain": [
          0,
          1
         ],
         "title": {
          "text": "Word"
         }
        },
        "yaxis": {
         "anchor": "x",
         "domain": [
          0,
          1
         ],
         "title": {
          "text": "Count"
         }
        }
       }
      }
     },
     "metadata": {},
     "output_type": "display_data"
    },
    {
     "data": {
      "image/png": "[encoded data removed]",
      "text/plain": [
       "<Figure size 1000x500 with 1 Axes>"
      ]
     },
     "metadata": {},
     "output_type": "display_data"
    }
   ],
   "source": [
    "from collections import Counter\n",
    "import pandas as pd\n",
    "import plotly.express as px\n",
    "import nltk\n",
    "from nltk.corpus import stopwords\n",
    "from wordcloud import WordCloud\n",
    "import matplotlib.pyplot as plt\n",
    "\n",
    "nltk.download(\"stopwords\")\n",
    "stop_words = set(stopwords.words(\"english\"))\n",
    "custom_stop_words = {'class', 'lecture', 'professor', 'really', 'homework', 'take', 'final', 'lectures', 'get', 'exams', 'student', \n",
    "                     'midterm', 'students', 'stats', 'go', 'make', 'course', 'pretty', 'would', 'like', 'much' }\n",
    "stop_words.update(custom_stop_words)\n",
    "\n",
    "# Combine all reviews into a single list\n",
    "all_reviews = \" \".join(df_all[\"Reviews\"].explode().astype(str)).lower()\n",
    "words = [word for word in all_reviews.split() if word not in stop_words and word.isalpha()]\n",
    "\n",
    "# Count word frequencies\n",
    "word_freq = Counter(words)\n",
    "df_words = pd.DataFrame(word_freq.most_common(20), columns=[\"Word\", \"Count\"])\n",
    "\n",
    "# Bar plot of most common words\n",
    "fig = px.bar(df_words, x=\"Word\", y=\"Count\", title=\"Most Common Words in Reviews\")\n",
    "fig.show()\n",
    "\n",
    "# Word cloud\n",
    "wordcloud = WordCloud(width=800, height=400, background_color=\"white\").generate(\" \".join(words))\n",
    "plt.figure(figsize=(10, 5))\n",
    "plt.imshow(wordcloud, interpolation=\"bilinear\")\n",
    "plt.axis(\"off\")\n",
    "plt.title(\"Word Cloud of Most Frequent Words in Reviews\")\n",
    "plt.show()\n"
   ]
  },
  {
   "cell_type": "code",
   "execution_count": 40,
   "metadata": {},
   "outputs": [
    {
     "data": {
      "application/vnd.plotly.v1+json": {
       "config": {
        "plotlyServerURL": "https://plot.ly"
       },
       "data": [
        {
         "alignmentgroup": "True",
         "hovertemplate": "Word=%{x}<br>Count=%{marker.color}<extra></extra>",
         "legendgroup": "",
         "marker": {
          "color": [
           345,
           308,
           307,
           266,
           258,
           247,
           237,
           235,
           213,
           212,
           209,
           206,
           201,
           195,
           191,
           190,
           187,
           183,
           181,
           180
          ],
          "coloraxis": "coloraxis",
          "pattern": {
           "shape": ""
          }
         },
         "name": "",
         "offsetgroup": "",
         "orientation": "v",
         "showlegend": false,
         "textposition": "auto",
         "type": "bar",
         "x": [
          "good",
          "hard",
          "easy",
          "one",
          "tests",
          "great",
          "practice",
          "lot",
          "material",
          "hw",
          "office",
          "time",
          "understand",
          "questions",
          "help",
          "notes",
          "learn",
          "difficult",
          "well",
          "best"
         ],
         "xaxis": "x",
         "y": [
          345,
          308,
          307,
          266,
          258,
          247,
          237,
          235,
          213,
          212,
          209,
          206,
          201,
          195,
          191,
          190,
          187,
          183,
          181,
          180
         ],
         "yaxis": "y"
        }
       ],
       "layout": {
        "barmode": "relative",
        "coloraxis": {
         "colorbar": {
          "title": {
           "text": "Count"
          }
         },
         "colorscale": [
          [
           0,
           "#0d0887"
          ],
          [
           0.1111111111111111,
           "#46039f"
          ],
          [
           0.2222222222222222,
           "#7201a8"
          ],
          [
           0.3333333333333333,
           "#9c179e"
          ],
          [
           0.4444444444444444,
           "#bd3786"
          ],
          [
           0.5555555555555556,
           "#d8576b"
          ],
          [
           0.6666666666666666,
           "#ed7953"
          ],
          [
           0.7777777777777778,
           "#fb9f3a"
          ],
          [
           0.8888888888888888,
           "#fdca26"
          ],
          [
           1,
           "#f0f921"
          ]
         ]
        },
        "legend": {
         "tracegroupgap": 0
        },
        "template": {
         "data": {
          "bar": [
           {
            "error_x": {
             "color": "#2a3f5f"
            },
            "error_y": {
             "color": "#2a3f5f"
            },
            "marker": {
             "line": {
              "color": "#E5ECF6",
              "width": 0.5
             },
             "pattern": {
              "fillmode": "overlay",
              "size": 10,
              "solidity": 0.2
             }
            },
            "type": "bar"
           }
          ],
          "barpolar": [
           {
            "marker": {
             "line": {
              "color": "#E5ECF6",
              "width": 0.5
             },
             "pattern": {
              "fillmode": "overlay",
              "size": 10,
              "solidity": 0.2
             }
            },
            "type": "barpolar"
           }
          ],
          "carpet": [
           {
            "aaxis": {
             "endlinecolor": "#2a3f5f",
             "gridcolor": "white",
             "linecolor": "white",
             "minorgridcolor": "white",
             "startlinecolor": "#2a3f5f"
            },
            "baxis": {
             "endlinecolor": "#2a3f5f",
             "gridcolor": "white",
             "linecolor": "white",
             "minorgridcolor": "white",
             "startlinecolor": "#2a3f5f"
            },
            "type": "carpet"
           }
          ],
          "choropleth": [
           {
            "colorbar": {
             "outlinewidth": 0,
             "ticks": ""
            },
            "type": "choropleth"
           }
          ],
          "contour": [
           {
            "colorbar": {
             "outlinewidth": 0,
             "ticks": ""
            },
            "colorscale": [
             [
              0,
              "#0d0887"
             ],
             [
              0.1111111111111111,
              "#46039f"
             ],
             [
              0.2222222222222222,
              "#7201a8"
             ],
             [
              0.3333333333333333,
              "#9c179e"
             ],
             [
              0.4444444444444444,
              "#bd3786"
             ],
             [
              0.5555555555555556,
              "#d8576b"
             ],
             [
              0.6666666666666666,
              "#ed7953"
             ],
             [
              0.7777777777777778,
              "#fb9f3a"
             ],
             [
              0.8888888888888888,
              "#fdca26"
             ],
             [
              1,
              "#f0f921"
             ]
            ],
            "type": "contour"
           }
          ],
          "contourcarpet": [
           {
            "colorbar": {
             "outlinewidth": 0,
             "ticks": ""
            },
            "type": "contourcarpet"
           }
          ],
          "heatmap": [
           {
            "colorbar": {
             "outlinewidth": 0,
             "ticks": ""
            },
            "colorscale": [
             [
              0,
              "#0d0887"
             ],
             [
              0.1111111111111111,
              "#46039f"
             ],
             [
              0.2222222222222222,
              "#7201a8"
             ],
             [
              0.3333333333333333,
              "#9c179e"
             ],
             [
              0.4444444444444444,
              "#bd3786"
             ],
             [
              0.5555555555555556,
              "#d8576b"
             ],
             [
              0.6666666666666666,
              "#ed7953"
             ],
             [
              0.7777777777777778,
              "#fb9f3a"
             ],
             [
              0.8888888888888888,
              "#fdca26"
             ],
             [
              1,
              "#f0f921"
             ]
            ],
            "type": "heatmap"
           }
          ],
          "heatmapgl": [
           {
            "colorbar": {
             "outlinewidth": 0,
             "ticks": ""
            },
            "colorscale": [
             [
              0,
              "#0d0887"
             ],
             [
              0.1111111111111111,
              "#46039f"
             ],
             [
              0.2222222222222222,
              "#7201a8"
             ],
             [
              0.3333333333333333,
              "#9c179e"
             ],
             [
              0.4444444444444444,
              "#bd3786"
             ],
             [
              0.5555555555555556,
              "#d8576b"
             ],
             [
              0.6666666666666666,
              "#ed7953"
             ],
             [
              0.7777777777777778,
              "#fb9f3a"
             ],
             [
              0.8888888888888888,
              "#fdca26"
             ],
             [
              1,
              "#f0f921"
             ]
            ],
            "type": "heatmapgl"
           }
          ],
          "histogram": [
           {
            "marker": {
             "pattern": {
              "fillmode": "overlay",
              "size": 10,
              "solidity": 0.2
             }
            },
            "type": "histogram"
           }
          ],
          "histogram2d": [
           {
            "colorbar": {
             "outlinewidth": 0,
             "ticks": ""
            },
            "colorscale": [
             [
              0,
              "#0d0887"
             ],
             [
              0.1111111111111111,
              "#46039f"
             ],
             [
              0.2222222222222222,
              "#7201a8"
             ],
             [
              0.3333333333333333,
              "#9c179e"
             ],
             [
              0.4444444444444444,
              "#bd3786"
             ],
             [
              0.5555555555555556,
              "#d8576b"
             ],
             [
              0.6666666666666666,
              "#ed7953"
             ],
             [
              0.7777777777777778,
              "#fb9f3a"
             ],
             [
              0.8888888888888888,
              "#fdca26"
             ],
             [
              1,
              "#f0f921"
             ]
            ],
            "type": "histogram2d"
           }
          ],
          "histogram2dcontour": [
           {
            "colorbar": {
             "outlinewidth": 0,
             "ticks": ""
            },
            "colorscale": [
             [
              0,
              "#0d0887"
             ],
             [
              0.1111111111111111,
              "#46039f"
             ],
             [
              0.2222222222222222,
              "#7201a8"
             ],
             [
              0.3333333333333333,
              "#9c179e"
             ],
             [
              0.4444444444444444,
              "#bd3786"
             ],
             [
              0.5555555555555556,
              "#d8576b"
             ],
             [
              0.6666666666666666,
              "#ed7953"
             ],
             [
              0.7777777777777778,
              "#fb9f3a"
             ],
             [
              0.8888888888888888,
              "#fdca26"
             ],
             [
              1,
              "#f0f921"
             ]
            ],
            "type": "histogram2dcontour"
           }
          ],
          "mesh3d": [
           {
            "colorbar": {
             "outlinewidth": 0,
             "ticks": ""
            },
            "type": "mesh3d"
           }
          ],
          "parcoords": [
           {
            "line": {
             "colorbar": {
              "outlinewidth": 0,
              "ticks": ""
             }
            },
            "type": "parcoords"
           }
          ],
          "pie": [
           {
            "automargin": true,
            "type": "pie"
           }
          ],
          "scatter": [
           {
            "fillpattern": {
             "fillmode": "overlay",
             "size": 10,
             "solidity": 0.2
            },
            "type": "scatter"
           }
          ],
          "scatter3d": [
           {
            "line": {
             "colorbar": {
              "outlinewidth": 0,
              "ticks": ""
             }
            },
            "marker": {
             "colorbar": {
              "outlinewidth": 0,
              "ticks": ""
             }
            },
            "type": "scatter3d"
           }
          ],
          "scattercarpet": [
           {
            "marker": {
             "colorbar": {
              "outlinewidth": 0,
              "ticks": ""
             }
            },
            "type": "scattercarpet"
           }
          ],
          "scattergeo": [
           {
            "marker": {
             "colorbar": {
              "outlinewidth": 0,
              "ticks": ""
             }
            },
            "type": "scattergeo"
           }
          ],
          "scattergl": [
           {
            "marker": {
             "colorbar": {
              "outlinewidth": 0,
              "ticks": ""
             }
            },
            "type": "scattergl"
           }
          ],
          "scattermapbox": [
           {
            "marker": {
             "colorbar": {
              "outlinewidth": 0,
              "ticks": ""
             }
            },
            "type": "scattermapbox"
           }
          ],
          "scatterpolar": [
           {
            "marker": {
             "colorbar": {
              "outlinewidth": 0,
              "ticks": ""
             }
            },
            "type": "scatterpolar"
           }
          ],
          "scatterpolargl": [
           {
            "marker": {
             "colorbar": {
              "outlinewidth": 0,
              "ticks": ""
             }
            },
            "type": "scatterpolargl"
           }
          ],
          "scatterternary": [
           {
            "marker": {
             "colorbar": {
              "outlinewidth": 0,
              "ticks": ""
             }
            },
            "type": "scatterternary"
           }
          ],
          "surface": [
           {
            "colorbar": {
             "outlinewidth": 0,
             "ticks": ""
            },
            "colorscale": [
             [
              0,
              "#0d0887"
             ],
             [
              0.1111111111111111,
              "#46039f"
             ],
             [
              0.2222222222222222,
              "#7201a8"
             ],
             [
              0.3333333333333333,
              "#9c179e"
             ],
             [
              0.4444444444444444,
              "#bd3786"
             ],
             [
              0.5555555555555556,
              "#d8576b"
             ],
             [
              0.6666666666666666,
              "#ed7953"
             ],
             [
              0.7777777777777778,
              "#fb9f3a"
             ],
             [
              0.8888888888888888,
              "#fdca26"
             ],
             [
              1,
              "#f0f921"
             ]
            ],
            "type": "surface"
           }
          ],
          "table": [
           {
            "cells": {
             "fill": {
              "color": "#EBF0F8"
             },
             "line": {
              "color": "white"
             }
            },
            "header": {
             "fill": {
              "color": "#C8D4E3"
             },
             "line": {
              "color": "white"
             }
            },
            "type": "table"
           }
          ]
         },
         "layout": {
          "annotationdefaults": {
           "arrowcolor": "#2a3f5f",
           "arrowhead": 0,
           "arrowwidth": 1
          },
          "autotypenumbers": "strict",
          "coloraxis": {
           "colorbar": {
            "outlinewidth": 0,
            "ticks": ""
           }
          },
          "colorscale": {
           "diverging": [
            [
             0,
             "#8e0152"
            ],
            [
             0.1,
             "#c51b7d"
            ],
            [
             0.2,
             "#de77ae"
            ],
            [
             0.3,
             "#f1b6da"
            ],
            [
             0.4,
             "#fde0ef"
            ],
            [
             0.5,
             "#f7f7f7"
            ],
            [
             0.6,
             "#e6f5d0"
            ],
            [
             0.7,
             "#b8e186"
            ],
            [
             0.8,
             "#7fbc41"
            ],
            [
             0.9,
             "#4d9221"
            ],
            [
             1,
             "#276419"
            ]
           ],
           "sequential": [
            [
             0,
             "#0d0887"
            ],
            [
             0.1111111111111111,
             "#46039f"
            ],
            [
             0.2222222222222222,
             "#7201a8"
            ],
            [
             0.3333333333333333,
             "#9c179e"
            ],
            [
             0.4444444444444444,
             "#bd3786"
            ],
            [
             0.5555555555555556,
             "#d8576b"
            ],
            [
             0.6666666666666666,
             "#ed7953"
            ],
            [
             0.7777777777777778,
             "#fb9f3a"
            ],
            [
             0.8888888888888888,
             "#fdca26"
            ],
            [
             1,
             "#f0f921"
            ]
           ],
           "sequentialminus": [
            [
             0,
             "#0d0887"
            ],
            [
             0.1111111111111111,
             "#46039f"
            ],
            [
             0.2222222222222222,
             "#7201a8"
            ],
            [
             0.3333333333333333,
             "#9c179e"
            ],
            [
             0.4444444444444444,
             "#bd3786"
            ],
            [
             0.5555555555555556,
             "#d8576b"
            ],
            [
             0.6666666666666666,
             "#ed7953"
            ],
            [
             0.7777777777777778,
             "#fb9f3a"
            ],
            [
             0.8888888888888888,
             "#fdca26"
            ],
            [
             1,
             "#f0f921"
            ]
           ]
          },
          "colorway": [
           "#636efa",
           "#EF553B",
           "#00cc96",
           "#ab63fa",
           "#FFA15A",
           "#19d3f3",
           "#FF6692",
           "#B6E880",
           "#FF97FF",
           "#FECB52"
          ],
          "font": {
           "color": "#2a3f5f"
          },
          "geo": {
           "bgcolor": "white",
           "lakecolor": "white",
           "landcolor": "#E5ECF6",
           "showlakes": true,
           "showland": true,
           "subunitcolor": "white"
          },
          "hoverlabel": {
           "align": "left"
          },
          "hovermode": "closest",
          "mapbox": {
           "style": "light"
          },
          "paper_bgcolor": "white",
          "plot_bgcolor": "#E5ECF6",
          "polar": {
           "angularaxis": {
            "gridcolor": "white",
            "linecolor": "white",
            "ticks": ""
           },
           "bgcolor": "#E5ECF6",
           "radialaxis": {
            "gridcolor": "white",
            "linecolor": "white",
            "ticks": ""
           }
          },
          "scene": {
           "xaxis": {
            "backgroundcolor": "#E5ECF6",
            "gridcolor": "white",
            "gridwidth": 2,
            "linecolor": "white",
            "showbackground": true,
            "ticks": "",
            "zerolinecolor": "white"
           },
           "yaxis": {
            "backgroundcolor": "#E5ECF6",
            "gridcolor": "white",
            "gridwidth": 2,
            "linecolor": "white",
            "showbackground": true,
            "ticks": "",
            "zerolinecolor": "white"
           },
           "zaxis": {
            "backgroundcolor": "#E5ECF6",
            "gridcolor": "white",
            "gridwidth": 2,
            "linecolor": "white",
            "showbackground": true,
            "ticks": "",
            "zerolinecolor": "white"
           }
          },
          "shapedefaults": {
           "line": {
            "color": "#2a3f5f"
           }
          },
          "ternary": {
           "aaxis": {
            "gridcolor": "white",
            "linecolor": "white",
            "ticks": ""
           },
           "baxis": {
            "gridcolor": "white",
            "linecolor": "white",
            "ticks": ""
           },
           "bgcolor": "#E5ECF6",
           "caxis": {
            "gridcolor": "white",
            "linecolor": "white",
            "ticks": ""
           }
          },
          "title": {
           "x": 0.05
          },
          "xaxis": {
           "automargin": true,
           "gridcolor": "white",
           "linecolor": "white",
           "ticks": "",
           "title": {
            "standoff": 15
           },
           "zerolinecolor": "white",
           "zerolinewidth": 2
          },
          "yaxis": {
           "automargin": true,
           "gridcolor": "white",
           "linecolor": "white",
           "ticks": "",
           "title": {
            "standoff": 15
           },
           "zerolinecolor": "white",
           "zerolinewidth": 2
          }
         }
        },
        "title": {
         "text": "Most Common Words in Positive Reviews"
        },
        "xaxis": {
         "anchor": "y",
         "domain": [
          0,
          1
         ],
         "title": {
          "text": "Word"
         }
        },
        "yaxis": {
         "anchor": "x",
         "domain": [
          0,
          1
         ],
         "title": {
          "text": "Count"
         }
        }
       }
      }
     },
     "metadata": {},
     "output_type": "display_data"
    },
    {
     "data": {
      "application/vnd.plotly.v1+json": {
       "config": {
        "plotlyServerURL": "https://plot.ly"
       },
       "data": [
        {
         "alignmentgroup": "True",
         "hovertemplate": "Word=%{x}<br>Count=%{marker.color}<extra></extra>",
         "legendgroup": "",
         "marker": {
          "color": [
           293,
           289,
           261,
           230,
           229,
           209,
           207,
           204,
           192,
           191,
           188,
           187,
           180,
           177,
           175,
           173,
           170,
           168,
           168,
           163
          ],
          "coloraxis": "coloraxis",
          "pattern": {
           "shape": ""
          }
         },
         "name": "",
         "offsetgroup": "",
         "orientation": "v",
         "showlegend": false,
         "textposition": "auto",
         "type": "bar",
         "x": [
          "good",
          "hard",
          "easy",
          "one",
          "tests",
          "lot",
          "practice",
          "hw",
          "great",
          "time",
          "understand",
          "material",
          "office",
          "questions",
          "notes",
          "learn",
          "even",
          "help",
          "difficult",
          "well"
         ],
         "xaxis": "x",
         "y": [
          293,
          289,
          261,
          230,
          229,
          209,
          207,
          204,
          192,
          191,
          188,
          187,
          180,
          177,
          175,
          173,
          170,
          168,
          168,
          163
         ],
         "yaxis": "y"
        }
       ],
       "layout": {
        "barmode": "relative",
        "coloraxis": {
         "colorbar": {
          "title": {
           "text": "Count"
          }
         },
         "colorscale": [
          [
           0,
           "#0d0887"
          ],
          [
           0.1111111111111111,
           "#46039f"
          ],
          [
           0.2222222222222222,
           "#7201a8"
          ],
          [
           0.3333333333333333,
           "#9c179e"
          ],
          [
           0.4444444444444444,
           "#bd3786"
          ],
          [
           0.5555555555555556,
           "#d8576b"
          ],
          [
           0.6666666666666666,
           "#ed7953"
          ],
          [
           0.7777777777777778,
           "#fb9f3a"
          ],
          [
           0.8888888888888888,
           "#fdca26"
          ],
          [
           1,
           "#f0f921"
          ]
         ]
        },
        "legend": {
         "tracegroupgap": 0
        },
        "template": {
         "data": {
          "bar": [
           {
            "error_x": {
             "color": "#2a3f5f"
            },
            "error_y": {
             "color": "#2a3f5f"
            },
            "marker": {
             "line": {
              "color": "#E5ECF6",
              "width": 0.5
             },
             "pattern": {
              "fillmode": "overlay",
              "size": 10,
              "solidity": 0.2
             }
            },
            "type": "bar"
           }
          ],
          "barpolar": [
           {
            "marker": {
             "line": {
              "color": "#E5ECF6",
              "width": 0.5
             },
             "pattern": {
              "fillmode": "overlay",
              "size": 10,
              "solidity": 0.2
             }
            },
            "type": "barpolar"
           }
          ],
          "carpet": [
           {
            "aaxis": {
             "endlinecolor": "#2a3f5f",
             "gridcolor": "white",
             "linecolor": "white",
             "minorgridcolor": "white",
             "startlinecolor": "#2a3f5f"
            },
            "baxis": {
             "endlinecolor": "#2a3f5f",
             "gridcolor": "white",
             "linecolor": "white",
             "minorgridcolor": "white",
             "startlinecolor": "#2a3f5f"
            },
            "type": "carpet"
           }
          ],
          "choropleth": [
           {
            "colorbar": {
             "outlinewidth": 0,
             "ticks": ""
            },
            "type": "choropleth"
           }
          ],
          "contour": [
           {
            "colorbar": {
             "outlinewidth": 0,
             "ticks": ""
            },
            "colorscale": [
             [
              0,
              "#0d0887"
             ],
             [
              0.1111111111111111,
              "#46039f"
             ],
             [
              0.2222222222222222,
              "#7201a8"
             ],
             [
              0.3333333333333333,
              "#9c179e"
             ],
             [
              0.4444444444444444,
              "#bd3786"
             ],
             [
              0.5555555555555556,
              "#d8576b"
             ],
             [
              0.6666666666666666,
              "#ed7953"
             ],
             [
              0.7777777777777778,
              "#fb9f3a"
             ],
             [
              0.8888888888888888,
              "#fdca26"
             ],
             [
              1,
              "#f0f921"
             ]
            ],
            "type": "contour"
           }
          ],
          "contourcarpet": [
           {
            "colorbar": {
             "outlinewidth": 0,
             "ticks": ""
            },
            "type": "contourcarpet"
           }
          ],
          "heatmap": [
           {
            "colorbar": {
             "outlinewidth": 0,
             "ticks": ""
            },
            "colorscale": [
             [
              0,
              "#0d0887"
             ],
             [
              0.1111111111111111,
              "#46039f"
             ],
             [
              0.2222222222222222,
              "#7201a8"
             ],
             [
              0.3333333333333333,
              "#9c179e"
             ],
             [
              0.4444444444444444,
              "#bd3786"
             ],
             [
              0.5555555555555556,
              "#d8576b"
             ],
             [
              0.6666666666666666,
              "#ed7953"
             ],
             [
              0.7777777777777778,
              "#fb9f3a"
             ],
             [
              0.8888888888888888,
              "#fdca26"
             ],
             [
              1,
              "#f0f921"
             ]
            ],
            "type": "heatmap"
           }
          ],
          "heatmapgl": [
           {
            "colorbar": {
             "outlinewidth": 0,
             "ticks": ""
            },
            "colorscale": [
             [
              0,
              "#0d0887"
             ],
             [
              0.1111111111111111,
              "#46039f"
             ],
             [
              0.2222222222222222,
              "#7201a8"
             ],
             [
              0.3333333333333333,
              "#9c179e"
             ],
             [
              0.4444444444444444,
              "#bd3786"
             ],
             [
              0.5555555555555556,
              "#d8576b"
             ],
             [
              0.6666666666666666,
              "#ed7953"
             ],
             [
              0.7777777777777778,
              "#fb9f3a"
             ],
             [
              0.8888888888888888,
              "#fdca26"
             ],
             [
              1,
              "#f0f921"
             ]
            ],
            "type": "heatmapgl"
           }
          ],
          "histogram": [
           {
            "marker": {
             "pattern": {
              "fillmode": "overlay",
              "size": 10,
              "solidity": 0.2
             }
            },
            "type": "histogram"
           }
          ],
          "histogram2d": [
           {
            "colorbar": {
             "outlinewidth": 0,
             "ticks": ""
            },
            "colorscale": [
             [
              0,
              "#0d0887"
             ],
             [
              0.1111111111111111,
              "#46039f"
             ],
             [
              0.2222222222222222,
              "#7201a8"
             ],
             [
              0.3333333333333333,
              "#9c179e"
             ],
             [
              0.4444444444444444,
              "#bd3786"
             ],
             [
              0.5555555555555556,
              "#d8576b"
             ],
             [
              0.6666666666666666,
              "#ed7953"
             ],
             [
              0.7777777777777778,
              "#fb9f3a"
             ],
             [
              0.8888888888888888,
              "#fdca26"
             ],
             [
              1,
              "#f0f921"
             ]
            ],
            "type": "histogram2d"
           }
          ],
          "histogram2dcontour": [
           {
            "colorbar": {
             "outlinewidth": 0,
             "ticks": ""
            },
            "colorscale": [
             [
              0,
              "#0d0887"
             ],
             [
              0.1111111111111111,
              "#46039f"
             ],
             [
              0.2222222222222222,
              "#7201a8"
             ],
             [
              0.3333333333333333,
              "#9c179e"
             ],
             [
              0.4444444444444444,
              "#bd3786"
             ],
             [
              0.5555555555555556,
              "#d8576b"
             ],
             [
              0.6666666666666666,
              "#ed7953"
             ],
             [
              0.7777777777777778,
              "#fb9f3a"
             ],
             [
              0.8888888888888888,
              "#fdca26"
             ],
             [
              1,
              "#f0f921"
             ]
            ],
            "type": "histogram2dcontour"
           }
          ],
          "mesh3d": [
           {
            "colorbar": {
             "outlinewidth": 0,
             "ticks": ""
            },
            "type": "mesh3d"
           }
          ],
          "parcoords": [
           {
            "line": {
             "colorbar": {
              "outlinewidth": 0,
              "ticks": ""
             }
            },
            "type": "parcoords"
           }
          ],
          "pie": [
           {
            "automargin": true,
            "type": "pie"
           }
          ],
          "scatter": [
           {
            "fillpattern": {
             "fillmode": "overlay",
             "size": 10,
             "solidity": 0.2
            },
            "type": "scatter"
           }
          ],
          "scatter3d": [
           {
            "line": {
             "colorbar": {
              "outlinewidth": 0,
              "ticks": ""
             }
            },
            "marker": {
             "colorbar": {
              "outlinewidth": 0,
              "ticks": ""
             }
            },
            "type": "scatter3d"
           }
          ],
          "scattercarpet": [
           {
            "marker": {
             "colorbar": {
              "outlinewidth": 0,
              "ticks": ""
             }
            },
            "type": "scattercarpet"
           }
          ],
          "scattergeo": [
           {
            "marker": {
             "colorbar": {
              "outlinewidth": 0,
              "ticks": ""
             }
            },
            "type": "scattergeo"
           }
          ],
          "scattergl": [
           {
            "marker": {
             "colorbar": {
              "outlinewidth": 0,
              "ticks": ""
             }
            },
            "type": "scattergl"
           }
          ],
          "scattermapbox": [
           {
            "marker": {
             "colorbar": {
              "outlinewidth": 0,
              "ticks": ""
             }
            },
            "type": "scattermapbox"
           }
          ],
          "scatterpolar": [
           {
            "marker": {
             "colorbar": {
              "outlinewidth": 0,
              "ticks": ""
             }
            },
            "type": "scatterpolar"
           }
          ],
          "scatterpolargl": [
           {
            "marker": {
             "colorbar": {
              "outlinewidth": 0,
              "ticks": ""
             }
            },
            "type": "scatterpolargl"
           }
          ],
          "scatterternary": [
           {
            "marker": {
             "colorbar": {
              "outlinewidth": 0,
              "ticks": ""
             }
            },
            "type": "scatterternary"
           }
          ],
          "surface": [
           {
            "colorbar": {
             "outlinewidth": 0,
             "ticks": ""
            },
            "colorscale": [
             [
              0,
              "#0d0887"
             ],
             [
              0.1111111111111111,
              "#46039f"
             ],
             [
              0.2222222222222222,
              "#7201a8"
             ],
             [
              0.3333333333333333,
              "#9c179e"
             ],
             [
              0.4444444444444444,
              "#bd3786"
             ],
             [
              0.5555555555555556,
              "#d8576b"
             ],
             [
              0.6666666666666666,
              "#ed7953"
             ],
             [
              0.7777777777777778,
              "#fb9f3a"
             ],
             [
              0.8888888888888888,
              "#fdca26"
             ],
             [
              1,
              "#f0f921"
             ]
            ],
            "type": "surface"
           }
          ],
          "table": [
           {
            "cells": {
             "fill": {
              "color": "#EBF0F8"
             },
             "line": {
              "color": "white"
             }
            },
            "header": {
             "fill": {
              "color": "#C8D4E3"
             },
             "line": {
              "color": "white"
             }
            },
            "type": "table"
           }
          ]
         },
         "layout": {
          "annotationdefaults": {
           "arrowcolor": "#2a3f5f",
           "arrowhead": 0,
           "arrowwidth": 1
          },
          "autotypenumbers": "strict",
          "coloraxis": {
           "colorbar": {
            "outlinewidth": 0,
            "ticks": ""
           }
          },
          "colorscale": {
           "diverging": [
            [
             0,
             "#8e0152"
            ],
            [
             0.1,
             "#c51b7d"
            ],
            [
             0.2,
             "#de77ae"
            ],
            [
             0.3,
             "#f1b6da"
            ],
            [
             0.4,
             "#fde0ef"
            ],
            [
             0.5,
             "#f7f7f7"
            ],
            [
             0.6,
             "#e6f5d0"
            ],
            [
             0.7,
             "#b8e186"
            ],
            [
             0.8,
             "#7fbc41"
            ],
            [
             0.9,
             "#4d9221"
            ],
            [
             1,
             "#276419"
            ]
           ],
           "sequential": [
            [
             0,
             "#0d0887"
            ],
            [
             0.1111111111111111,
             "#46039f"
            ],
            [
             0.2222222222222222,
             "#7201a8"
            ],
            [
             0.3333333333333333,
             "#9c179e"
            ],
            [
             0.4444444444444444,
             "#bd3786"
            ],
            [
             0.5555555555555556,
             "#d8576b"
            ],
            [
             0.6666666666666666,
             "#ed7953"
            ],
            [
             0.7777777777777778,
             "#fb9f3a"
            ],
            [
             0.8888888888888888,
             "#fdca26"
            ],
            [
             1,
             "#f0f921"
            ]
           ],
           "sequentialminus": [
            [
             0,
             "#0d0887"
            ],
            [
             0.1111111111111111,
             "#46039f"
            ],
            [
             0.2222222222222222,
             "#7201a8"
            ],
            [
             0.3333333333333333,
             "#9c179e"
            ],
            [
             0.4444444444444444,
             "#bd3786"
            ],
            [
             0.5555555555555556,
             "#d8576b"
            ],
            [
             0.6666666666666666,
             "#ed7953"
            ],
            [
             0.7777777777777778,
             "#fb9f3a"
            ],
            [
             0.8888888888888888,
             "#fdca26"
            ],
            [
             1,
             "#f0f921"
            ]
           ]
          },
          "colorway": [
           "#636efa",
           "#EF553B",
           "#00cc96",
           "#ab63fa",
           "#FFA15A",
           "#19d3f3",
           "#FF6692",
           "#B6E880",
           "#FF97FF",
           "#FECB52"
          ],
          "font": {
           "color": "#2a3f5f"
          },
          "geo": {
           "bgcolor": "white",
           "lakecolor": "white",
           "landcolor": "#E5ECF6",
           "showlakes": true,
           "showland": true,
           "subunitcolor": "white"
          },
          "hoverlabel": {
           "align": "left"
          },
          "hovermode": "closest",
          "mapbox": {
           "style": "light"
          },
          "paper_bgcolor": "white",
          "plot_bgcolor": "#E5ECF6",
          "polar": {
           "angularaxis": {
            "gridcolor": "white",
            "linecolor": "white",
            "ticks": ""
           },
           "bgcolor": "#E5ECF6",
           "radialaxis": {
            "gridcolor": "white",
            "linecolor": "white",
            "ticks": ""
           }
          },
          "scene": {
           "xaxis": {
            "backgroundcolor": "#E5ECF6",
            "gridcolor": "white",
            "gridwidth": 2,
            "linecolor": "white",
            "showbackground": true,
            "ticks": "",
            "zerolinecolor": "white"
           },
           "yaxis": {
            "backgroundcolor": "#E5ECF6",
            "gridcolor": "white",
            "gridwidth": 2,
            "linecolor": "white",
            "showbackground": true,
            "ticks": "",
            "zerolinecolor": "white"
           },
           "zaxis": {
            "backgroundcolor": "#E5ECF6",
            "gridcolor": "white",
            "gridwidth": 2,
            "linecolor": "white",
            "showbackground": true,
            "ticks": "",
            "zerolinecolor": "white"
           }
          },
          "shapedefaults": {
           "line": {
            "color": "#2a3f5f"
           }
          },
          "ternary": {
           "aaxis": {
            "gridcolor": "white",
            "linecolor": "white",
            "ticks": ""
           },
           "baxis": {
            "gridcolor": "white",
            "linecolor": "white",
            "ticks": ""
           },
           "bgcolor": "#E5ECF6",
           "caxis": {
            "gridcolor": "white",
            "linecolor": "white",
            "ticks": ""
           }
          },
          "title": {
           "x": 0.05
          },
          "xaxis": {
           "automargin": true,
           "gridcolor": "white",
           "linecolor": "white",
           "ticks": "",
           "title": {
            "standoff": 15
           },
           "zerolinecolor": "white",
           "zerolinewidth": 2
          },
          "yaxis": {
           "automargin": true,
           "gridcolor": "white",
           "linecolor": "white",
           "ticks": "",
           "title": {
            "standoff": 15
           },
           "zerolinecolor": "white",
           "zerolinewidth": 2
          }
         }
        },
        "title": {
         "text": "Most Common Words in Negative Reviews"
        },
        "xaxis": {
         "anchor": "y",
         "domain": [
          0,
          1
         ],
         "title": {
          "text": "Word"
         }
        },
        "yaxis": {
         "anchor": "x",
         "domain": [
          0,
          1
         ],
         "title": {
          "text": "Count"
         }
        }
       }
      }
     },
     "metadata": {},
     "output_type": "display_data"
    }
   ],
   "source": [
    "import pandas as pd\n",
    "from collections import Counter\n",
    "import plotly.express as px\n",
    "\n",
    "# Separate positive and negative reviews based on the 'Sentiment' column\n",
    "df_positive = df_all[df_all[\"Sentiment\"].apply(lambda x: 'Positive' in x)]\n",
    "df_negative = df_all[df_all[\"Sentiment\"].apply(lambda x: 'Negative' in x)]\n",
    "\n",
    "# Combine all words from positive reviews and negative reviews\n",
    "pos_words = \" \".join(df_positive[\"Reviews\"].explode()).lower().split()\n",
    "neg_words = \" \".join(df_negative[\"Reviews\"].explode()).lower().split()\n",
    "\n",
    "# Remove stopwords\n",
    "stop_words = set(stopwords.words('english'))\n",
    "custom_stop_words = {'class', 'lecture', 'professor', 'really', 'homework', 'take', 'final', 'lectures', 'get', 'exams', 'student', \n",
    "                     'midterm', 'students', 'stats', 'go', 'make', 'course', 'pretty', 'would', 'like', 'much' }\n",
    "stop_words.update(custom_stop_words)\n",
    "pos_words = [word for word in pos_words if word not in stop_words and word.isalpha()]\n",
    "neg_words = [word for word in neg_words if word not in stop_words and word.isalpha()]\n",
    "\n",
    "# Count word frequencies\n",
    "pos_freq = Counter(pos_words)\n",
    "neg_freq = Counter(neg_words)\n",
    "\n",
    "# Create dataframes with the most common words\n",
    "df_pos_words = pd.DataFrame(pos_freq.most_common(20), columns=[\"Word\", \"Count\"])\n",
    "df_neg_words = pd.DataFrame(neg_freq.most_common(20), columns=[\"Word\", \"Count\"])\n",
    "\n",
    "# Plot both word distributions\n",
    "fig1 = px.bar(df_pos_words, x=\"Word\", y=\"Count\", title=\"Most Common Words in Positive Reviews\", color=\"Count\")\n",
    "fig2 = px.bar(df_neg_words, x=\"Word\", y=\"Count\", title=\"Most Common Words in Negative Reviews\", color=\"Count\")\n",
    "\n",
    "fig1.show()\n",
    "fig2.show()\n",
    "\n"
   ]
  },
  {
   "cell_type": "code",
   "execution_count": 29,
   "metadata": {},
   "outputs": [
    {
     "data": {
      "application/vnd.plotly.v1+json": {
       "config": {
        "plotlyServerURL": "https://plot.ly"
       },
       "data": [
        {
         "alignmentgroup": "True",
         "hovertemplate": "Bigram=%{x}<br>Count=%{marker.color}<extra></extra>",
         "legendgroup": "",
         "marker": {
          "color": [
           115,
           75,
           56,
           51,
           47,
           39,
           38,
           34,
           34,
           34,
           33,
           33,
           31,
           29,
           29,
           29,
           28,
           26,
           26,
           26
          ],
          "coloraxis": "coloraxis",
          "pattern": {
           "shape": ""
          }
         },
         "name": "",
         "offsetgroup": "",
         "orientation": "v",
         "showlegend": false,
         "textposition": "auto",
         "type": "bar",
         "x": [
          "office hours",
          "make sure",
          "take class",
          "midterm final",
          "lecture notes",
          "go office",
          "one best",
          "professor ever",
          "extra credit",
          "really good",
          "worst professor",
          "practice exams",
          "would recommend",
          "even though",
          "final project",
          "helpful office",
          "hard understand",
          "highly recommend",
          "cares students",
          "practice problems"
         ],
         "xaxis": "x",
         "y": [
          115,
          75,
          56,
          51,
          47,
          39,
          38,
          34,
          34,
          34,
          33,
          33,
          31,
          29,
          29,
          29,
          28,
          26,
          26,
          26
         ],
         "yaxis": "y"
        }
       ],
       "layout": {
        "barmode": "relative",
        "coloraxis": {
         "colorbar": {
          "title": {
           "text": "Count"
          }
         },
         "colorscale": [
          [
           0,
           "#0d0887"
          ],
          [
           0.1111111111111111,
           "#46039f"
          ],
          [
           0.2222222222222222,
           "#7201a8"
          ],
          [
           0.3333333333333333,
           "#9c179e"
          ],
          [
           0.4444444444444444,
           "#bd3786"
          ],
          [
           0.5555555555555556,
           "#d8576b"
          ],
          [
           0.6666666666666666,
           "#ed7953"
          ],
          [
           0.7777777777777778,
           "#fb9f3a"
          ],
          [
           0.8888888888888888,
           "#fdca26"
          ],
          [
           1,
           "#f0f921"
          ]
         ]
        },
        "legend": {
         "tracegroupgap": 0
        },
        "template": {
         "data": {
          "bar": [
           {
            "error_x": {
             "color": "#2a3f5f"
            },
            "error_y": {
             "color": "#2a3f5f"
            },
            "marker": {
             "line": {
              "color": "#E5ECF6",
              "width": 0.5
             },
             "pattern": {
              "fillmode": "overlay",
              "size": 10,
              "solidity": 0.2
             }
            },
            "type": "bar"
           }
          ],
          "barpolar": [
           {
            "marker": {
             "line": {
              "color": "#E5ECF6",
              "width": 0.5
             },
             "pattern": {
              "fillmode": "overlay",
              "size": 10,
              "solidity": 0.2
             }
            },
            "type": "barpolar"
           }
          ],
          "carpet": [
           {
            "aaxis": {
             "endlinecolor": "#2a3f5f",
             "gridcolor": "white",
             "linecolor": "white",
             "minorgridcolor": "white",
             "startlinecolor": "#2a3f5f"
            },
            "baxis": {
             "endlinecolor": "#2a3f5f",
             "gridcolor": "white",
             "linecolor": "white",
             "minorgridcolor": "white",
             "startlinecolor": "#2a3f5f"
            },
            "type": "carpet"
           }
          ],
          "choropleth": [
           {
            "colorbar": {
             "outlinewidth": 0,
             "ticks": ""
            },
            "type": "choropleth"
           }
          ],
          "contour": [
           {
            "colorbar": {
             "outlinewidth": 0,
             "ticks": ""
            },
            "colorscale": [
             [
              0,
              "#0d0887"
             ],
             [
              0.1111111111111111,
              "#46039f"
             ],
             [
              0.2222222222222222,
              "#7201a8"
             ],
             [
              0.3333333333333333,
              "#9c179e"
             ],
             [
              0.4444444444444444,
              "#bd3786"
             ],
             [
              0.5555555555555556,
              "#d8576b"
             ],
             [
              0.6666666666666666,
              "#ed7953"
             ],
             [
              0.7777777777777778,
              "#fb9f3a"
             ],
             [
              0.8888888888888888,
              "#fdca26"
             ],
             [
              1,
              "#f0f921"
             ]
            ],
            "type": "contour"
           }
          ],
          "contourcarpet": [
           {
            "colorbar": {
             "outlinewidth": 0,
             "ticks": ""
            },
            "type": "contourcarpet"
           }
          ],
          "heatmap": [
           {
            "colorbar": {
             "outlinewidth": 0,
             "ticks": ""
            },
            "colorscale": [
             [
              0,
              "#0d0887"
             ],
             [
              0.1111111111111111,
              "#46039f"
             ],
             [
              0.2222222222222222,
              "#7201a8"
             ],
             [
              0.3333333333333333,
              "#9c179e"
             ],
             [
              0.4444444444444444,
              "#bd3786"
             ],
             [
              0.5555555555555556,
              "#d8576b"
             ],
             [
              0.6666666666666666,
              "#ed7953"
             ],
             [
              0.7777777777777778,
              "#fb9f3a"
             ],
             [
              0.8888888888888888,
              "#fdca26"
             ],
             [
              1,
              "#f0f921"
             ]
            ],
            "type": "heatmap"
           }
          ],
          "heatmapgl": [
           {
            "colorbar": {
             "outlinewidth": 0,
             "ticks": ""
            },
            "colorscale": [
             [
              0,
              "#0d0887"
             ],
             [
              0.1111111111111111,
              "#46039f"
             ],
             [
              0.2222222222222222,
              "#7201a8"
             ],
             [
              0.3333333333333333,
              "#9c179e"
             ],
             [
              0.4444444444444444,
              "#bd3786"
             ],
             [
              0.5555555555555556,
              "#d8576b"
             ],
             [
              0.6666666666666666,
              "#ed7953"
             ],
             [
              0.7777777777777778,
              "#fb9f3a"
             ],
             [
              0.8888888888888888,
              "#fdca26"
             ],
             [
              1,
              "#f0f921"
             ]
            ],
            "type": "heatmapgl"
           }
          ],
          "histogram": [
           {
            "marker": {
             "pattern": {
              "fillmode": "overlay",
              "size": 10,
              "solidity": 0.2
             }
            },
            "type": "histogram"
           }
          ],
          "histogram2d": [
           {
            "colorbar": {
             "outlinewidth": 0,
             "ticks": ""
            },
            "colorscale": [
             [
              0,
              "#0d0887"
             ],
             [
              0.1111111111111111,
              "#46039f"
             ],
             [
              0.2222222222222222,
              "#7201a8"
             ],
             [
              0.3333333333333333,
              "#9c179e"
             ],
             [
              0.4444444444444444,
              "#bd3786"
             ],
             [
              0.5555555555555556,
              "#d8576b"
             ],
             [
              0.6666666666666666,
              "#ed7953"
             ],
             [
              0.7777777777777778,
              "#fb9f3a"
             ],
             [
              0.8888888888888888,
              "#fdca26"
             ],
             [
              1,
              "#f0f921"
             ]
            ],
            "type": "histogram2d"
           }
          ],
          "histogram2dcontour": [
           {
            "colorbar": {
             "outlinewidth": 0,
             "ticks": ""
            },
            "colorscale": [
             [
              0,
              "#0d0887"
             ],
             [
              0.1111111111111111,
              "#46039f"
             ],
             [
              0.2222222222222222,
              "#7201a8"
             ],
             [
              0.3333333333333333,
              "#9c179e"
             ],
             [
              0.4444444444444444,
              "#bd3786"
             ],
             [
              0.5555555555555556,
              "#d8576b"
             ],
             [
              0.6666666666666666,
              "#ed7953"
             ],
             [
              0.7777777777777778,
              "#fb9f3a"
             ],
             [
              0.8888888888888888,
              "#fdca26"
             ],
             [
              1,
              "#f0f921"
             ]
            ],
            "type": "histogram2dcontour"
           }
          ],
          "mesh3d": [
           {
            "colorbar": {
             "outlinewidth": 0,
             "ticks": ""
            },
            "type": "mesh3d"
           }
          ],
          "parcoords": [
           {
            "line": {
             "colorbar": {
              "outlinewidth": 0,
              "ticks": ""
             }
            },
            "type": "parcoords"
           }
          ],
          "pie": [
           {
            "automargin": true,
            "type": "pie"
           }
          ],
          "scatter": [
           {
            "fillpattern": {
             "fillmode": "overlay",
             "size": 10,
             "solidity": 0.2
            },
            "type": "scatter"
           }
          ],
          "scatter3d": [
           {
            "line": {
             "colorbar": {
              "outlinewidth": 0,
              "ticks": ""
             }
            },
            "marker": {
             "colorbar": {
              "outlinewidth": 0,
              "ticks": ""
             }
            },
            "type": "scatter3d"
           }
          ],
          "scattercarpet": [
           {
            "marker": {
             "colorbar": {
              "outlinewidth": 0,
              "ticks": ""
             }
            },
            "type": "scattercarpet"
           }
          ],
          "scattergeo": [
           {
            "marker": {
             "colorbar": {
              "outlinewidth": 0,
              "ticks": ""
             }
            },
            "type": "scattergeo"
           }
          ],
          "scattergl": [
           {
            "marker": {
             "colorbar": {
              "outlinewidth": 0,
              "ticks": ""
             }
            },
            "type": "scattergl"
           }
          ],
          "scattermapbox": [
           {
            "marker": {
             "colorbar": {
              "outlinewidth": 0,
              "ticks": ""
             }
            },
            "type": "scattermapbox"
           }
          ],
          "scatterpolar": [
           {
            "marker": {
             "colorbar": {
              "outlinewidth": 0,
              "ticks": ""
             }
            },
            "type": "scatterpolar"
           }
          ],
          "scatterpolargl": [
           {
            "marker": {
             "colorbar": {
              "outlinewidth": 0,
              "ticks": ""
             }
            },
            "type": "scatterpolargl"
           }
          ],
          "scatterternary": [
           {
            "marker": {
             "colorbar": {
              "outlinewidth": 0,
              "ticks": ""
             }
            },
            "type": "scatterternary"
           }
          ],
          "surface": [
           {
            "colorbar": {
             "outlinewidth": 0,
             "ticks": ""
            },
            "colorscale": [
             [
              0,
              "#0d0887"
             ],
             [
              0.1111111111111111,
              "#46039f"
             ],
             [
              0.2222222222222222,
              "#7201a8"
             ],
             [
              0.3333333333333333,
              "#9c179e"
             ],
             [
              0.4444444444444444,
              "#bd3786"
             ],
             [
              0.5555555555555556,
              "#d8576b"
             ],
             [
              0.6666666666666666,
              "#ed7953"
             ],
             [
              0.7777777777777778,
              "#fb9f3a"
             ],
             [
              0.8888888888888888,
              "#fdca26"
             ],
             [
              1,
              "#f0f921"
             ]
            ],
            "type": "surface"
           }
          ],
          "table": [
           {
            "cells": {
             "fill": {
              "color": "#EBF0F8"
             },
             "line": {
              "color": "white"
             }
            },
            "header": {
             "fill": {
              "color": "#C8D4E3"
             },
             "line": {
              "color": "white"
             }
            },
            "type": "table"
           }
          ]
         },
         "layout": {
          "annotationdefaults": {
           "arrowcolor": "#2a3f5f",
           "arrowhead": 0,
           "arrowwidth": 1
          },
          "autotypenumbers": "strict",
          "coloraxis": {
           "colorbar": {
            "outlinewidth": 0,
            "ticks": ""
           }
          },
          "colorscale": {
           "diverging": [
            [
             0,
             "#8e0152"
            ],
            [
             0.1,
             "#c51b7d"
            ],
            [
             0.2,
             "#de77ae"
            ],
            [
             0.3,
             "#f1b6da"
            ],
            [
             0.4,
             "#fde0ef"
            ],
            [
             0.5,
             "#f7f7f7"
            ],
            [
             0.6,
             "#e6f5d0"
            ],
            [
             0.7,
             "#b8e186"
            ],
            [
             0.8,
             "#7fbc41"
            ],
            [
             0.9,
             "#4d9221"
            ],
            [
             1,
             "#276419"
            ]
           ],
           "sequential": [
            [
             0,
             "#0d0887"
            ],
            [
             0.1111111111111111,
             "#46039f"
            ],
            [
             0.2222222222222222,
             "#7201a8"
            ],
            [
             0.3333333333333333,
             "#9c179e"
            ],
            [
             0.4444444444444444,
             "#bd3786"
            ],
            [
             0.5555555555555556,
             "#d8576b"
            ],
            [
             0.6666666666666666,
             "#ed7953"
            ],
            [
             0.7777777777777778,
             "#fb9f3a"
            ],
            [
             0.8888888888888888,
             "#fdca26"
            ],
            [
             1,
             "#f0f921"
            ]
           ],
           "sequentialminus": [
            [
             0,
             "#0d0887"
            ],
            [
             0.1111111111111111,
             "#46039f"
            ],
            [
             0.2222222222222222,
             "#7201a8"
            ],
            [
             0.3333333333333333,
             "#9c179e"
            ],
            [
             0.4444444444444444,
             "#bd3786"
            ],
            [
             0.5555555555555556,
             "#d8576b"
            ],
            [
             0.6666666666666666,
             "#ed7953"
            ],
            [
             0.7777777777777778,
             "#fb9f3a"
            ],
            [
             0.8888888888888888,
             "#fdca26"
            ],
            [
             1,
             "#f0f921"
            ]
           ]
          },
          "colorway": [
           "#636efa",
           "#EF553B",
           "#00cc96",
           "#ab63fa",
           "#FFA15A",
           "#19d3f3",
           "#FF6692",
           "#B6E880",
           "#FF97FF",
           "#FECB52"
          ],
          "font": {
           "color": "#2a3f5f"
          },
          "geo": {
           "bgcolor": "white",
           "lakecolor": "white",
           "landcolor": "#E5ECF6",
           "showlakes": true,
           "showland": true,
           "subunitcolor": "white"
          },
          "hoverlabel": {
           "align": "left"
          },
          "hovermode": "closest",
          "mapbox": {
           "style": "light"
          },
          "paper_bgcolor": "white",
          "plot_bgcolor": "#E5ECF6",
          "polar": {
           "angularaxis": {
            "gridcolor": "white",
            "linecolor": "white",
            "ticks": ""
           },
           "bgcolor": "#E5ECF6",
           "radialaxis": {
            "gridcolor": "white",
            "linecolor": "white",
            "ticks": ""
           }
          },
          "scene": {
           "xaxis": {
            "backgroundcolor": "#E5ECF6",
            "gridcolor": "white",
            "gridwidth": 2,
            "linecolor": "white",
            "showbackground": true,
            "ticks": "",
            "zerolinecolor": "white"
           },
           "yaxis": {
            "backgroundcolor": "#E5ECF6",
            "gridcolor": "white",
            "gridwidth": 2,
            "linecolor": "white",
            "showbackground": true,
            "ticks": "",
            "zerolinecolor": "white"
           },
           "zaxis": {
            "backgroundcolor": "#E5ECF6",
            "gridcolor": "white",
            "gridwidth": 2,
            "linecolor": "white",
            "showbackground": true,
            "ticks": "",
            "zerolinecolor": "white"
           }
          },
          "shapedefaults": {
           "line": {
            "color": "#2a3f5f"
           }
          },
          "ternary": {
           "aaxis": {
            "gridcolor": "white",
            "linecolor": "white",
            "ticks": ""
           },
           "baxis": {
            "gridcolor": "white",
            "linecolor": "white",
            "ticks": ""
           },
           "bgcolor": "#E5ECF6",
           "caxis": {
            "gridcolor": "white",
            "linecolor": "white",
            "ticks": ""
           }
          },
          "title": {
           "x": 0.05
          },
          "xaxis": {
           "automargin": true,
           "gridcolor": "white",
           "linecolor": "white",
           "ticks": "",
           "title": {
            "standoff": 15
           },
           "zerolinecolor": "white",
           "zerolinewidth": 2
          },
          "yaxis": {
           "automargin": true,
           "gridcolor": "white",
           "linecolor": "white",
           "ticks": "",
           "title": {
            "standoff": 15
           },
           "zerolinecolor": "white",
           "zerolinewidth": 2
          }
         }
        },
        "title": {
         "text": "Most Common Bigrams in Reviews"
        },
        "xaxis": {
         "anchor": "y",
         "domain": [
          0,
          1
         ],
         "title": {
          "text": "Bigram"
         }
        },
        "yaxis": {
         "anchor": "x",
         "domain": [
          0,
          1
         ],
         "title": {
          "text": "Count"
         }
        }
       }
      }
     },
     "metadata": {},
     "output_type": "display_data"
    }
   ],
   "source": [
    "from nltk.util import ngrams\n",
    "\n",
    "bigrams = list(ngrams(words, 2))\n",
    "bigram_freq = Counter(bigrams)\n",
    "df_bigrams = pd.DataFrame(bigram_freq.most_common(20), columns=[\"Bigram\", \"Count\"])\n",
    "\n",
    "# Convert tuple to readable text\n",
    "df_bigrams[\"Bigram\"] = df_bigrams[\"Bigram\"].apply(lambda x: \" \".join(x))\n",
    "\n",
    "# Plot bigrams\n",
    "fig = px.bar(df_bigrams, x=\"Bigram\", y=\"Count\", title=\"Most Common Bigrams in Reviews\", color=\"Count\")\n",
    "fig.show()\n"
   ]
  },
  {
   "cell_type": "code",
   "execution_count": 43,
   "metadata": {},
   "outputs": [
    {
     "data": {
      "application/vnd.plotly.v1+json": {
       "config": {
        "plotlyServerURL": "https://plot.ly"
       },
       "data": [
        {
         "alignmentgroup": "True",
         "hovertemplate": "Sentiment=Negative<br>Rating Category=%{x}<br>Count=%{y}<extra></extra>",
         "legendgroup": "Negative",
         "marker": {
          "color": "#636efa",
          "pattern": {
           "shape": ""
          }
         },
         "name": "Negative",
         "offsetgroup": "Negative",
         "orientation": "v",
         "showlegend": true,
         "textposition": "auto",
         "type": "bar",
         "x": [
          "High Rating",
          "Low Rating",
          "Medium Rating"
         ],
         "xaxis": "x",
         "y": [
          23,
          445,
          216
         ],
         "yaxis": "y"
        },
        {
         "alignmentgroup": "True",
         "hovertemplate": "Sentiment=Neutral<br>Rating Category=%{x}<br>Count=%{y}<extra></extra>",
         "legendgroup": "Neutral",
         "marker": {
          "color": "#EF553B",
          "pattern": {
           "shape": ""
          }
         },
         "name": "Neutral",
         "offsetgroup": "Neutral",
         "orientation": "v",
         "showlegend": true,
         "textposition": "auto",
         "type": "bar",
         "x": [
          "High Rating",
          "Low Rating",
          "Medium Rating"
         ],
         "xaxis": "x",
         "y": [
          14,
          53,
          32
         ],
         "yaxis": "y"
        },
        {
         "alignmentgroup": "True",
         "hovertemplate": "Sentiment=Positive<br>Rating Category=%{x}<br>Count=%{y}<extra></extra>",
         "legendgroup": "Positive",
         "marker": {
          "color": "#00cc96",
          "pattern": {
           "shape": ""
          }
         },
         "name": "Positive",
         "offsetgroup": "Positive",
         "orientation": "v",
         "showlegend": true,
         "textposition": "auto",
         "type": "bar",
         "x": [
          "High Rating",
          "Low Rating",
          "Medium Rating"
         ],
         "xaxis": "x",
         "y": [
          363,
          404,
          783
         ],
         "yaxis": "y"
        }
       ],
       "layout": {
        "barmode": "relative",
        "legend": {
         "title": {
          "text": "Sentiment"
         },
         "tracegroupgap": 0
        },
        "template": {
         "data": {
          "bar": [
           {
            "error_x": {
             "color": "#2a3f5f"
            },
            "error_y": {
             "color": "#2a3f5f"
            },
            "marker": {
             "line": {
              "color": "#E5ECF6",
              "width": 0.5
             },
             "pattern": {
              "fillmode": "overlay",
              "size": 10,
              "solidity": 0.2
             }
            },
            "type": "bar"
           }
          ],
          "barpolar": [
           {
            "marker": {
             "line": {
              "color": "#E5ECF6",
              "width": 0.5
             },
             "pattern": {
              "fillmode": "overlay",
              "size": 10,
              "solidity": 0.2
             }
            },
            "type": "barpolar"
           }
          ],
          "carpet": [
           {
            "aaxis": {
             "endlinecolor": "#2a3f5f",
             "gridcolor": "white",
             "linecolor": "white",
             "minorgridcolor": "white",
             "startlinecolor": "#2a3f5f"
            },
            "baxis": {
             "endlinecolor": "#2a3f5f",
             "gridcolor": "white",
             "linecolor": "white",
             "minorgridcolor": "white",
             "startlinecolor": "#2a3f5f"
            },
            "type": "carpet"
           }
          ],
          "choropleth": [
           {
            "colorbar": {
             "outlinewidth": 0,
             "ticks": ""
            },
            "type": "choropleth"
           }
          ],
          "contour": [
           {
            "colorbar": {
             "outlinewidth": 0,
             "ticks": ""
            },
            "colorscale": [
             [
              0,
              "#0d0887"
             ],
             [
              0.1111111111111111,
              "#46039f"
             ],
             [
              0.2222222222222222,
              "#7201a8"
             ],
             [
              0.3333333333333333,
              "#9c179e"
             ],
             [
              0.4444444444444444,
              "#bd3786"
             ],
             [
              0.5555555555555556,
              "#d8576b"
             ],
             [
              0.6666666666666666,
              "#ed7953"
             ],
             [
              0.7777777777777778,
              "#fb9f3a"
             ],
             [
              0.8888888888888888,
              "#fdca26"
             ],
             [
              1,
              "#f0f921"
             ]
            ],
            "type": "contour"
           }
          ],
          "contourcarpet": [
           {
            "colorbar": {
             "outlinewidth": 0,
             "ticks": ""
            },
            "type": "contourcarpet"
           }
          ],
          "heatmap": [
           {
            "colorbar": {
             "outlinewidth": 0,
             "ticks": ""
            },
            "colorscale": [
             [
              0,
              "#0d0887"
             ],
             [
              0.1111111111111111,
              "#46039f"
             ],
             [
              0.2222222222222222,
              "#7201a8"
             ],
             [
              0.3333333333333333,
              "#9c179e"
             ],
             [
              0.4444444444444444,
              "#bd3786"
             ],
             [
              0.5555555555555556,
              "#d8576b"
             ],
             [
              0.6666666666666666,
              "#ed7953"
             ],
             [
              0.7777777777777778,
              "#fb9f3a"
             ],
             [
              0.8888888888888888,
              "#fdca26"
             ],
             [
              1,
              "#f0f921"
             ]
            ],
            "type": "heatmap"
           }
          ],
          "heatmapgl": [
           {
            "colorbar": {
             "outlinewidth": 0,
             "ticks": ""
            },
            "colorscale": [
             [
              0,
              "#0d0887"
             ],
             [
              0.1111111111111111,
              "#46039f"
             ],
             [
              0.2222222222222222,
              "#7201a8"
             ],
             [
              0.3333333333333333,
              "#9c179e"
             ],
             [
              0.4444444444444444,
              "#bd3786"
             ],
             [
              0.5555555555555556,
              "#d8576b"
             ],
             [
              0.6666666666666666,
              "#ed7953"
             ],
             [
              0.7777777777777778,
              "#fb9f3a"
             ],
             [
              0.8888888888888888,
              "#fdca26"
             ],
             [
              1,
              "#f0f921"
             ]
            ],
            "type": "heatmapgl"
           }
          ],
          "histogram": [
           {
            "marker": {
             "pattern": {
              "fillmode": "overlay",
              "size": 10,
              "solidity": 0.2
             }
            },
            "type": "histogram"
           }
          ],
          "histogram2d": [
           {
            "colorbar": {
             "outlinewidth": 0,
             "ticks": ""
            },
            "colorscale": [
             [
              0,
              "#0d0887"
             ],
             [
              0.1111111111111111,
              "#46039f"
             ],
             [
              0.2222222222222222,
              "#7201a8"
             ],
             [
              0.3333333333333333,
              "#9c179e"
             ],
             [
              0.4444444444444444,
              "#bd3786"
             ],
             [
              0.5555555555555556,
              "#d8576b"
             ],
             [
              0.6666666666666666,
              "#ed7953"
             ],
             [
              0.7777777777777778,
              "#fb9f3a"
             ],
             [
              0.8888888888888888,
              "#fdca26"
             ],
             [
              1,
              "#f0f921"
             ]
            ],
            "type": "histogram2d"
           }
          ],
          "histogram2dcontour": [
           {
            "colorbar": {
             "outlinewidth": 0,
             "ticks": ""
            },
            "colorscale": [
             [
              0,
              "#0d0887"
             ],
             [
              0.1111111111111111,
              "#46039f"
             ],
             [
              0.2222222222222222,
              "#7201a8"
             ],
             [
              0.3333333333333333,
              "#9c179e"
             ],
             [
              0.4444444444444444,
              "#bd3786"
             ],
             [
              0.5555555555555556,
              "#d8576b"
             ],
             [
              0.6666666666666666,
              "#ed7953"
             ],
             [
              0.7777777777777778,
              "#fb9f3a"
             ],
             [
              0.8888888888888888,
              "#fdca26"
             ],
             [
              1,
              "#f0f921"
             ]
            ],
            "type": "histogram2dcontour"
           }
          ],
          "mesh3d": [
           {
            "colorbar": {
             "outlinewidth": 0,
             "ticks": ""
            },
            "type": "mesh3d"
           }
          ],
          "parcoords": [
           {
            "line": {
             "colorbar": {
              "outlinewidth": 0,
              "ticks": ""
             }
            },
            "type": "parcoords"
           }
          ],
          "pie": [
           {
            "automargin": true,
            "type": "pie"
           }
          ],
          "scatter": [
           {
            "fillpattern": {
             "fillmode": "overlay",
             "size": 10,
             "solidity": 0.2
            },
            "type": "scatter"
           }
          ],
          "scatter3d": [
           {
            "line": {
             "colorbar": {
              "outlinewidth": 0,
              "ticks": ""
             }
            },
            "marker": {
             "colorbar": {
              "outlinewidth": 0,
              "ticks": ""
             }
            },
            "type": "scatter3d"
           }
          ],
          "scattercarpet": [
           {
            "marker": {
             "colorbar": {
              "outlinewidth": 0,
              "ticks": ""
             }
            },
            "type": "scattercarpet"
           }
          ],
          "scattergeo": [
           {
            "marker": {
             "colorbar": {
              "outlinewidth": 0,
              "ticks": ""
             }
            },
            "type": "scattergeo"
           }
          ],
          "scattergl": [
           {
            "marker": {
             "colorbar": {
              "outlinewidth": 0,
              "ticks": ""
             }
            },
            "type": "scattergl"
           }
          ],
          "scattermapbox": [
           {
            "marker": {
             "colorbar": {
              "outlinewidth": 0,
              "ticks": ""
             }
            },
            "type": "scattermapbox"
           }
          ],
          "scatterpolar": [
           {
            "marker": {
             "colorbar": {
              "outlinewidth": 0,
              "ticks": ""
             }
            },
            "type": "scatterpolar"
           }
          ],
          "scatterpolargl": [
           {
            "marker": {
             "colorbar": {
              "outlinewidth": 0,
              "ticks": ""
             }
            },
            "type": "scatterpolargl"
           }
          ],
          "scatterternary": [
           {
            "marker": {
             "colorbar": {
              "outlinewidth": 0,
              "ticks": ""
             }
            },
            "type": "scatterternary"
           }
          ],
          "surface": [
           {
            "colorbar": {
             "outlinewidth": 0,
             "ticks": ""
            },
            "colorscale": [
             [
              0,
              "#0d0887"
             ],
             [
              0.1111111111111111,
              "#46039f"
             ],
             [
              0.2222222222222222,
              "#7201a8"
             ],
             [
              0.3333333333333333,
              "#9c179e"
             ],
             [
              0.4444444444444444,
              "#bd3786"
             ],
             [
              0.5555555555555556,
              "#d8576b"
             ],
             [
              0.6666666666666666,
              "#ed7953"
             ],
             [
              0.7777777777777778,
              "#fb9f3a"
             ],
             [
              0.8888888888888888,
              "#fdca26"
             ],
             [
              1,
              "#f0f921"
             ]
            ],
            "type": "surface"
           }
          ],
          "table": [
           {
            "cells": {
             "fill": {
              "color": "#EBF0F8"
             },
             "line": {
              "color": "white"
             }
            },
            "header": {
             "fill": {
              "color": "#C8D4E3"
             },
             "line": {
              "color": "white"
             }
            },
            "type": "table"
           }
          ]
         },
         "layout": {
          "annotationdefaults": {
           "arrowcolor": "#2a3f5f",
           "arrowhead": 0,
           "arrowwidth": 1
          },
          "autotypenumbers": "strict",
          "coloraxis": {
           "colorbar": {
            "outlinewidth": 0,
            "ticks": ""
           }
          },
          "colorscale": {
           "diverging": [
            [
             0,
             "#8e0152"
            ],
            [
             0.1,
             "#c51b7d"
            ],
            [
             0.2,
             "#de77ae"
            ],
            [
             0.3,
             "#f1b6da"
            ],
            [
             0.4,
             "#fde0ef"
            ],
            [
             0.5,
             "#f7f7f7"
            ],
            [
             0.6,
             "#e6f5d0"
            ],
            [
             0.7,
             "#b8e186"
            ],
            [
             0.8,
             "#7fbc41"
            ],
            [
             0.9,
             "#4d9221"
            ],
            [
             1,
             "#276419"
            ]
           ],
           "sequential": [
            [
             0,
             "#0d0887"
            ],
            [
             0.1111111111111111,
             "#46039f"
            ],
            [
             0.2222222222222222,
             "#7201a8"
            ],
            [
             0.3333333333333333,
             "#9c179e"
            ],
            [
             0.4444444444444444,
             "#bd3786"
            ],
            [
             0.5555555555555556,
             "#d8576b"
            ],
            [
             0.6666666666666666,
             "#ed7953"
            ],
            [
             0.7777777777777778,
             "#fb9f3a"
            ],
            [
             0.8888888888888888,
             "#fdca26"
            ],
            [
             1,
             "#f0f921"
            ]
           ],
           "sequentialminus": [
            [
             0,
             "#0d0887"
            ],
            [
             0.1111111111111111,
             "#46039f"
            ],
            [
             0.2222222222222222,
             "#7201a8"
            ],
            [
             0.3333333333333333,
             "#9c179e"
            ],
            [
             0.4444444444444444,
             "#bd3786"
            ],
            [
             0.5555555555555556,
             "#d8576b"
            ],
            [
             0.6666666666666666,
             "#ed7953"
            ],
            [
             0.7777777777777778,
             "#fb9f3a"
            ],
            [
             0.8888888888888888,
             "#fdca26"
            ],
            [
             1,
             "#f0f921"
            ]
           ]
          },
          "colorway": [
           "#636efa",
           "#EF553B",
           "#00cc96",
           "#ab63fa",
           "#FFA15A",
           "#19d3f3",
           "#FF6692",
           "#B6E880",
           "#FF97FF",
           "#FECB52"
          ],
          "font": {
           "color": "#2a3f5f"
          },
          "geo": {
           "bgcolor": "white",
           "lakecolor": "white",
           "landcolor": "#E5ECF6",
           "showlakes": true,
           "showland": true,
           "subunitcolor": "white"
          },
          "hoverlabel": {
           "align": "left"
          },
          "hovermode": "closest",
          "mapbox": {
           "style": "light"
          },
          "paper_bgcolor": "white",
          "plot_bgcolor": "#E5ECF6",
          "polar": {
           "angularaxis": {
            "gridcolor": "white",
            "linecolor": "white",
            "ticks": ""
           },
           "bgcolor": "#E5ECF6",
           "radialaxis": {
            "gridcolor": "white",
            "linecolor": "white",
            "ticks": ""
           }
          },
          "scene": {
           "xaxis": {
            "backgroundcolor": "#E5ECF6",
            "gridcolor": "white",
            "gridwidth": 2,
            "linecolor": "white",
            "showbackground": true,
            "ticks": "",
            "zerolinecolor": "white"
           },
           "yaxis": {
            "backgroundcolor": "#E5ECF6",
            "gridcolor": "white",
            "gridwidth": 2,
            "linecolor": "white",
            "showbackground": true,
            "ticks": "",
            "zerolinecolor": "white"
           },
           "zaxis": {
            "backgroundcolor": "#E5ECF6",
            "gridcolor": "white",
            "gridwidth": 2,
            "linecolor": "white",
            "showbackground": true,
            "ticks": "",
            "zerolinecolor": "white"
           }
          },
          "shapedefaults": {
           "line": {
            "color": "#2a3f5f"
           }
          },
          "ternary": {
           "aaxis": {
            "gridcolor": "white",
            "linecolor": "white",
            "ticks": ""
           },
           "baxis": {
            "gridcolor": "white",
            "linecolor": "white",
            "ticks": ""
           },
           "bgcolor": "#E5ECF6",
           "caxis": {
            "gridcolor": "white",
            "linecolor": "white",
            "ticks": ""
           }
          },
          "title": {
           "x": 0.05
          },
          "xaxis": {
           "automargin": true,
           "gridcolor": "white",
           "linecolor": "white",
           "ticks": "",
           "title": {
            "standoff": 15
           },
           "zerolinecolor": "white",
           "zerolinewidth": 2
          },
          "yaxis": {
           "automargin": true,
           "gridcolor": "white",
           "linecolor": "white",
           "ticks": "",
           "title": {
            "standoff": 15
           },
           "zerolinecolor": "white",
           "zerolinewidth": 2
          }
         }
        },
        "title": {
         "text": "Sentiment Distribution Based on Rating Category"
        },
        "xaxis": {
         "anchor": "y",
         "domain": [
          0,
          1
         ],
         "title": {
          "text": "Rating Category"
         }
        },
        "yaxis": {
         "anchor": "x",
         "domain": [
          0,
          1
         ],
         "title": {
          "text": "Count"
         }
        }
       }
      }
     },
     "metadata": {},
     "output_type": "display_data"
    }
   ],
   "source": [
    "import pandas as pd\n",
    "import plotly.express as px\n",
    "\n",
    "# Define rating categories based on Average Rating\n",
    "def categorize_rating(rating):\n",
    "    if rating >= 4.5:\n",
    "        return \"High Rating\"\n",
    "    elif rating >= 3.0:\n",
    "        return \"Medium Rating\"\n",
    "    else:\n",
    "        return \"Low Rating\"\n",
    "\n",
    "# Apply the rating category based on the Average Rating\n",
    "df_all['Rating_Category'] = df_all['Average Rating'].astype(float).apply(categorize_rating)\n",
    "\n",
    "# Exploding the Sentiment column to have individual rows for each sentiment\n",
    "df_exploded = df_all.explode('Sentiment')\n",
    "\n",
    "# Count the sentiment distribution across different rating categories\n",
    "sentiment_counts = df_exploded.groupby(['Rating_Category', 'Sentiment']).size().reset_index(name='Count')\n",
    "\n",
    "# Plot the sentiment distribution across different rating categories\n",
    "fig = px.bar(sentiment_counts, x='Rating_Category', y='Count', color='Sentiment',\n",
    "             title=\"Sentiment Distribution Based on Rating Category\",\n",
    "             labels={\"Rating_Category\": \"Rating Category\", \"Sentiment\": \"Sentiment\"})\n",
    "fig.show()\n"
   ]
  },
  {
   "cell_type": "code",
   "execution_count": 49,
   "metadata": {},
   "outputs": [
    {
     "data": {
      "application/vnd.plotly.v1+json": {
       "config": {
        "plotlyServerURL": "https://plot.ly"
       },
       "data": [
        {
         "customdata": [
          [
           "a968b33d"
          ],
          [
           "11b6fcc2"
          ],
          [
           "9c6f5334"
          ],
          [
           "3ed2b676"
          ],
          [
           "aed83b0e"
          ],
          [
           "4e8abdba"
          ],
          [
           "fe2945d2"
          ],
          [
           "80f62682"
          ],
          [
           "1afbf8c1"
          ],
          [
           "3aeb7052"
          ],
          [
           "f373cdb8"
          ],
          [
           "cc802ff3"
          ],
          [
           "1b60e115"
          ],
          [
           "f89fb50b"
          ],
          [
           "4e701070"
          ],
          [
           "54a1448c"
          ]
         ],
         "hovertemplate": "School=UC San Diego<br>Average Rating=%{x}<br>Positive/Negative Sentiment Ratio=%{y}<br>Professor=%{customdata[0]}<extra></extra>",
         "legendgroup": "UC San Diego",
         "marker": {
          "color": "#636efa",
          "symbol": "circle"
         },
         "mode": "markers",
         "name": "UC San Diego",
         "orientation": "v",
         "showlegend": true,
         "type": "scatter",
         "x": [
          2.5,
          3.7,
          5,
          3.3,
          4.6,
          4.8,
          4.9,
          1.4,
          5,
          2,
          5,
          5,
          5,
          3,
          1,
          2
         ],
         "xaxis": "x",
         "y": [
          0.5,
          5.5,
          2,
          3.75,
          8,
          18,
          17,
          0.6,
          1,
          2,
          9,
          3,
          6,
          1,
          0,
          0
         ],
         "yaxis": "y"
        },
        {
         "customdata": [
          [
           "cd3aa54f"
          ],
          [
           "686e5a8a"
          ],
          [
           "d93ba308"
          ],
          [
           "de08aacd"
          ],
          [
           "a7a92166"
          ],
          [
           "55f46442"
          ],
          [
           "5c8f7c18"
          ],
          [
           "21d7d369"
          ],
          [
           "2edd6cce"
          ],
          [
           "c5cc1655"
          ],
          [
           "eb9750be"
          ],
          [
           "e833450d"
          ],
          [
           "8c7da3de"
          ],
          [
           "fe7df835"
          ],
          [
           "58f6d9b7"
          ],
          [
           "ab5277b0"
          ],
          [
           "54553ec2"
          ],
          [
           "1cf518b5"
          ],
          [
           "1ec1fddf"
          ],
          [
           "54608f97"
          ],
          [
           "4a84ae2b"
          ],
          [
           "dbafc9a4"
          ],
          [
           "0c41f8dc"
          ],
          [
           "9b81c9a5"
          ],
          [
           "2d89881f"
          ],
          [
           "c4cf39f3"
          ],
          [
           "ef80b5e2"
          ],
          [
           "9ba53f01"
          ],
          [
           "7f4d96ed"
          ],
          [
           "63e77aee"
          ],
          [
           "18ff13c1"
          ],
          [
           "5fb6f4ed"
          ],
          [
           "e1590d8e"
          ],
          [
           "d3dca242"
          ],
          [
           "a5fb08cf"
          ],
          [
           "a706d060"
          ],
          [
           "41e8f806"
          ],
          [
           "8899e35c"
          ],
          [
           "ba318a83"
          ],
          [
           "a7b320df"
          ],
          [
           "6eb3acdc"
          ],
          [
           "b9c8fb70"
          ],
          [
           "e14b5391"
          ],
          [
           "244277d6"
          ],
          [
           "53690b6e"
          ],
          [
           "0b6a308e"
          ],
          [
           "3b1971f2"
          ],
          [
           "2d0a6b7d"
          ],
          [
           "f9efbeb5"
          ],
          [
           "6230e060"
          ],
          [
           "4a701b24"
          ],
          [
           "c92e6d91"
          ],
          [
           "37ef497d"
          ],
          [
           "be6c558d"
          ],
          [
           "aa91f9ea"
          ],
          [
           "eb4bef9e"
          ],
          [
           "e189a253"
          ],
          [
           "8c93f71d"
          ],
          [
           "dc58e799"
          ],
          [
           "30ed1537"
          ],
          [
           "4fd7a2da"
          ],
          [
           "9eae1404"
          ],
          [
           "6b1fb3e8"
          ],
          [
           "90948d70"
          ],
          [
           "134af019"
          ],
          [
           "2a632ea7"
          ],
          [
           "1ca9c96a"
          ],
          [
           "c0ee3289"
          ],
          [
           "18e9cf5e"
          ],
          [
           "7a6ba0af"
          ],
          [
           "2ca81245"
          ],
          [
           "b6fe9d93"
          ],
          [
           "275b7163"
          ],
          [
           "29fb3afc"
          ],
          [
           "23eddb6f"
          ],
          [
           "908ee65e"
          ],
          [
           "89d761d6"
          ],
          [
           "9c48352a"
          ],
          [
           "f39e555b"
          ],
          [
           "360de6a7"
          ],
          [
           "a488d4d7"
          ],
          [
           "bb6a9b88"
          ],
          [
           "a755a524"
          ],
          [
           "cd0a8208"
          ],
          [
           "0725e464"
          ],
          [
           "bfaad02b"
          ],
          [
           "978150c8"
          ],
          [
           "9833a907"
          ],
          [
           "cbc08c8d"
          ],
          [
           "5168fdf7"
          ],
          [
           "64e5921a"
          ],
          [
           "1551e822"
          ],
          [
           "74305d1a"
          ],
          [
           "25320839"
          ],
          [
           "e5759273"
          ],
          [
           "80534e74"
          ],
          [
           "dd7bddd4"
          ],
          [
           "7f67db9a"
          ],
          [
           "2347f770"
          ],
          [
           "26cd77b4"
          ]
         ],
         "hovertemplate": "School=UC Davis<br>Average Rating=%{x}<br>Positive/Negative Sentiment Ratio=%{y}<br>Professor=%{customdata[0]}<extra></extra>",
         "legendgroup": "UC Davis",
         "marker": {
          "color": "#EF553B",
          "symbol": "circle"
         },
         "mode": "markers",
         "name": "UC Davis",
         "orientation": "v",
         "showlegend": true,
         "type": "scatter",
         "x": [
          2.4,
          3.8,
          4.7,
          3,
          4.5,
          4,
          2.4,
          3.5,
          3,
          2.1,
          4.5,
          4.4,
          2.1,
          4.6,
          3.4,
          1.6,
          2.2,
          1.8,
          2.2,
          1.9,
          3.4,
          2.2,
          3.2,
          5,
          3.5,
          3.1,
          4.4,
          4,
          3.4,
          5,
          3.3,
          2.8,
          2.5,
          4.7,
          1,
          2.5,
          5,
          3.2,
          2.5,
          4.2,
          3.2,
          4.3,
          5,
          3.5,
          2.7,
          4.4,
          1.9,
          2.7,
          2.2,
          5,
          1,
          3.6,
          3.1,
          4.4,
          1.9,
          2.5,
          3.1,
          3.5,
          4.4,
          2.8,
          2.7,
          3.4,
          5,
          3.2,
          3.8,
          4.8,
          3.6,
          4.3,
          3.2,
          5,
          4.2,
          2.5,
          4.6,
          2.8,
          3.4,
          2.6,
          3.6,
          4.4,
          4.2,
          2.5,
          4.1,
          4.5,
          5,
          3.3,
          3.9,
          3.5,
          3.3,
          4,
          5,
          2.5,
          3.9,
          4.8,
          5,
          5,
          4.5,
          3.2,
          2,
          4.7,
          4.5,
          2.7
         ],
         "xaxis": "x",
         "y": [
          0.3333333333333333,
          1.7142857142857142,
          19,
          5.666666666666667,
          20,
          4,
          2,
          3,
          5,
          0.7,
          12,
          8.5,
          1.7142857142857142,
          2.6,
          2.3333333333333335,
          0.4166666666666667,
          4,
          0.14285714285714285,
          1,
          0.35714285714285715,
          2.6,
          0.05263157894736842,
          1.5714285714285714,
          5,
          3.5,
          1.6666666666666667,
          7.5,
          3,
          9,
          1,
          2.3333333333333335,
          1,
          1.5714285714285714,
          2,
          0,
          0.7272727272727273,
          1,
          0.6666666666666666,
          1.7142857142857142,
          2,
          2.8,
          4.333333333333333,
          2,
          8,
          1.2222222222222223,
          7,
          0.16666666666666666,
          2,
          0.2857142857142857,
          4,
          0,
          2.4,
          3,
          4,
          0.5,
          2.3333333333333335,
          9,
          1,
          9,
          1,
          1,
          2,
          4,
          5,
          5,
          18,
          1.5714285714285714,
          9,
          2.3333333333333335,
          0,
          4,
          1,
          20,
          2,
          1.3333333333333333,
          1,
          5.333333333333333,
          7,
          8,
          1.25,
          7,
          0,
          1,
          2,
          4,
          4,
          3,
          3,
          3,
          1,
          9,
          20,
          2,
          1,
          6,
          2,
          1,
          19,
          2,
          0.8181818181818182
         ],
         "yaxis": "y"
        },
        {
         "customdata": [
          [
           "513ab4b7"
          ],
          [
           "883a5a69"
          ],
          [
           "42182bde"
          ],
          [
           "f69d87a7"
          ],
          [
           "9b671a51"
          ],
          [
           "ed6b0a6c"
          ],
          [
           "11554bfb"
          ],
          [
           "d084493e"
          ],
          [
           "7794501c"
          ],
          [
           "74695af9"
          ],
          [
           "de78094a"
          ],
          [
           "871dd0e0"
          ],
          [
           "1a0787e4"
          ],
          [
           "0ba5507f"
          ],
          [
           "169f9378"
          ],
          [
           "bf458b1f"
          ],
          [
           "82aaebae"
          ],
          [
           "edb39794"
          ],
          [
           "3a3e7160"
          ],
          [
           "dc5b2bd1"
          ],
          [
           "fa3480de"
          ],
          [
           "1e49740c"
          ],
          [
           "a0318a1a"
          ],
          [
           "1ae2480d"
          ],
          [
           "d396afce"
          ],
          [
           "e6f4a2e6"
          ],
          [
           "da30c2ef"
          ],
          [
           "696ec8d6"
          ],
          [
           "d5835f4e"
          ],
          [
           "0244dcf1"
          ],
          [
           "8899e35c"
          ],
          [
           "c185b81f"
          ],
          [
           "86bd12ef"
          ],
          [
           "756a63ed"
          ],
          [
           "78c613c9"
          ],
          [
           "6a54f602"
          ],
          [
           "79d816fb"
          ],
          [
           "ceceff9e"
          ],
          [
           "097e8efd"
          ],
          [
           "507b3eea"
          ],
          [
           "e62e4e61"
          ],
          [
           "376b011a"
          ],
          [
           "12330c6e"
          ],
          [
           "d88043dc"
          ],
          [
           "ccca2ffa"
          ],
          [
           "0053ece1"
          ],
          [
           "ea93c0cf"
          ],
          [
           "e84c36d0"
          ],
          [
           "3711ca7f"
          ],
          [
           "b5a695a4"
          ],
          [
           "2a8fe0ec"
          ],
          [
           "6f61f2f8"
          ],
          [
           "95c94953"
          ],
          [
           "6aec9746"
          ],
          [
           "854d0c26"
          ],
          [
           "11ee6877"
          ],
          [
           "e8f54f66"
          ],
          [
           "74ae7226"
          ],
          [
           "49d1dfda"
          ],
          [
           "f01344c7"
          ],
          [
           "bca90beb"
          ],
          [
           "8ad78184"
          ],
          [
           "13da9ac6"
          ],
          [
           "e0e060e4"
          ],
          [
           "8a66b74a"
          ],
          [
           "6c9caf80"
          ],
          [
           "a2b5ec22"
          ],
          [
           "dd8874d9"
          ],
          [
           "63fad82d"
          ]
         ],
         "hovertemplate": "School=UC Berkeley<br>Average Rating=%{x}<br>Positive/Negative Sentiment Ratio=%{y}<br>Professor=%{customdata[0]}<extra></extra>",
         "legendgroup": "UC Berkeley",
         "marker": {
          "color": "#00cc96",
          "symbol": "circle"
         },
         "mode": "markers",
         "name": "UC Berkeley",
         "orientation": "v",
         "showlegend": true,
         "type": "scatter",
         "x": [
          2.9,
          2.7,
          5,
          1.9,
          1,
          1.2,
          3.3,
          2.5,
          3.3,
          4.5,
          3.6,
          3.5,
          4,
          4.3,
          1.7,
          5,
          3.7,
          4.5,
          3.9,
          3.4,
          2.3,
          3,
          3,
          5,
          3.8,
          2.5,
          4.3,
          4.7,
          5,
          2.9,
          3,
          3.6,
          4.4,
          1,
          4.5,
          1.8,
          2.9,
          1.3,
          1.7,
          2,
          3.2,
          3,
          2,
          2,
          1,
          4.9,
          1,
          4,
          1,
          3.7,
          2.2,
          3.5,
          3,
          1,
          4.2,
          4.4,
          4.4,
          3.7,
          2.9,
          4.1,
          2.6,
          3.5,
          2.3,
          3,
          2.7,
          2.9,
          2,
          4,
          1
         ],
         "xaxis": "x",
         "y": [
          19,
          0.8181818181818182,
          1,
          0.5384615384615384,
          0,
          0.5714285714285714,
          1,
          0.6666666666666666,
          2.3333333333333335,
          19,
          8.5,
          2,
          1,
          5.666666666666667,
          0.7,
          3,
          2.5,
          0,
          3,
          2.5,
          2,
          2,
          0.5,
          2,
          2,
          0.5714285714285714,
          6,
          3,
          2,
          1.375,
          1,
          8,
          5.666666666666667,
          0.25,
          4,
          0.1111111111111111,
          1,
          2,
          0.2857142857142857,
          0.5,
          4,
          1.7142857142857142,
          1,
          0.7777777777777778,
          0.3333333333333333,
          6,
          0,
          1,
          0,
          0.5833333333333334,
          3.6666666666666665,
          3,
          0.5,
          0,
          2,
          7,
          10,
          4,
          1.4285714285714286,
          7,
          3,
          4,
          2,
          6,
          0.3333333333333333,
          6,
          2,
          0,
          1
         ],
         "yaxis": "y"
        },
        {
         "customdata": [
          [
           "04785956"
          ],
          [
           "ca86d588"
          ],
          [
           "5391ad95"
          ],
          [
           "b483a81d"
          ],
          [
           "9cd4b195"
          ],
          [
           "d7b67c9c"
          ],
          [
           "9f00912b"
          ]
         ],
         "hovertemplate": "School=UCLA<br>Average Rating=%{x}<br>Positive/Negative Sentiment Ratio=%{y}<br>Professor=%{customdata[0]}<extra></extra>",
         "legendgroup": "UCLA",
         "marker": {
          "color": "#ab63fa",
          "symbol": "circle"
         },
         "mode": "markers",
         "name": "UCLA",
         "orientation": "v",
         "showlegend": true,
         "type": "scatter",
         "x": [
          3.3,
          4.7,
          1,
          5,
          5,
          3.7,
          5
         ],
         "xaxis": "x",
         "y": [
          3,
          9,
          1,
          1,
          1,
          1.5,
          1
         ],
         "yaxis": "y"
        },
        {
         "customdata": [
          [
           "6f6cfeba"
          ],
          [
           "f582e840"
          ],
          [
           "5d651a9d"
          ],
          [
           "1b4869ec"
          ],
          [
           "038ef70e"
          ],
          [
           "0bb44c07"
          ],
          [
           "5ce35825"
          ],
          [
           "40a7e469"
          ],
          [
           "0da806c4"
          ],
          [
           "3f5fbc9c"
          ],
          [
           "a44c7621"
          ],
          [
           "5691af89"
          ],
          [
           "70ce7a8b"
          ],
          [
           "c4ea4403"
          ],
          [
           "8bf0d9b1"
          ],
          [
           "c948a34a"
          ],
          [
           "6c53be0e"
          ],
          [
           "e03de25d"
          ],
          [
           "b843d32b"
          ],
          [
           "c1a1dd63"
          ],
          [
           "e0ca5289"
          ],
          [
           "52926673"
          ],
          [
           "7ca6332c"
          ],
          [
           "01a3d893"
          ],
          [
           "f260efe1"
          ],
          [
           "80c448db"
          ],
          [
           "a65912f9"
          ]
         ],
         "hovertemplate": "School=UC Irvine<br>Average Rating=%{x}<br>Positive/Negative Sentiment Ratio=%{y}<br>Professor=%{customdata[0]}<extra></extra>",
         "legendgroup": "UC Irvine",
         "marker": {
          "color": "#FFA15A",
          "symbol": "circle"
         },
         "mode": "markers",
         "name": "UC Irvine",
         "orientation": "v",
         "showlegend": true,
         "type": "scatter",
         "x": [
          3.5,
          2.9,
          4,
          2.4,
          4.6,
          2.2,
          4.4,
          3.8,
          2.2,
          4.7,
          4,
          2.9,
          4.7,
          1,
          4.3,
          5,
          5,
          3.4,
          4.3,
          1.5,
          2,
          1.5,
          4.5,
          3.3,
          3,
          2.8,
          2
         ],
         "xaxis": "x",
         "y": [
          1.8571428571428572,
          4,
          18,
          1.25,
          5.333333333333333,
          1.8571428571428572,
          8.5,
          5,
          0.26666666666666666,
          19,
          4,
          3,
          6,
          0,
          12,
          3,
          1,
          2.2,
          5.666666666666667,
          0.8,
          2.5,
          1,
          6,
          2,
          1,
          1.3333333333333333,
          0.5384615384615384
         ],
         "yaxis": "y"
        },
        {
         "hovertemplate": "<b>OLS trendline</b><br>Pos_Neg_Ratio = 1.77044 * Average Rating + -2.28496<br>R<sup>2</sup>=0.211476<br><br>Average Rating=%{x}<br>Positive/Negative Sentiment Ratio=%{y} <b>(trend)</b><extra></extra>",
         "legendgroup": "Overall Trendline",
         "line": {
          "color": "#19d3f3"
         },
         "mode": "lines",
         "name": "Overall Trendline",
         "showlegend": true,
         "type": "scatter",
         "x": [
          1,
          1,
          1,
          1,
          1,
          1,
          1,
          1,
          1,
          1,
          1,
          1,
          1.2,
          1.3,
          1.4,
          1.5,
          1.5,
          1.6,
          1.7,
          1.7,
          1.8,
          1.8,
          1.9,
          1.9,
          1.9,
          1.9,
          2,
          2,
          2,
          2,
          2,
          2,
          2,
          2,
          2,
          2.1,
          2.1,
          2.2,
          2.2,
          2.2,
          2.2,
          2.2,
          2.2,
          2.2,
          2.3,
          2.3,
          2.4,
          2.4,
          2.4,
          2.5,
          2.5,
          2.5,
          2.5,
          2.5,
          2.5,
          2.5,
          2.5,
          2.5,
          2.5,
          2.6,
          2.6,
          2.7,
          2.7,
          2.7,
          2.7,
          2.7,
          2.7,
          2.8,
          2.8,
          2.8,
          2.8,
          2.9,
          2.9,
          2.9,
          2.9,
          2.9,
          2.9,
          2.9,
          3,
          3,
          3,
          3,
          3,
          3,
          3,
          3,
          3,
          3,
          3.1,
          3.1,
          3.1,
          3.2,
          3.2,
          3.2,
          3.2,
          3.2,
          3.2,
          3.2,
          3.3,
          3.3,
          3.3,
          3.3,
          3.3,
          3.3,
          3.3,
          3.3,
          3.4,
          3.4,
          3.4,
          3.4,
          3.4,
          3.4,
          3.4,
          3.5,
          3.5,
          3.5,
          3.5,
          3.5,
          3.5,
          3.5,
          3.5,
          3.5,
          3.6,
          3.6,
          3.6,
          3.6,
          3.6,
          3.7,
          3.7,
          3.7,
          3.7,
          3.7,
          3.8,
          3.8,
          3.8,
          3.8,
          3.9,
          3.9,
          3.9,
          4,
          4,
          4,
          4,
          4,
          4,
          4,
          4,
          4.1,
          4.1,
          4.2,
          4.2,
          4.2,
          4.2,
          4.3,
          4.3,
          4.3,
          4.3,
          4.3,
          4.3,
          4.4,
          4.4,
          4.4,
          4.4,
          4.4,
          4.4,
          4.4,
          4.4,
          4.4,
          4.4,
          4.5,
          4.5,
          4.5,
          4.5,
          4.5,
          4.5,
          4.5,
          4.5,
          4.5,
          4.6,
          4.6,
          4.6,
          4.6,
          4.7,
          4.7,
          4.7,
          4.7,
          4.7,
          4.7,
          4.7,
          4.8,
          4.8,
          4.8,
          4.9,
          4.9,
          5,
          5,
          5,
          5,
          5,
          5,
          5,
          5,
          5,
          5,
          5,
          5,
          5,
          5,
          5,
          5,
          5,
          5,
          5,
          5,
          5,
          5,
          5,
          5,
          5
         ],
         "xaxis": "x",
         "y": [
          -0.5145208029643784,
          -0.5145208029643784,
          -0.5145208029643784,
          -0.5145208029643784,
          -0.5145208029643784,
          -0.5145208029643784,
          -0.5145208029643784,
          -0.5145208029643784,
          -0.5145208029643784,
          -0.5145208029643784,
          -0.5145208029643784,
          -0.5145208029643784,
          -0.16043279933179624,
          0.016611202484495026,
          0.19365520430078592,
          0.3706992061170772,
          0.3706992061170772,
          0.5477432079333685,
          0.7247872097496594,
          0.7247872097496594,
          0.9018312115659506,
          0.9018312115659506,
          1.0788752133822415,
          1.0788752133822415,
          1.0788752133822415,
          1.0788752133822415,
          1.2559192151985328,
          1.2559192151985328,
          1.2559192151985328,
          1.2559192151985328,
          1.2559192151985328,
          1.2559192151985328,
          1.2559192151985328,
          1.2559192151985328,
          1.2559192151985328,
          1.432963217014824,
          1.432963217014824,
          1.6100072188311154,
          1.6100072188311154,
          1.6100072188311154,
          1.6100072188311154,
          1.6100072188311154,
          1.6100072188311154,
          1.6100072188311154,
          1.7870512206474058,
          1.7870512206474058,
          1.9640952224636972,
          1.9640952224636972,
          1.9640952224636972,
          2.1411392242799883,
          2.1411392242799883,
          2.1411392242799883,
          2.1411392242799883,
          2.1411392242799883,
          2.1411392242799883,
          2.1411392242799883,
          2.1411392242799883,
          2.1411392242799883,
          2.1411392242799883,
          2.31818322609628,
          2.31818322609628,
          2.495227227912571,
          2.495227227912571,
          2.495227227912571,
          2.495227227912571,
          2.495227227912571,
          2.495227227912571,
          2.6722712297288616,
          2.6722712297288616,
          2.6722712297288616,
          2.6722712297288616,
          2.8493152315451526,
          2.8493152315451526,
          2.8493152315451526,
          2.8493152315451526,
          2.8493152315451526,
          2.8493152315451526,
          2.8493152315451526,
          3.026359233361444,
          3.026359233361444,
          3.026359233361444,
          3.026359233361444,
          3.026359233361444,
          3.026359233361444,
          3.026359233361444,
          3.026359233361444,
          3.026359233361444,
          3.026359233361444,
          3.2034032351777353,
          3.2034032351777353,
          3.2034032351777353,
          3.3804472369940264,
          3.3804472369940264,
          3.3804472369940264,
          3.3804472369940264,
          3.3804472369940264,
          3.3804472369940264,
          3.3804472369940264,
          3.557491238810317,
          3.557491238810317,
          3.557491238810317,
          3.557491238810317,
          3.557491238810317,
          3.557491238810317,
          3.557491238810317,
          3.557491238810317,
          3.734535240626608,
          3.734535240626608,
          3.734535240626608,
          3.734535240626608,
          3.734535240626608,
          3.734535240626608,
          3.734535240626608,
          3.9115792424428997,
          3.9115792424428997,
          3.9115792424428997,
          3.9115792424428997,
          3.9115792424428997,
          3.9115792424428997,
          3.9115792424428997,
          3.9115792424428997,
          3.9115792424428997,
          4.088623244259191,
          4.088623244259191,
          4.088623244259191,
          4.088623244259191,
          4.088623244259191,
          4.265667246075482,
          4.265667246075482,
          4.265667246075482,
          4.265667246075482,
          4.265667246075482,
          4.442711247891773,
          4.442711247891773,
          4.442711247891773,
          4.442711247891773,
          4.619755249708064,
          4.619755249708064,
          4.619755249708064,
          4.796799251524355,
          4.796799251524355,
          4.796799251524355,
          4.796799251524355,
          4.796799251524355,
          4.796799251524355,
          4.796799251524355,
          4.796799251524355,
          4.973843253340646,
          4.973843253340646,
          5.150887255156937,
          5.150887255156937,
          5.150887255156937,
          5.150887255156937,
          5.327931256973228,
          5.327931256973228,
          5.327931256973228,
          5.327931256973228,
          5.327931256973228,
          5.327931256973228,
          5.50497525878952,
          5.50497525878952,
          5.50497525878952,
          5.50497525878952,
          5.50497525878952,
          5.50497525878952,
          5.50497525878952,
          5.50497525878952,
          5.50497525878952,
          5.50497525878952,
          5.682019260605811,
          5.682019260605811,
          5.682019260605811,
          5.682019260605811,
          5.682019260605811,
          5.682019260605811,
          5.682019260605811,
          5.682019260605811,
          5.682019260605811,
          5.859063262422101,
          5.859063262422101,
          5.859063262422101,
          5.859063262422101,
          6.036107264238393,
          6.036107264238393,
          6.036107264238393,
          6.036107264238393,
          6.036107264238393,
          6.036107264238393,
          6.036107264238393,
          6.213151266054684,
          6.213151266054684,
          6.213151266054684,
          6.3901952678709755,
          6.3901952678709755,
          6.567239269687266,
          6.567239269687266,
          6.567239269687266,
          6.567239269687266,
          6.567239269687266,
          6.567239269687266,
          6.567239269687266,
          6.567239269687266,
          6.567239269687266,
          6.567239269687266,
          6.567239269687266,
          6.567239269687266,
          6.567239269687266,
          6.567239269687266,
          6.567239269687266,
          6.567239269687266,
          6.567239269687266,
          6.567239269687266,
          6.567239269687266,
          6.567239269687266,
          6.567239269687266,
          6.567239269687266,
          6.567239269687266,
          6.567239269687266,
          6.567239269687266
         ],
         "yaxis": "y"
        }
       ],
       "layout": {
        "legend": {
         "title": {
          "text": "School"
         },
         "tracegroupgap": 0
        },
        "template": {
         "data": {
          "bar": [
           {
            "error_x": {
             "color": "#2a3f5f"
            },
            "error_y": {
             "color": "#2a3f5f"
            },
            "marker": {
             "line": {
              "color": "#E5ECF6",
              "width": 0.5
             },
             "pattern": {
              "fillmode": "overlay",
              "size": 10,
              "solidity": 0.2
             }
            },
            "type": "bar"
           }
          ],
          "barpolar": [
           {
            "marker": {
             "line": {
              "color": "#E5ECF6",
              "width": 0.5
             },
             "pattern": {
              "fillmode": "overlay",
              "size": 10,
              "solidity": 0.2
             }
            },
            "type": "barpolar"
           }
          ],
          "carpet": [
           {
            "aaxis": {
             "endlinecolor": "#2a3f5f",
             "gridcolor": "white",
             "linecolor": "white",
             "minorgridcolor": "white",
             "startlinecolor": "#2a3f5f"
            },
            "baxis": {
             "endlinecolor": "#2a3f5f",
             "gridcolor": "white",
             "linecolor": "white",
             "minorgridcolor": "white",
             "startlinecolor": "#2a3f5f"
            },
            "type": "carpet"
           }
          ],
          "choropleth": [
           {
            "colorbar": {
             "outlinewidth": 0,
             "ticks": ""
            },
            "type": "choropleth"
           }
          ],
          "contour": [
           {
            "colorbar": {
             "outlinewidth": 0,
             "ticks": ""
            },
            "colorscale": [
             [
              0,
              "#0d0887"
             ],
             [
              0.1111111111111111,
              "#46039f"
             ],
             [
              0.2222222222222222,
              "#7201a8"
             ],
             [
              0.3333333333333333,
              "#9c179e"
             ],
             [
              0.4444444444444444,
              "#bd3786"
             ],
             [
              0.5555555555555556,
              "#d8576b"
             ],
             [
              0.6666666666666666,
              "#ed7953"
             ],
             [
              0.7777777777777778,
              "#fb9f3a"
             ],
             [
              0.8888888888888888,
              "#fdca26"
             ],
             [
              1,
              "#f0f921"
             ]
            ],
            "type": "contour"
           }
          ],
          "contourcarpet": [
           {
            "colorbar": {
             "outlinewidth": 0,
             "ticks": ""
            },
            "type": "contourcarpet"
           }
          ],
          "heatmap": [
           {
            "colorbar": {
             "outlinewidth": 0,
             "ticks": ""
            },
            "colorscale": [
             [
              0,
              "#0d0887"
             ],
             [
              0.1111111111111111,
              "#46039f"
             ],
             [
              0.2222222222222222,
              "#7201a8"
             ],
             [
              0.3333333333333333,
              "#9c179e"
             ],
             [
              0.4444444444444444,
              "#bd3786"
             ],
             [
              0.5555555555555556,
              "#d8576b"
             ],
             [
              0.6666666666666666,
              "#ed7953"
             ],
             [
              0.7777777777777778,
              "#fb9f3a"
             ],
             [
              0.8888888888888888,
              "#fdca26"
             ],
             [
              1,
              "#f0f921"
             ]
            ],
            "type": "heatmap"
           }
          ],
          "heatmapgl": [
           {
            "colorbar": {
             "outlinewidth": 0,
             "ticks": ""
            },
            "colorscale": [
             [
              0,
              "#0d0887"
             ],
             [
              0.1111111111111111,
              "#46039f"
             ],
             [
              0.2222222222222222,
              "#7201a8"
             ],
             [
              0.3333333333333333,
              "#9c179e"
             ],
             [
              0.4444444444444444,
              "#bd3786"
             ],
             [
              0.5555555555555556,
              "#d8576b"
             ],
             [
              0.6666666666666666,
              "#ed7953"
             ],
             [
              0.7777777777777778,
              "#fb9f3a"
             ],
             [
              0.8888888888888888,
              "#fdca26"
             ],
             [
              1,
              "#f0f921"
             ]
            ],
            "type": "heatmapgl"
           }
          ],
          "histogram": [
           {
            "marker": {
             "pattern": {
              "fillmode": "overlay",
              "size": 10,
              "solidity": 0.2
             }
            },
            "type": "histogram"
           }
          ],
          "histogram2d": [
           {
            "colorbar": {
             "outlinewidth": 0,
             "ticks": ""
            },
            "colorscale": [
             [
              0,
              "#0d0887"
             ],
             [
              0.1111111111111111,
              "#46039f"
             ],
             [
              0.2222222222222222,
              "#7201a8"
             ],
             [
              0.3333333333333333,
              "#9c179e"
             ],
             [
              0.4444444444444444,
              "#bd3786"
             ],
             [
              0.5555555555555556,
              "#d8576b"
             ],
             [
              0.6666666666666666,
              "#ed7953"
             ],
             [
              0.7777777777777778,
              "#fb9f3a"
             ],
             [
              0.8888888888888888,
              "#fdca26"
             ],
             [
              1,
              "#f0f921"
             ]
            ],
            "type": "histogram2d"
           }
          ],
          "histogram2dcontour": [
           {
            "colorbar": {
             "outlinewidth": 0,
             "ticks": ""
            },
            "colorscale": [
             [
              0,
              "#0d0887"
             ],
             [
              0.1111111111111111,
              "#46039f"
             ],
             [
              0.2222222222222222,
              "#7201a8"
             ],
             [
              0.3333333333333333,
              "#9c179e"
             ],
             [
              0.4444444444444444,
              "#bd3786"
             ],
             [
              0.5555555555555556,
              "#d8576b"
             ],
             [
              0.6666666666666666,
              "#ed7953"
             ],
             [
              0.7777777777777778,
              "#fb9f3a"
             ],
             [
              0.8888888888888888,
              "#fdca26"
             ],
             [
              1,
              "#f0f921"
             ]
            ],
            "type": "histogram2dcontour"
           }
          ],
          "mesh3d": [
           {
            "colorbar": {
             "outlinewidth": 0,
             "ticks": ""
            },
            "type": "mesh3d"
           }
          ],
          "parcoords": [
           {
            "line": {
             "colorbar": {
              "outlinewidth": 0,
              "ticks": ""
             }
            },
            "type": "parcoords"
           }
          ],
          "pie": [
           {
            "automargin": true,
            "type": "pie"
           }
          ],
          "scatter": [
           {
            "fillpattern": {
             "fillmode": "overlay",
             "size": 10,
             "solidity": 0.2
            },
            "type": "scatter"
           }
          ],
          "scatter3d": [
           {
            "line": {
             "colorbar": {
              "outlinewidth": 0,
              "ticks": ""
             }
            },
            "marker": {
             "colorbar": {
              "outlinewidth": 0,
              "ticks": ""
             }
            },
            "type": "scatter3d"
           }
          ],
          "scattercarpet": [
           {
            "marker": {
             "colorbar": {
              "outlinewidth": 0,
              "ticks": ""
             }
            },
            "type": "scattercarpet"
           }
          ],
          "scattergeo": [
           {
            "marker": {
             "colorbar": {
              "outlinewidth": 0,
              "ticks": ""
             }
            },
            "type": "scattergeo"
           }
          ],
          "scattergl": [
           {
            "marker": {
             "colorbar": {
              "outlinewidth": 0,
              "ticks": ""
             }
            },
            "type": "scattergl"
           }
          ],
          "scattermapbox": [
           {
            "marker": {
             "colorbar": {
              "outlinewidth": 0,
              "ticks": ""
             }
            },
            "type": "scattermapbox"
           }
          ],
          "scatterpolar": [
           {
            "marker": {
             "colorbar": {
              "outlinewidth": 0,
              "ticks": ""
             }
            },
            "type": "scatterpolar"
           }
          ],
          "scatterpolargl": [
           {
            "marker": {
             "colorbar": {
              "outlinewidth": 0,
              "ticks": ""
             }
            },
            "type": "scatterpolargl"
           }
          ],
          "scatterternary": [
           {
            "marker": {
             "colorbar": {
              "outlinewidth": 0,
              "ticks": ""
             }
            },
            "type": "scatterternary"
           }
          ],
          "surface": [
           {
            "colorbar": {
             "outlinewidth": 0,
             "ticks": ""
            },
            "colorscale": [
             [
              0,
              "#0d0887"
             ],
             [
              0.1111111111111111,
              "#46039f"
             ],
             [
              0.2222222222222222,
              "#7201a8"
             ],
             [
              0.3333333333333333,
              "#9c179e"
             ],
             [
              0.4444444444444444,
              "#bd3786"
             ],
             [
              0.5555555555555556,
              "#d8576b"
             ],
             [
              0.6666666666666666,
              "#ed7953"
             ],
             [
              0.7777777777777778,
              "#fb9f3a"
             ],
             [
              0.8888888888888888,
              "#fdca26"
             ],
             [
              1,
              "#f0f921"
             ]
            ],
            "type": "surface"
           }
          ],
          "table": [
           {
            "cells": {
             "fill": {
              "color": "#EBF0F8"
             },
             "line": {
              "color": "white"
             }
            },
            "header": {
             "fill": {
              "color": "#C8D4E3"
             },
             "line": {
              "color": "white"
             }
            },
            "type": "table"
           }
          ]
         },
         "layout": {
          "annotationdefaults": {
           "arrowcolor": "#2a3f5f",
           "arrowhead": 0,
           "arrowwidth": 1
          },
          "autotypenumbers": "strict",
          "coloraxis": {
           "colorbar": {
            "outlinewidth": 0,
            "ticks": ""
           }
          },
          "colorscale": {
           "diverging": [
            [
             0,
             "#8e0152"
            ],
            [
             0.1,
             "#c51b7d"
            ],
            [
             0.2,
             "#de77ae"
            ],
            [
             0.3,
             "#f1b6da"
            ],
            [
             0.4,
             "#fde0ef"
            ],
            [
             0.5,
             "#f7f7f7"
            ],
            [
             0.6,
             "#e6f5d0"
            ],
            [
             0.7,
             "#b8e186"
            ],
            [
             0.8,
             "#7fbc41"
            ],
            [
             0.9,
             "#4d9221"
            ],
            [
             1,
             "#276419"
            ]
           ],
           "sequential": [
            [
             0,
             "#0d0887"
            ],
            [
             0.1111111111111111,
             "#46039f"
            ],
            [
             0.2222222222222222,
             "#7201a8"
            ],
            [
             0.3333333333333333,
             "#9c179e"
            ],
            [
             0.4444444444444444,
             "#bd3786"
            ],
            [
             0.5555555555555556,
             "#d8576b"
            ],
            [
             0.6666666666666666,
             "#ed7953"
            ],
            [
             0.7777777777777778,
             "#fb9f3a"
            ],
            [
             0.8888888888888888,
             "#fdca26"
            ],
            [
             1,
             "#f0f921"
            ]
           ],
           "sequentialminus": [
            [
             0,
             "#0d0887"
            ],
            [
             0.1111111111111111,
             "#46039f"
            ],
            [
             0.2222222222222222,
             "#7201a8"
            ],
            [
             0.3333333333333333,
             "#9c179e"
            ],
            [
             0.4444444444444444,
             "#bd3786"
            ],
            [
             0.5555555555555556,
             "#d8576b"
            ],
            [
             0.6666666666666666,
             "#ed7953"
            ],
            [
             0.7777777777777778,
             "#fb9f3a"
            ],
            [
             0.8888888888888888,
             "#fdca26"
            ],
            [
             1,
             "#f0f921"
            ]
           ]
          },
          "colorway": [
           "#636efa",
           "#EF553B",
           "#00cc96",
           "#ab63fa",
           "#FFA15A",
           "#19d3f3",
           "#FF6692",
           "#B6E880",
           "#FF97FF",
           "#FECB52"
          ],
          "font": {
           "color": "#2a3f5f"
          },
          "geo": {
           "bgcolor": "white",
           "lakecolor": "white",
           "landcolor": "#E5ECF6",
           "showlakes": true,
           "showland": true,
           "subunitcolor": "white"
          },
          "hoverlabel": {
           "align": "left"
          },
          "hovermode": "closest",
          "mapbox": {
           "style": "light"
          },
          "paper_bgcolor": "white",
          "plot_bgcolor": "#E5ECF6",
          "polar": {
           "angularaxis": {
            "gridcolor": "white",
            "linecolor": "white",
            "ticks": ""
           },
           "bgcolor": "#E5ECF6",
           "radialaxis": {
            "gridcolor": "white",
            "linecolor": "white",
            "ticks": ""
           }
          },
          "scene": {
           "xaxis": {
            "backgroundcolor": "#E5ECF6",
            "gridcolor": "white",
            "gridwidth": 2,
            "linecolor": "white",
            "showbackground": true,
            "ticks": "",
            "zerolinecolor": "white"
           },
           "yaxis": {
            "backgroundcolor": "#E5ECF6",
            "gridcolor": "white",
            "gridwidth": 2,
            "linecolor": "white",
            "showbackground": true,
            "ticks": "",
            "zerolinecolor": "white"
           },
           "zaxis": {
            "backgroundcolor": "#E5ECF6",
            "gridcolor": "white",
            "gridwidth": 2,
            "linecolor": "white",
            "showbackground": true,
            "ticks": "",
            "zerolinecolor": "white"
           }
          },
          "shapedefaults": {
           "line": {
            "color": "#2a3f5f"
           }
          },
          "ternary": {
           "aaxis": {
            "gridcolor": "white",
            "linecolor": "white",
            "ticks": ""
           },
           "baxis": {
            "gridcolor": "white",
            "linecolor": "white",
            "ticks": ""
           },
           "bgcolor": "#E5ECF6",
           "caxis": {
            "gridcolor": "white",
            "linecolor": "white",
            "ticks": ""
           }
          },
          "title": {
           "x": 0.05
          },
          "xaxis": {
           "automargin": true,
           "gridcolor": "white",
           "linecolor": "white",
           "ticks": "",
           "title": {
            "standoff": 15
           },
           "zerolinecolor": "white",
           "zerolinewidth": 2
          },
          "yaxis": {
           "automargin": true,
           "gridcolor": "white",
           "linecolor": "white",
           "ticks": "",
           "title": {
            "standoff": 15
           },
           "zerolinecolor": "white",
           "zerolinewidth": 2
          }
         }
        },
        "title": {
         "text": "Average Rating vs Positive/Negative Sentiment Ratio"
        },
        "xaxis": {
         "anchor": "y",
         "domain": [
          0,
          1
         ],
         "title": {
          "text": "Average Rating"
         }
        },
        "yaxis": {
         "anchor": "x",
         "domain": [
          0,
          1
         ],
         "title": {
          "text": "Positive/Negative Sentiment Ratio"
         }
        }
       }
      }
     },
     "metadata": {},
     "output_type": "display_data"
    }
   ],
   "source": [
    "\n",
    "\n",
    "# Function to calculate Positive/Negative Sentiment Ratio\n",
    "def sentiment_ratio(sentiments):\n",
    "    positive_count = sentiments.count('Positive')\n",
    "    negative_count = sentiments.count('Negative')\n",
    "    if negative_count == 0:\n",
    "        return positive_count  # To avoid division by zero, return the positive count if no negative sentiments\n",
    "    return positive_count / negative_count\n",
    "\n",
    "# Apply the function to calculate the ratio for each professor\n",
    "df_all['Pos_Neg_Ratio'] = df_all['Sentiment'].apply(sentiment_ratio)\n",
    "df_all['Average Rating'] = df_all['Average Rating'].astype(float)\n",
    "\n",
    "# Create scatter plot: Average Rating vs Positive/Negative Sentiment Ratio\n",
    "fig = px.scatter(df_all, x='Average Rating', y='Pos_Neg_Ratio', \n",
    "                 title=\"Average Rating vs Positive/Negative Sentiment Ratio\",\n",
    "                 labels={\"Average Rating\": \"Average Rating\", \"Pos_Neg_Ratio\": \"Positive/Negative Sentiment Ratio\"},\n",
    "                 color = 'School',\n",
    "                 hover_data=['Professor'],\n",
    "                 trendline=\"ols\",  # Ordinary least squares regression (line of best fit)\n",
    "                 trendline_scope=\"overall\")  # Adding professor as hover data for context\n",
    "fig.show()\n"
   ]
  },
  {
   "cell_type": "code",
   "execution_count": 50,
   "metadata": {},
   "outputs": [],
   "source": [
    "df_all.to_csv(\"uc_rmp_reviews.csv\", index=False)"
   ]
  }
 ],
 "metadata": {
  "kernelspec": {
   "display_name": "base",
   "language": "python",
   "name": "python3"
  },
  "language_info": {
   "codemirror_mode": {
    "name": "ipython",
    "version": 3
   },
   "file_extension": ".py",
   "mimetype": "text/x-python",
   "name": "python",
   "nbconvert_exporter": "python",
   "pygments_lexer": "ipython3",
   "version": "3.11.5"
  }
 },
 "nbformat": 4,
 "nbformat_minor": 2
}
